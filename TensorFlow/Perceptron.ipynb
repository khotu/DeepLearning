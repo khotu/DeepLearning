{
 "cells": [
  {
   "cell_type": "code",
   "execution_count": 1,
   "metadata": {},
   "outputs": [],
   "source": [
    "import tensorflow as tf\n",
    "import numpy as np"
   ]
  },
  {
   "cell_type": "code",
   "execution_count": 2,
   "metadata": {},
   "outputs": [
    {
     "data": {
      "text/plain": [
       "array([[13.50112288, 21.9512615 , 15.07824387, 17.5739252 , 12.64937571],\n",
       "       [19.54522274, 24.18182865, 16.80143629, 21.49488774, 10.84917539],\n",
       "       [11.39006586, 12.54395938, 13.71069482, 11.49904066, 11.63276173],\n",
       "       [24.95642074, 14.26769344, 11.92684659, 19.79060229, 24.44950903],\n",
       "       [13.07981308, 21.20546286, 23.94612991, 12.06712276, 17.25406607]])"
      ]
     },
     "execution_count": 2,
     "metadata": {},
     "output_type": "execute_result"
    }
   ],
   "source": [
    "rand_a= np.random.uniform(low=10, high=25, size=(5,5))\n",
    "rand_a"
   ]
  },
  {
   "cell_type": "code",
   "execution_count": 3,
   "metadata": {},
   "outputs": [
    {
     "data": {
      "text/plain": [
       "array([[6.59660521],\n",
       "       [9.12873688],\n",
       "       [8.51620592],\n",
       "       [7.30887697],\n",
       "       [6.01334365]])"
      ]
     },
     "execution_count": 3,
     "metadata": {},
     "output_type": "execute_result"
    }
   ],
   "source": [
    "rnd_b = np.random.uniform(low=5, high=10, size=(5,1))\n",
    "rnd_b"
   ]
  },
  {
   "cell_type": "code",
   "execution_count": 5,
   "metadata": {},
   "outputs": [],
   "source": [
    "a = tf.placeholder(dtype=tf.float32, )\n",
    "b = tf.placeholder(dtype=tf.float32, )\n",
    "\n",
    "add = a+b\n",
    "mul = a*b"
   ]
  },
  {
   "cell_type": "code",
   "execution_count": 7,
   "metadata": {},
   "outputs": [
    {
     "name": "stdout",
     "output_type": "stream",
     "text": [
      "[[20.097729 28.547867 21.67485  24.17053  19.245981]\n",
      " [28.67396  33.310566 25.930172 30.623625 19.977913]\n",
      " [19.906273 21.060165 22.226902 20.015247 20.148968]\n",
      " [32.265297 21.57657  19.235723 27.09948  31.758385]\n",
      " [19.093157 27.218807 29.959475 18.080467 23.26741 ]]\n",
      "\n",
      "[[ 89.06158  144.8038    99.465225 115.928246  83.44294 ]\n",
      " [178.42319  220.74954  153.37587  196.22118   99.03926 ]\n",
      " [ 97.000145 106.82694  116.7631    97.9282    99.06699 ]\n",
      " [182.40341  104.280815  87.17185  144.64708  178.69846 ]\n",
      " [ 78.65341  127.51574  143.99632   72.56376  103.75463 ]]\n"
     ]
    }
   ],
   "source": [
    "with tf.Session() as sess:\n",
    "    result_add = sess.run(add, feed_dict={a:rand_a, b:rnd_b})   ### single preceptron for adding two input\n",
    "    print(result_add)\n",
    "    print()\n",
    "    result_mul = sess.run(mul, feed_dict={a:rand_a, b:rnd_b})    \n",
    "    print(result_mul)"
   ]
  },
  {
   "cell_type": "code",
   "execution_count": null,
   "metadata": {},
   "outputs": [],
   "source": []
  },
  {
   "cell_type": "markdown",
   "metadata": {},
   "source": [
    "## y = mx+c "
   ]
  },
  {
   "cell_type": "code",
   "execution_count": 9,
   "metadata": {},
   "outputs": [
    {
     "data": {
      "text/plain": [
       "<tf.Tensor 'random_normal_1:0' shape=(5, 3) dtype=float32>"
      ]
     },
     "execution_count": 9,
     "metadata": {},
     "output_type": "execute_result"
    }
   ],
   "source": [
    "x = tf.random_normal(shape=(5,3), mean=1, stddev=1, dtype=tf.float32)\n",
    "x"
   ]
  },
  {
   "cell_type": "code",
   "execution_count": 17,
   "metadata": {},
   "outputs": [
    {
     "data": {
      "text/plain": [
       "<tf.Tensor 'random_uniform_3:0' shape=(5, 1) dtype=float32>"
      ]
     },
     "execution_count": 17,
     "metadata": {},
     "output_type": "execute_result"
    }
   ],
   "source": [
    "m  = tf.random_uniform(shape=(5,1), dtype=tf.float32)\n",
    "m"
   ]
  },
  {
   "cell_type": "code",
   "execution_count": 22,
   "metadata": {},
   "outputs": [
    {
     "data": {
      "text/plain": [
       "<tf.Tensor 'random_uniform_5:0' shape=(5, 1) dtype=float32>"
      ]
     },
     "execution_count": 22,
     "metadata": {},
     "output_type": "execute_result"
    }
   ],
   "source": [
    "c = tf.random_uniform(shape=(5,1), dtype=tf.float32)\n",
    "c"
   ]
  },
  {
   "cell_type": "code",
   "execution_count": 32,
   "metadata": {
    "collapsed": true
   },
   "outputs": [
    {
     "name": "stdout",
     "output_type": "stream",
     "text": [
      "[[ 1.67042263  1.50071385 -0.35194172]\n",
      " [ 0.5114101   0.3507018   0.95280711]\n",
      " [-0.18219647  2.49352553  0.24459305]\n",
      " [-1.23910764  2.26091868  0.41980797]\n",
      " [ 1.35732253  1.45536585  0.61241434]] \n",
      "\n",
      " [[9.97739708]\n",
      " [5.24982549]\n",
      " [9.45652508]\n",
      " [9.41274633]\n",
      " [9.68774558]] \n",
      "\n",
      " [[9.04843104]\n",
      " [8.00361663]\n",
      " [6.89652244]\n",
      " [5.76701251]\n",
      " [7.37664773]]\n"
     ]
    }
   ],
   "source": [
    "# x = np.random.normal(loc=1, scale=1, size=(5,3))\n",
    "# m = np.random.uniform(low=5, high=10, size=(5,1))\n",
    "# c = np.random.uniform(low=5, high=10, size=(5,1))\n",
    "# print(x, '\\n\\n', m, '\\n\\n', c )"
   ]
  },
  {
   "cell_type": "code",
   "execution_count": 33,
   "metadata": {},
   "outputs": [],
   "source": [
    "## create placeholder\n",
    "X = tf.placeholder(dtype=tf.float32)\n",
    "M = tf.placeholder(dtype=tf.float32)\n",
    "C = tf.placeholder(dtype=tf.float32)\n",
    "\n",
    "Y = M * X + C"
   ]
  },
  {
   "cell_type": "code",
   "execution_count": 34,
   "metadata": {},
   "outputs": [
    {
     "name": "stdout",
     "output_type": "stream",
     "text": [
      "[[25.714901  24.021648   5.536969 ]\n",
      " [10.688431   9.84474   13.005688 ]\n",
      " [ 5.1735773 30.476608   9.209522 ]\n",
      " [-5.896393  27.048466   9.718558 ]\n",
      " [20.526043  21.475864  13.309563 ]]\n"
     ]
    }
   ],
   "source": [
    "with tf.Session() as sess:\n",
    "    y_Cal = sess.run(Y, feed_dict={M:m, X:x, C:c})\n",
    "    print(y_Cal)"
   ]
  },
  {
   "cell_type": "code",
   "execution_count": null,
   "metadata": {},
   "outputs": [],
   "source": []
  },
  {
   "cell_type": "markdown",
   "metadata": {},
   "source": [
    "## Single layer Neural Network"
   ]
  },
  {
   "cell_type": "code",
   "execution_count": 41,
   "metadata": {},
   "outputs": [],
   "source": [
    "Number_Of_Features = 10\n",
    "Number_Of_Dense_Neuron = 3"
   ]
  },
  {
   "cell_type": "code",
   "execution_count": 39,
   "metadata": {},
   "outputs": [],
   "source": [
    "# make a tensor placeholder for Training Data"
   ]
  },
  {
   "cell_type": "code",
   "execution_count": 42,
   "metadata": {},
   "outputs": [],
   "source": [
    "x = tf.placeholder(dtype=tf.float32, shape=(None,Number_Of_Features))"
   ]
  },
  {
   "cell_type": "code",
   "execution_count": 43,
   "metadata": {},
   "outputs": [],
   "source": [
    "### create two tensor variable for holding Weight and Bias"
   ]
  },
  {
   "cell_type": "code",
   "execution_count": 53,
   "metadata": {},
   "outputs": [
    {
     "data": {
      "text/plain": [
       "<tf.Variable 'Variable_6:0' shape=(3,) dtype=float32_ref>"
      ]
     },
     "execution_count": 53,
     "metadata": {},
     "output_type": "execute_result"
    }
   ],
   "source": [
    "b = tf.Variable(initial_value = np.ones(shape=(Number_Of_Dense_Neuron)), dtype=tf.float32)\n",
    "b"
   ]
  },
  {
   "cell_type": "code",
   "execution_count": 51,
   "metadata": {},
   "outputs": [
    {
     "data": {
      "text/plain": [
       "<tf.Variable 'Variable_5:0' shape=(10, 3) dtype=float32_ref>"
      ]
     },
     "execution_count": 51,
     "metadata": {},
     "output_type": "execute_result"
    }
   ],
   "source": [
    "w = tf.Variable(initial_value = np.random.normal(size=(Number_Of_Features,Number_Of_Dense_Neuron)),dtype=tf.float32)\n",
    "w"
   ]
  },
  {
   "cell_type": "code",
   "execution_count": 52,
   "metadata": {},
   "outputs": [
    {
     "data": {
      "text/plain": [
       "<tf.Tensor 'MatMul_1:0' shape=(?, 3) dtype=float32>"
      ]
     },
     "execution_count": 52,
     "metadata": {},
     "output_type": "execute_result"
    }
   ],
   "source": [
    "wx = tf.matmul(x,w)\n",
    "wx"
   ]
  },
  {
   "cell_type": "code",
   "execution_count": 54,
   "metadata": {},
   "outputs": [],
   "source": [
    "## As we know Linear Equation y =wx+b"
   ]
  },
  {
   "cell_type": "code",
   "execution_count": 56,
   "metadata": {},
   "outputs": [
    {
     "data": {
      "text/plain": [
       "<tf.Tensor 'add_8:0' shape=(?, 3) dtype=float32>"
      ]
     },
     "execution_count": 56,
     "metadata": {},
     "output_type": "execute_result"
    }
   ],
   "source": [
    "y = wx + b\n",
    "y"
   ]
  },
  {
   "cell_type": "code",
   "execution_count": 57,
   "metadata": {},
   "outputs": [],
   "source": [
    "## Add Activation function"
   ]
  },
  {
   "cell_type": "code",
   "execution_count": 58,
   "metadata": {},
   "outputs": [],
   "source": [
    "activation_function = tf.sigmoid(y)"
   ]
  },
  {
   "cell_type": "code",
   "execution_count": null,
   "metadata": {
    "collapsed": true
   },
   "outputs": [],
   "source": [
    "x = np.random.normal()"
   ]
  },
  {
   "cell_type": "code",
   "execution_count": 60,
   "metadata": {},
   "outputs": [],
   "source": [
    "## initialize the variable\n",
    "init = tf.global_variables_initializer()"
   ]
  },
  {
   "cell_type": "code",
   "execution_count": 61,
   "metadata": {},
   "outputs": [],
   "source": [
    "with tf.Session() as sess:\n",
    "    sess.run(init)\n",
    "    result = sess.run(activation_function, feed_dict={x:np.random.randint(low=1, high=5, size=(1,Number_Of_Features))})"
   ]
  },
  {
   "cell_type": "code",
   "execution_count": 62,
   "metadata": {},
   "outputs": [
    {
     "name": "stdout",
     "output_type": "stream",
     "text": [
      "[[0.03052617 0.907252   0.99996686]]\n"
     ]
    }
   ],
   "source": [
    "print(result)"
   ]
  },
  {
   "cell_type": "code",
   "execution_count": null,
   "metadata": {},
   "outputs": [],
   "source": []
  }
 ],
 "metadata": {
  "kernelspec": {
   "display_name": "Python 3",
   "language": "python",
   "name": "python3"
  },
  "language_info": {
   "codemirror_mode": {
    "name": "ipython",
    "version": 3
   },
   "file_extension": ".py",
   "mimetype": "text/x-python",
   "name": "python",
   "nbconvert_exporter": "python",
   "pygments_lexer": "ipython3",
   "version": "3.7.6"
  }
 },
 "nbformat": 4,
 "nbformat_minor": 2
}
