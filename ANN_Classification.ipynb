{
  "nbformat": 4,
  "nbformat_minor": 0,
  "metadata": {
    "colab": {
      "name": "ANN_Classification.ipynb",
      "provenance": [],
      "authorship_tag": "ABX9TyPUmg0TKvzHweR2qfV1N12Z",
      "include_colab_link": true
    },
    "kernelspec": {
      "name": "python3",
      "display_name": "Python 3"
    }
  },
  "cells": [
    {
      "cell_type": "markdown",
      "metadata": {
        "id": "view-in-github",
        "colab_type": "text"
      },
      "source": [
        "<a href=\"https://colab.research.google.com/github/khotu/DeepLearning/blob/master/ANN_Classification.ipynb\" target=\"_parent\"><img src=\"https://colab.research.google.com/assets/colab-badge.svg\" alt=\"Open In Colab\"/></a>"
      ]
    },
    {
      "cell_type": "code",
      "metadata": {
        "id": "TShv-LUbJmNY",
        "colab_type": "code",
        "colab": {}
      },
      "source": [
        "from sklearn.datasets import load_breast_cancer\n",
        "import pandas as pd\n",
        "import numpy as np\n",
        "import io"
      ],
      "execution_count": 0,
      "outputs": []
    },
    {
      "cell_type": "code",
      "metadata": {
        "id": "Txo5JHCpJPyM",
        "colab_type": "code",
        "colab": {
          "resources": {
            "http://localhost:8080/nbextensions/google.colab/files.js": {
              "data": "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",
              "ok": true,
              "headers": [
                [
                  "content-type",
                  "application/javascript"
                ]
              ],
              "status": 200,
              "status_text": ""
            }
          },
          "base_uri": "https://localhost:8080/",
          "height": 74
        },
        "outputId": "b15e61d8-5448-471b-f41b-2a6046e51e6c"
      },
      "source": [
        "from google.colab import files\n",
        "\n",
        "uploaded = files.upload()\n",
        "\n",
        "for fn in uploaded.keys():\n",
        "  print('User uploaded file \"{name}\" with length {length} bytes'.format(\n",
        "      name=fn, length=len(uploaded[fn])))"
      ],
      "execution_count": 11,
      "outputs": [
        {
          "output_type": "display_data",
          "data": {
            "text/html": [
              "\n",
              "     <input type=\"file\" id=\"files-5214b3e4-c28c-465b-a69d-809e66b86718\" name=\"files[]\" multiple disabled />\n",
              "     <output id=\"result-5214b3e4-c28c-465b-a69d-809e66b86718\">\n",
              "      Upload widget is only available when the cell has been executed in the\n",
              "      current browser session. Please rerun this cell to enable.\n",
              "      </output>\n",
              "      <script src=\"/nbextensions/google.colab/files.js\"></script> "
            ],
            "text/plain": [
              "<IPython.core.display.HTML object>"
            ]
          },
          "metadata": {
            "tags": []
          }
        },
        {
          "output_type": "stream",
          "text": [
            "Saving Breast_Cancer.data to Breast_Cancer.data\n",
            "User uploaded file \"Breast_Cancer.data\" with length 124103 bytes\n"
          ],
          "name": "stdout"
        }
      ]
    },
    {
      "cell_type": "code",
      "metadata": {
        "id": "PqhoK15zPhwH",
        "colab_type": "code",
        "colab": {}
      },
      "source": [
        "# pd.read_csv(io.StringIO(uploaded[\"Breast_Cancer.data\"].decode('utf-8')), header=None)"
      ],
      "execution_count": 0,
      "outputs": []
    },
    {
      "cell_type": "code",
      "metadata": {
        "id": "Fk1b3DJ4J_x6",
        "colab_type": "code",
        "colab": {}
      },
      "source": [
        "data, targets = load_breast_cancer(True)"
      ],
      "execution_count": 0,
      "outputs": []
    },
    {
      "cell_type": "code",
      "metadata": {
        "id": "aT7SrJ3AKMkX",
        "colab_type": "code",
        "colab": {
          "base_uri": "https://localhost:8080/",
          "height": 34
        },
        "outputId": "b4df60a8-f873-4fd4-f0cf-97521ada61bf"
      },
      "source": [
        "data.shape"
      ],
      "execution_count": 22,
      "outputs": [
        {
          "output_type": "execute_result",
          "data": {
            "text/plain": [
              "(569, 30)"
            ]
          },
          "metadata": {
            "tags": []
          },
          "execution_count": 22
        }
      ]
    },
    {
      "cell_type": "code",
      "metadata": {
        "id": "oOARJct9Kmx8",
        "colab_type": "code",
        "colab": {
          "base_uri": "https://localhost:8080/",
          "height": 136
        },
        "outputId": "0efd6675-d5af-4192-8f86-fdc518b8853f"
      },
      "source": [
        "print(data)"
      ],
      "execution_count": 23,
      "outputs": [
        {
          "output_type": "stream",
          "text": [
            "[[1.799e+01 1.038e+01 1.228e+02 ... 2.654e-01 4.601e-01 1.189e-01]\n",
            " [2.057e+01 1.777e+01 1.329e+02 ... 1.860e-01 2.750e-01 8.902e-02]\n",
            " [1.969e+01 2.125e+01 1.300e+02 ... 2.430e-01 3.613e-01 8.758e-02]\n",
            " ...\n",
            " [1.660e+01 2.808e+01 1.083e+02 ... 1.418e-01 2.218e-01 7.820e-02]\n",
            " [2.060e+01 2.933e+01 1.401e+02 ... 2.650e-01 4.087e-01 1.240e-01]\n",
            " [7.760e+00 2.454e+01 4.792e+01 ... 0.000e+00 2.871e-01 7.039e-02]]\n"
          ],
          "name": "stdout"
        }
      ]
    },
    {
      "cell_type": "code",
      "metadata": {
        "id": "RjEVo_yvLUeq",
        "colab_type": "code",
        "colab": {
          "base_uri": "https://localhost:8080/",
          "height": 289
        },
        "outputId": "483b7e09-b4d2-465f-80a9-9f7b8f6365a5"
      },
      "source": [
        "print(targets)"
      ],
      "execution_count": 24,
      "outputs": [
        {
          "output_type": "stream",
          "text": [
            "[0 0 0 0 0 0 0 0 0 0 0 0 0 0 0 0 0 0 0 1 1 1 0 0 0 0 0 0 0 0 0 0 0 0 0 0 0\n",
            " 1 0 0 0 0 0 0 0 0 1 0 1 1 1 1 1 0 0 1 0 0 1 1 1 1 0 1 0 0 1 1 1 1 0 1 0 0\n",
            " 1 0 1 0 0 1 1 1 0 0 1 0 0 0 1 1 1 0 1 1 0 0 1 1 1 0 0 1 1 1 1 0 1 1 0 1 1\n",
            " 1 1 1 1 1 1 0 0 0 1 0 0 1 1 1 0 0 1 0 1 0 0 1 0 0 1 1 0 1 1 0 1 1 1 1 0 1\n",
            " 1 1 1 1 1 1 1 1 0 1 1 1 1 0 0 1 0 1 1 0 0 1 1 0 0 1 1 1 1 0 1 1 0 0 0 1 0\n",
            " 1 0 1 1 1 0 1 1 0 0 1 0 0 0 0 1 0 0 0 1 0 1 0 1 1 0 1 0 0 0 0 1 1 0 0 1 1\n",
            " 1 0 1 1 1 1 1 0 0 1 1 0 1 1 0 0 1 0 1 1 1 1 0 1 1 1 1 1 0 1 0 0 0 0 0 0 0\n",
            " 0 0 0 0 0 0 0 1 1 1 1 1 1 0 1 0 1 1 0 1 1 0 1 0 0 1 1 1 1 1 1 1 1 1 1 1 1\n",
            " 1 0 1 1 0 1 0 1 1 1 1 1 1 1 1 1 1 1 1 1 1 0 1 1 1 0 1 0 1 1 1 1 0 0 0 1 1\n",
            " 1 1 0 1 0 1 0 1 1 1 0 1 1 1 1 1 1 1 0 0 0 1 1 1 1 1 1 1 1 1 1 1 0 0 1 0 0\n",
            " 0 1 0 0 1 1 1 1 1 0 1 1 1 1 1 0 1 1 1 0 1 1 0 0 1 1 1 1 1 1 0 1 1 1 1 1 1\n",
            " 1 0 1 1 1 1 1 0 1 1 0 1 1 1 1 1 1 1 1 1 1 1 1 0 1 0 0 1 0 1 1 1 1 1 0 1 1\n",
            " 0 1 0 1 1 0 1 0 1 1 1 1 1 1 1 1 0 0 1 1 1 1 1 1 0 1 1 1 1 1 1 1 1 1 1 0 1\n",
            " 1 1 1 1 1 1 0 1 0 1 1 0 1 1 1 1 1 0 0 1 0 1 0 1 1 1 1 1 0 1 1 0 1 0 1 0 0\n",
            " 1 1 1 0 1 1 1 1 1 1 1 1 1 1 1 0 1 0 0 1 1 1 1 1 1 1 1 1 1 1 1 1 1 1 1 1 1\n",
            " 1 1 1 1 1 1 1 0 0 0 0 0 0 1]\n"
          ],
          "name": "stdout"
        }
      ]
    },
    {
      "cell_type": "code",
      "metadata": {
        "id": "YGw-f5WcLYgk",
        "colab_type": "code",
        "colab": {
          "base_uri": "https://localhost:8080/",
          "height": 68
        },
        "outputId": "a7c36e39-1fa0-40ad-85a9-2d5c9d8dc2a8"
      },
      "source": [
        "pd.Series(targets).value_counts()"
      ],
      "execution_count": 27,
      "outputs": [
        {
          "output_type": "execute_result",
          "data": {
            "text/plain": [
              "1    357\n",
              "0    212\n",
              "dtype: int64"
            ]
          },
          "metadata": {
            "tags": []
          },
          "execution_count": 27
        }
      ]
    },
    {
      "cell_type": "code",
      "metadata": {
        "id": "OFJe5f-aRWVf",
        "colab_type": "code",
        "colab": {}
      },
      "source": [
        "import seaborn as sns\n",
        "from sklearn.model_selection import train_test_split\n",
        "from sklearn.preprocessing import StandardScaler\n",
        "from sklearn.metrics import accuracy_score"
      ],
      "execution_count": 0,
      "outputs": []
    },
    {
      "cell_type": "code",
      "metadata": {
        "id": "WLCoCPNKSb3Y",
        "colab_type": "code",
        "colab": {
          "base_uri": "https://localhost:8080/",
          "height": 282
        },
        "outputId": "8b1e0294-35e2-4949-87f9-61e30487b5d1"
      },
      "source": [
        "sns.countplot(pd.Series(targets), label = \"Counts\")"
      ],
      "execution_count": 31,
      "outputs": [
        {
          "output_type": "execute_result",
          "data": {
            "text/plain": [
              "<matplotlib.axes._subplots.AxesSubplot at 0x7f1ba0fb0160>"
            ]
          },
          "metadata": {
            "tags": []
          },
          "execution_count": 31
        },
        {
          "output_type": "display_data",
          "data": {
            "image/png": "[encoded data removed]",
            "text/plain": [
              "<Figure size 432x288 with 1 Axes>"
            ]
          },
          "metadata": {
            "tags": []
          }
        }
      ]
    },
    {
      "cell_type": "code",
      "metadata": {
        "id": "bdKMJ5rCSlEU",
        "colab_type": "code",
        "colab": {
          "base_uri": "https://localhost:8080/",
          "height": 34
        },
        "outputId": "11ec7c42-78e3-4f5b-bf23-a84d1b770620"
      },
      "source": [
        "train_x, test_x, train_y, test_y  = train_test_split(data, targets, test_size = 0.1, random_state = 27)\n",
        "train_x.shape"
      ],
      "execution_count": 45,
      "outputs": [
        {
          "output_type": "execute_result",
          "data": {
            "text/plain": [
              "(512, 30)"
            ]
          },
          "metadata": {
            "tags": []
          },
          "execution_count": 45
        }
      ]
    },
    {
      "cell_type": "code",
      "metadata": {
        "id": "YIHKUOrFULxF",
        "colab_type": "code",
        "colab": {}
      },
      "source": [
        "ss = StandardScaler()"
      ],
      "execution_count": 0,
      "outputs": []
    },
    {
      "cell_type": "code",
      "metadata": {
        "id": "eDgxxqtxUUWb",
        "colab_type": "code",
        "colab": {}
      },
      "source": [
        "train_x = ss.fit_transform(train_x)\n",
        "test_x = ss.transform(test_x)"
      ],
      "execution_count": 0,
      "outputs": []
    },
    {
      "cell_type": "code",
      "metadata": {
        "id": "XTbgYU6wUfBI",
        "colab_type": "code",
        "colab": {}
      },
      "source": [
        "import keras\n",
        "from keras.models import  Sequential\n",
        "from keras.layers import Dense\n",
        "import warnings\n",
        "warnings.filterwarnings('ignore')"
      ],
      "execution_count": 0,
      "outputs": []
    },
    {
      "cell_type": "code",
      "metadata": {
        "id": "WH1ibHypUlqS",
        "colab_type": "code",
        "colab": {}
      },
      "source": [
        "classifier = Sequential()"
      ],
      "execution_count": 0,
      "outputs": []
    },
    {
      "cell_type": "code",
      "metadata": {
        "id": "cpczF4jbVlpk",
        "colab_type": "code",
        "colab": {}
      },
      "source": [
        "classifier.add(Dense(output_dim = 16, activation='relu', kernel_initializer='uniform', input_dim= 30,use_bias=True))"
      ],
      "execution_count": 0,
      "outputs": []
    },
    {
      "cell_type": "code",
      "metadata": {
        "id": "5RjraexreM45",
        "colab_type": "code",
        "colab": {}
      },
      "source": [
        "classifier.add(Dense(output_dim = 16, activation='relu', kernel_initializer='uniform',use_bias=True))\n"
      ],
      "execution_count": 0,
      "outputs": []
    },
    {
      "cell_type": "code",
      "metadata": {
        "id": "41qJM2pxeoiB",
        "colab_type": "code",
        "colab": {}
      },
      "source": [
        "classifier.add(Dense(output_dim = 16, activation='relu', kernel_initializer='uniform',use_bias=True))\n"
      ],
      "execution_count": 0,
      "outputs": []
    },
    {
      "cell_type": "code",
      "metadata": {
        "id": "0dNKc2GberlF",
        "colab_type": "code",
        "colab": {}
      },
      "source": [
        "classifier.add(Dense(output_dim= 1, activation='sigmoid', kernel_initializer='uniform', use_bias=True))"
      ],
      "execution_count": 0,
      "outputs": []
    },
    {
      "cell_type": "code",
      "metadata": {
        "id": "rqWBXv3Ue8X1",
        "colab_type": "code",
        "colab": {
          "base_uri": "https://localhost:8080/",
          "height": 156
        },
        "outputId": "0dd0ca84-2d3a-42a2-943a-ca4d368b38d2"
      },
      "source": [
        "classifier.compile(optimizer='adam', loss='binary_crossentropy', metrics=['accuracy'], )"
      ],
      "execution_count": 54,
      "outputs": [
        {
          "output_type": "stream",
          "text": [
            "WARNING:tensorflow:From /usr/local/lib/python3.6/dist-packages/keras/optimizers.py:793: The name tf.train.Optimizer is deprecated. Please use tf.compat.v1.train.Optimizer instead.\n",
            "\n",
            "WARNING:tensorflow:From /usr/local/lib/python3.6/dist-packages/keras/backend/tensorflow_backend.py:3657: The name tf.log is deprecated. Please use tf.math.log instead.\n",
            "\n",
            "WARNING:tensorflow:From /usr/local/lib/python3.6/dist-packages/tensorflow_core/python/ops/nn_impl.py:183: where (from tensorflow.python.ops.array_ops) is deprecated and will be removed in a future version.\n",
            "Instructions for updating:\n",
            "Use tf.where in 2.0, which has the same broadcast rule as np.where\n"
          ],
          "name": "stdout"
        }
      ]
    },
    {
      "cell_type": "code",
      "metadata": {
        "id": "dWXchl59fSG9",
        "colab_type": "code",
        "colab": {
          "base_uri": "https://localhost:8080/",
          "height": 1000
        },
        "outputId": "66f01900-16be-4fa2-c568-77e5e184331d"
      },
      "source": [
        "classifier.fit(train_x, train_y, batch_size=105, epochs=150, )"
      ],
      "execution_count": 76,
      "outputs": [
        {
          "output_type": "stream",
          "text": [
            "Epoch 1/150\n",
            "512/512 [==============================] - 0s 39us/step - loss: 0.0653 - acc: 0.9707\n",
            "Epoch 2/150\n",
            "512/512 [==============================] - 0s 28us/step - loss: 0.0544 - acc: 0.9785\n",
            "Epoch 3/150\n",
            "512/512 [==============================] - 0s 20us/step - loss: 0.0561 - acc: 0.9688\n",
            "Epoch 4/150\n",
            "512/512 [==============================] - 0s 21us/step - loss: 0.0530 - acc: 0.9746\n",
            "Epoch 5/150\n",
            "512/512 [==============================] - 0s 24us/step - loss: 0.0537 - acc: 0.9766\n",
            "Epoch 6/150\n",
            "512/512 [==============================] - 0s 24us/step - loss: 0.0522 - acc: 0.9785\n",
            "Epoch 7/150\n",
            "512/512 [==============================] - 0s 22us/step - loss: 0.0514 - acc: 0.9805\n",
            "Epoch 8/150\n",
            "512/512 [==============================] - 0s 22us/step - loss: 0.0522 - acc: 0.9766\n",
            "Epoch 9/150\n",
            "512/512 [==============================] - 0s 22us/step - loss: 0.0510 - acc: 0.9824\n",
            "Epoch 10/150\n",
            "512/512 [==============================] - 0s 26us/step - loss: 0.0489 - acc: 0.9785\n",
            "Epoch 11/150\n",
            "512/512 [==============================] - 0s 24us/step - loss: 0.0501 - acc: 0.9785\n",
            "Epoch 12/150\n",
            "512/512 [==============================] - 0s 23us/step - loss: 0.0486 - acc: 0.9824\n",
            "Epoch 13/150\n",
            "512/512 [==============================] - 0s 28us/step - loss: 0.0484 - acc: 0.9844\n",
            "Epoch 14/150\n",
            "512/512 [==============================] - 0s 27us/step - loss: 0.0531 - acc: 0.9766\n",
            "Epoch 15/150\n",
            "512/512 [==============================] - 0s 23us/step - loss: 0.0475 - acc: 0.9805\n",
            "Epoch 16/150\n",
            "512/512 [==============================] - 0s 26us/step - loss: 0.0542 - acc: 0.9766\n",
            "Epoch 17/150\n",
            "512/512 [==============================] - 0s 27us/step - loss: 0.0493 - acc: 0.9805\n",
            "Epoch 18/150\n",
            "512/512 [==============================] - 0s 25us/step - loss: 0.0505 - acc: 0.9785\n",
            "Epoch 19/150\n",
            "512/512 [==============================] - 0s 30us/step - loss: 0.0498 - acc: 0.9805\n",
            "Epoch 20/150\n",
            "512/512 [==============================] - 0s 29us/step - loss: 0.0506 - acc: 0.9766\n",
            "Epoch 21/150\n",
            "512/512 [==============================] - 0s 26us/step - loss: 0.0528 - acc: 0.9805\n",
            "Epoch 22/150\n",
            "512/512 [==============================] - 0s 26us/step - loss: 0.0487 - acc: 0.9844\n",
            "Epoch 23/150\n",
            "512/512 [==============================] - 0s 27us/step - loss: 0.0484 - acc: 0.9824\n",
            "Epoch 24/150\n",
            "512/512 [==============================] - 0s 32us/step - loss: 0.0486 - acc: 0.9805\n",
            "Epoch 25/150\n",
            "512/512 [==============================] - 0s 28us/step - loss: 0.0485 - acc: 0.9824\n",
            "Epoch 26/150\n",
            "512/512 [==============================] - 0s 24us/step - loss: 0.0520 - acc: 0.9766\n",
            "Epoch 27/150\n",
            "512/512 [==============================] - 0s 29us/step - loss: 0.0491 - acc: 0.9805\n",
            "Epoch 28/150\n",
            "512/512 [==============================] - 0s 21us/step - loss: 0.0508 - acc: 0.9785\n",
            "Epoch 29/150\n",
            "512/512 [==============================] - 0s 24us/step - loss: 0.0504 - acc: 0.9805\n",
            "Epoch 30/150\n",
            "512/512 [==============================] - 0s 23us/step - loss: 0.0491 - acc: 0.9785\n",
            "Epoch 31/150\n",
            "512/512 [==============================] - 0s 26us/step - loss: 0.0575 - acc: 0.9727\n",
            "Epoch 32/150\n",
            "512/512 [==============================] - 0s 31us/step - loss: 0.0508 - acc: 0.9824\n",
            "Epoch 33/150\n",
            "512/512 [==============================] - 0s 25us/step - loss: 0.0587 - acc: 0.9727\n",
            "Epoch 34/150\n",
            "512/512 [==============================] - 0s 27us/step - loss: 0.0483 - acc: 0.9824\n",
            "Epoch 35/150\n",
            "512/512 [==============================] - 0s 26us/step - loss: 0.0481 - acc: 0.9785\n",
            "Epoch 36/150\n",
            "512/512 [==============================] - 0s 31us/step - loss: 0.0482 - acc: 0.9824\n",
            "Epoch 37/150\n",
            "512/512 [==============================] - 0s 26us/step - loss: 0.0493 - acc: 0.9805\n",
            "Epoch 38/150\n",
            "512/512 [==============================] - 0s 27us/step - loss: 0.0530 - acc: 0.9766\n",
            "Epoch 39/150\n",
            "512/512 [==============================] - 0s 27us/step - loss: 0.0502 - acc: 0.9805\n",
            "Epoch 40/150\n",
            "512/512 [==============================] - 0s 21us/step - loss: 0.0490 - acc: 0.9824\n",
            "Epoch 41/150\n",
            "512/512 [==============================] - 0s 26us/step - loss: 0.0505 - acc: 0.9805\n",
            "Epoch 42/150\n",
            "512/512 [==============================] - 0s 23us/step - loss: 0.0476 - acc: 0.9824\n",
            "Epoch 43/150\n",
            "512/512 [==============================] - 0s 28us/step - loss: 0.0523 - acc: 0.9805\n",
            "Epoch 44/150\n",
            "512/512 [==============================] - 0s 23us/step - loss: 0.0502 - acc: 0.9805\n",
            "Epoch 45/150\n",
            "512/512 [==============================] - 0s 29us/step - loss: 0.0498 - acc: 0.9805\n",
            "Epoch 46/150\n",
            "512/512 [==============================] - 0s 24us/step - loss: 0.0470 - acc: 0.9844\n",
            "Epoch 47/150\n",
            "512/512 [==============================] - 0s 29us/step - loss: 0.0492 - acc: 0.9785\n",
            "Epoch 48/150\n",
            "512/512 [==============================] - 0s 25us/step - loss: 0.0475 - acc: 0.9805\n",
            "Epoch 49/150\n",
            "512/512 [==============================] - 0s 23us/step - loss: 0.0505 - acc: 0.9785\n",
            "Epoch 50/150\n",
            "512/512 [==============================] - 0s 27us/step - loss: 0.0488 - acc: 0.9766\n",
            "Epoch 51/150\n",
            "512/512 [==============================] - 0s 32us/step - loss: 0.0468 - acc: 0.9824\n",
            "Epoch 52/150\n",
            "512/512 [==============================] - 0s 27us/step - loss: 0.0499 - acc: 0.9766\n",
            "Epoch 53/150\n",
            "512/512 [==============================] - 0s 21us/step - loss: 0.0547 - acc: 0.9766\n",
            "Epoch 54/150\n",
            "512/512 [==============================] - 0s 31us/step - loss: 0.0482 - acc: 0.9785\n",
            "Epoch 55/150\n",
            "512/512 [==============================] - 0s 23us/step - loss: 0.0546 - acc: 0.9785\n",
            "Epoch 56/150\n",
            "512/512 [==============================] - 0s 23us/step - loss: 0.0670 - acc: 0.9707\n",
            "Epoch 57/150\n",
            "512/512 [==============================] - 0s 23us/step - loss: 0.0588 - acc: 0.9766\n",
            "Epoch 58/150\n",
            "512/512 [==============================] - 0s 34us/step - loss: 0.0580 - acc: 0.9766\n",
            "Epoch 59/150\n",
            "512/512 [==============================] - 0s 22us/step - loss: 0.0601 - acc: 0.9727\n",
            "Epoch 60/150\n",
            "512/512 [==============================] - 0s 29us/step - loss: 0.0477 - acc: 0.9844\n",
            "Epoch 61/150\n",
            "512/512 [==============================] - 0s 24us/step - loss: 0.0515 - acc: 0.9746\n",
            "Epoch 62/150\n",
            "512/512 [==============================] - 0s 32us/step - loss: 0.0527 - acc: 0.9766\n",
            "Epoch 63/150\n",
            "512/512 [==============================] - 0s 23us/step - loss: 0.0455 - acc: 0.9844\n",
            "Epoch 64/150\n",
            "512/512 [==============================] - 0s 24us/step - loss: 0.0511 - acc: 0.9805\n",
            "Epoch 65/150\n",
            "512/512 [==============================] - 0s 22us/step - loss: 0.0487 - acc: 0.9746\n",
            "Epoch 66/150\n",
            "512/512 [==============================] - 0s 22us/step - loss: 0.0481 - acc: 0.9844\n",
            "Epoch 67/150\n",
            "512/512 [==============================] - 0s 20us/step - loss: 0.0511 - acc: 0.9805\n",
            "Epoch 68/150\n",
            "512/512 [==============================] - 0s 23us/step - loss: 0.0461 - acc: 0.9785\n",
            "Epoch 69/150\n",
            "512/512 [==============================] - 0s 21us/step - loss: 0.0502 - acc: 0.9844\n",
            "Epoch 70/150\n",
            "512/512 [==============================] - 0s 21us/step - loss: 0.0491 - acc: 0.9766\n",
            "Epoch 71/150\n",
            "512/512 [==============================] - 0s 22us/step - loss: 0.0463 - acc: 0.9824\n",
            "Epoch 72/150\n",
            "512/512 [==============================] - 0s 21us/step - loss: 0.0502 - acc: 0.9746\n",
            "Epoch 73/150\n",
            "512/512 [==============================] - 0s 22us/step - loss: 0.0502 - acc: 0.9766\n",
            "Epoch 74/150\n",
            "512/512 [==============================] - 0s 21us/step - loss: 0.0544 - acc: 0.9805\n",
            "Epoch 75/150\n",
            "512/512 [==============================] - 0s 24us/step - loss: 0.0497 - acc: 0.9746\n",
            "Epoch 76/150\n",
            "512/512 [==============================] - 0s 23us/step - loss: 0.0499 - acc: 0.9805\n",
            "Epoch 77/150\n",
            "512/512 [==============================] - 0s 27us/step - loss: 0.0501 - acc: 0.9805\n",
            "Epoch 78/150\n",
            "512/512 [==============================] - 0s 24us/step - loss: 0.0522 - acc: 0.9746\n",
            "Epoch 79/150\n",
            "512/512 [==============================] - 0s 34us/step - loss: 0.0527 - acc: 0.9746\n",
            "Epoch 80/150\n",
            "512/512 [==============================] - 0s 24us/step - loss: 0.0520 - acc: 0.9785\n",
            "Epoch 81/150\n",
            "512/512 [==============================] - 0s 40us/step - loss: 0.0574 - acc: 0.9668\n",
            "Epoch 82/150\n",
            "512/512 [==============================] - 0s 24us/step - loss: 0.0767 - acc: 0.9707\n",
            "Epoch 83/150\n",
            "512/512 [==============================] - 0s 29us/step - loss: 0.0723 - acc: 0.9707\n",
            "Epoch 84/150\n",
            "512/512 [==============================] - 0s 29us/step - loss: 0.0713 - acc: 0.9707\n",
            "Epoch 85/150\n",
            "512/512 [==============================] - 0s 27us/step - loss: 0.0736 - acc: 0.9629\n",
            "Epoch 86/150\n",
            "512/512 [==============================] - 0s 24us/step - loss: 0.0656 - acc: 0.9688\n",
            "Epoch 87/150\n",
            "512/512 [==============================] - 0s 24us/step - loss: 0.0706 - acc: 0.9707\n",
            "Epoch 88/150\n",
            "512/512 [==============================] - 0s 23us/step - loss: 0.0664 - acc: 0.9688\n",
            "Epoch 89/150\n",
            "512/512 [==============================] - 0s 34us/step - loss: 0.0592 - acc: 0.9766\n",
            "Epoch 90/150\n",
            "512/512 [==============================] - 0s 22us/step - loss: 0.0572 - acc: 0.9785\n",
            "Epoch 91/150\n",
            "512/512 [==============================] - 0s 23us/step - loss: 0.0515 - acc: 0.9863\n",
            "Epoch 92/150\n",
            "512/512 [==============================] - 0s 21us/step - loss: 0.0520 - acc: 0.9785\n",
            "Epoch 93/150\n",
            "512/512 [==============================] - 0s 31us/step - loss: 0.0490 - acc: 0.9824\n",
            "Epoch 94/150\n",
            "512/512 [==============================] - 0s 29us/step - loss: 0.0516 - acc: 0.9824\n",
            "Epoch 95/150\n",
            "512/512 [==============================] - 0s 28us/step - loss: 0.0552 - acc: 0.9805\n",
            "Epoch 96/150\n",
            "512/512 [==============================] - 0s 28us/step - loss: 0.0546 - acc: 0.9805\n",
            "Epoch 97/150\n",
            "512/512 [==============================] - 0s 36us/step - loss: 0.0519 - acc: 0.9785\n",
            "Epoch 98/150\n",
            "512/512 [==============================] - 0s 27us/step - loss: 0.0463 - acc: 0.9785\n",
            "Epoch 99/150\n",
            "512/512 [==============================] - 0s 25us/step - loss: 0.0485 - acc: 0.9805\n",
            "Epoch 100/150\n",
            "512/512 [==============================] - 0s 24us/step - loss: 0.0492 - acc: 0.9785\n",
            "Epoch 101/150\n",
            "512/512 [==============================] - 0s 24us/step - loss: 0.0476 - acc: 0.9805\n",
            "Epoch 102/150\n",
            "512/512 [==============================] - 0s 30us/step - loss: 0.0559 - acc: 0.9766\n",
            "Epoch 103/150\n",
            "512/512 [==============================] - 0s 26us/step - loss: 0.0478 - acc: 0.9766\n",
            "Epoch 104/150\n",
            "512/512 [==============================] - 0s 22us/step - loss: 0.0541 - acc: 0.9746\n",
            "Epoch 105/150\n",
            "512/512 [==============================] - 0s 24us/step - loss: 0.0503 - acc: 0.9805\n",
            "Epoch 106/150\n",
            "512/512 [==============================] - 0s 26us/step - loss: 0.0523 - acc: 0.9707\n",
            "Epoch 107/150\n",
            "512/512 [==============================] - 0s 24us/step - loss: 0.0507 - acc: 0.9805\n",
            "Epoch 108/150\n",
            "512/512 [==============================] - 0s 23us/step - loss: 0.0485 - acc: 0.9785\n",
            "Epoch 109/150\n",
            "512/512 [==============================] - 0s 39us/step - loss: 0.0500 - acc: 0.9707\n",
            "Epoch 110/150\n",
            "512/512 [==============================] - 0s 28us/step - loss: 0.0538 - acc: 0.9785\n",
            "Epoch 111/150\n",
            "512/512 [==============================] - 0s 24us/step - loss: 0.0662 - acc: 0.9707\n",
            "Epoch 112/150\n",
            "512/512 [==============================] - 0s 22us/step - loss: 0.0537 - acc: 0.9805\n",
            "Epoch 113/150\n",
            "512/512 [==============================] - 0s 23us/step - loss: 0.0466 - acc: 0.9824\n",
            "Epoch 114/150\n",
            "512/512 [==============================] - 0s 26us/step - loss: 0.0475 - acc: 0.9824\n",
            "Epoch 115/150\n",
            "512/512 [==============================] - 0s 31us/step - loss: 0.0489 - acc: 0.9746\n",
            "Epoch 116/150\n",
            "512/512 [==============================] - 0s 25us/step - loss: 0.0482 - acc: 0.9805\n",
            "Epoch 117/150\n",
            "512/512 [==============================] - 0s 26us/step - loss: 0.0443 - acc: 0.9863\n",
            "Epoch 118/150\n",
            "512/512 [==============================] - 0s 25us/step - loss: 0.0467 - acc: 0.9824\n",
            "Epoch 119/150\n",
            "512/512 [==============================] - 0s 27us/step - loss: 0.0440 - acc: 0.9844\n",
            "Epoch 120/150\n",
            "512/512 [==============================] - 0s 28us/step - loss: 0.0512 - acc: 0.9707\n",
            "Epoch 121/150\n",
            "512/512 [==============================] - 0s 27us/step - loss: 0.0535 - acc: 0.9746\n",
            "Epoch 122/150\n",
            "512/512 [==============================] - 0s 23us/step - loss: 0.0449 - acc: 0.9785\n",
            "Epoch 123/150\n",
            "512/512 [==============================] - 0s 24us/step - loss: 0.0483 - acc: 0.9766\n",
            "Epoch 124/150\n",
            "512/512 [==============================] - 0s 23us/step - loss: 0.0470 - acc: 0.9844\n",
            "Epoch 125/150\n",
            "512/512 [==============================] - 0s 19us/step - loss: 0.0477 - acc: 0.9785\n",
            "Epoch 126/150\n",
            "512/512 [==============================] - 0s 21us/step - loss: 0.0488 - acc: 0.9746\n",
            "Epoch 127/150\n",
            "512/512 [==============================] - 0s 30us/step - loss: 0.0472 - acc: 0.9805\n",
            "Epoch 128/150\n",
            "512/512 [==============================] - 0s 29us/step - loss: 0.0496 - acc: 0.9727\n",
            "Epoch 129/150\n",
            "512/512 [==============================] - 0s 27us/step - loss: 0.0505 - acc: 0.9766\n",
            "Epoch 130/150\n",
            "512/512 [==============================] - 0s 32us/step - loss: 0.0473 - acc: 0.9824\n",
            "Epoch 131/150\n",
            "512/512 [==============================] - 0s 26us/step - loss: 0.0480 - acc: 0.9766\n",
            "Epoch 132/150\n",
            "512/512 [==============================] - 0s 26us/step - loss: 0.0500 - acc: 0.9766\n",
            "Epoch 133/150\n",
            "512/512 [==============================] - 0s 26us/step - loss: 0.0443 - acc: 0.9805\n",
            "Epoch 134/150\n",
            "512/512 [==============================] - 0s 24us/step - loss: 0.0452 - acc: 0.9785\n",
            "Epoch 135/150\n",
            "512/512 [==============================] - 0s 22us/step - loss: 0.0532 - acc: 0.9746\n",
            "Epoch 136/150\n",
            "512/512 [==============================] - 0s 24us/step - loss: 0.0605 - acc: 0.9727\n",
            "Epoch 137/150\n",
            "512/512 [==============================] - 0s 22us/step - loss: 0.0557 - acc: 0.9805\n",
            "Epoch 138/150\n",
            "512/512 [==============================] - 0s 23us/step - loss: 0.0581 - acc: 0.9766\n",
            "Epoch 139/150\n",
            "512/512 [==============================] - 0s 23us/step - loss: 0.0630 - acc: 0.9727\n",
            "Epoch 140/150\n",
            "512/512 [==============================] - 0s 25us/step - loss: 0.0502 - acc: 0.9785\n",
            "Epoch 141/150\n",
            "512/512 [==============================] - 0s 23us/step - loss: 0.0546 - acc: 0.9766\n",
            "Epoch 142/150\n",
            "512/512 [==============================] - 0s 34us/step - loss: 0.0484 - acc: 0.9727\n",
            "Epoch 143/150\n",
            "512/512 [==============================] - 0s 25us/step - loss: 0.0487 - acc: 0.9766\n",
            "Epoch 144/150\n",
            "512/512 [==============================] - 0s 26us/step - loss: 0.0461 - acc: 0.9805\n",
            "Epoch 145/150\n",
            "512/512 [==============================] - 0s 25us/step - loss: 0.0465 - acc: 0.9785\n",
            "Epoch 146/150\n",
            "512/512 [==============================] - 0s 35us/step - loss: 0.0475 - acc: 0.9824\n",
            "Epoch 147/150\n",
            "512/512 [==============================] - 0s 32us/step - loss: 0.0485 - acc: 0.9805\n",
            "Epoch 148/150\n",
            "512/512 [==============================] - 0s 24us/step - loss: 0.0423 - acc: 0.9863\n",
            "Epoch 149/150\n",
            "512/512 [==============================] - 0s 30us/step - loss: 0.0459 - acc: 0.9824\n",
            "Epoch 150/150\n",
            "512/512 [==============================] - 0s 35us/step - loss: 0.0436 - acc: 0.9805\n"
          ],
          "name": "stdout"
        },
        {
          "output_type": "execute_result",
          "data": {
            "text/plain": [
              "<keras.callbacks.History at 0x7f1b5cba8eb8>"
            ]
          },
          "metadata": {
            "tags": []
          },
          "execution_count": 76
        }
      ]
    },
    {
      "cell_type": "code",
      "metadata": {
        "id": "EAZylJdef68S",
        "colab_type": "code",
        "colab": {}
      },
      "source": [
        "prediction = classifier.predict(test_x, batch_size=10)"
      ],
      "execution_count": 0,
      "outputs": []
    },
    {
      "cell_type": "code",
      "metadata": {
        "id": "cIA5pEFxgl2o",
        "colab_type": "code",
        "colab": {}
      },
      "source": [
        "prediction = (prediction > 0.5)"
      ],
      "execution_count": 0,
      "outputs": []
    },
    {
      "cell_type": "code",
      "metadata": {
        "id": "P_T0hqmVivnn",
        "colab_type": "code",
        "colab": {
          "base_uri": "https://localhost:8080/",
          "height": 34
        },
        "outputId": "451f5a43-a6c6-4a50-8a15-ca81e6c06a7d"
      },
      "source": [
        "accuracy_score(test_y, prediction)"
      ],
      "execution_count": 79,
      "outputs": [
        {
          "output_type": "execute_result",
          "data": {
            "text/plain": [
              "1.0"
            ]
          },
          "metadata": {
            "tags": []
          },
          "execution_count": 79
        }
      ]
    },
    {
      "cell_type": "code",
      "metadata": {
        "id": "lxg_9ieGi9CI",
        "colab_type": "code",
        "colab": {}
      },
      "source": [
        ""
      ],
      "execution_count": 0,
      "outputs": []
    }
  ]
}