{
 "cells": [
  {
   "cell_type": "code",
   "execution_count": 1,
   "metadata": {},
   "outputs": [
    {
     "name": "stderr",
     "output_type": "stream",
     "text": [
      "Using TensorFlow backend.\n"
     ]
    }
   ],
   "source": [
    "import pandas as pd\n",
    "import keras\n",
    "from sklearn.model_selection import train_test_split\n",
    "from sklearn.pipeline import make_pipeline, Pipeline\n",
    "from sklearn.preprocessing import StandardScaler"
   ]
  },
  {
   "cell_type": "code",
   "execution_count": 15,
   "metadata": {},
   "outputs": [],
   "source": [
    "df = pd.read_csv('D:\\\\Deep-Learning-U\\\\DL Colab Changes\\\\Artificial_Neural_Networks 9\\\\Churn_Modelling.csv')"
   ]
  },
  {
   "cell_type": "code",
   "execution_count": 16,
   "metadata": {},
   "outputs": [
    {
     "data": {
      "text/html": [
       "<div>\n",
       "<style scoped>\n",
       "    .dataframe tbody tr th:only-of-type {\n",
       "        vertical-align: middle;\n",
       "    }\n",
       "\n",
       "    .dataframe tbody tr th {\n",
       "        vertical-align: top;\n",
       "    }\n",
       "\n",
       "    .dataframe thead th {\n",
       "        text-align: right;\n",
       "    }\n",
       "</style>\n",
       "<table border=\"1\" class=\"dataframe\">\n",
       "  <thead>\n",
       "    <tr style=\"text-align: right;\">\n",
       "      <th></th>\n",
       "      <th>RowNumber</th>\n",
       "      <th>CustomerId</th>\n",
       "      <th>Surname</th>\n",
       "      <th>CreditScore</th>\n",
       "      <th>Geography</th>\n",
       "      <th>Gender</th>\n",
       "      <th>Age</th>\n",
       "      <th>Tenure</th>\n",
       "      <th>Balance</th>\n",
       "      <th>NumOfProducts</th>\n",
       "      <th>HasCrCard</th>\n",
       "      <th>IsActiveMember</th>\n",
       "      <th>EstimatedSalary</th>\n",
       "      <th>Exited</th>\n",
       "    </tr>\n",
       "  </thead>\n",
       "  <tbody>\n",
       "    <tr>\n",
       "      <th>0</th>\n",
       "      <td>1</td>\n",
       "      <td>15634602</td>\n",
       "      <td>Hargrave</td>\n",
       "      <td>619</td>\n",
       "      <td>France</td>\n",
       "      <td>Female</td>\n",
       "      <td>42</td>\n",
       "      <td>2</td>\n",
       "      <td>0.00</td>\n",
       "      <td>1</td>\n",
       "      <td>1</td>\n",
       "      <td>1</td>\n",
       "      <td>101348.88</td>\n",
       "      <td>1</td>\n",
       "    </tr>\n",
       "    <tr>\n",
       "      <th>1</th>\n",
       "      <td>2</td>\n",
       "      <td>15647311</td>\n",
       "      <td>Hill</td>\n",
       "      <td>608</td>\n",
       "      <td>Spain</td>\n",
       "      <td>Female</td>\n",
       "      <td>41</td>\n",
       "      <td>1</td>\n",
       "      <td>83807.86</td>\n",
       "      <td>1</td>\n",
       "      <td>0</td>\n",
       "      <td>1</td>\n",
       "      <td>112542.58</td>\n",
       "      <td>0</td>\n",
       "    </tr>\n",
       "    <tr>\n",
       "      <th>2</th>\n",
       "      <td>3</td>\n",
       "      <td>15619304</td>\n",
       "      <td>Onio</td>\n",
       "      <td>502</td>\n",
       "      <td>France</td>\n",
       "      <td>Female</td>\n",
       "      <td>42</td>\n",
       "      <td>8</td>\n",
       "      <td>159660.80</td>\n",
       "      <td>3</td>\n",
       "      <td>1</td>\n",
       "      <td>0</td>\n",
       "      <td>113931.57</td>\n",
       "      <td>1</td>\n",
       "    </tr>\n",
       "    <tr>\n",
       "      <th>3</th>\n",
       "      <td>4</td>\n",
       "      <td>15701354</td>\n",
       "      <td>Boni</td>\n",
       "      <td>699</td>\n",
       "      <td>France</td>\n",
       "      <td>Female</td>\n",
       "      <td>39</td>\n",
       "      <td>1</td>\n",
       "      <td>0.00</td>\n",
       "      <td>2</td>\n",
       "      <td>0</td>\n",
       "      <td>0</td>\n",
       "      <td>93826.63</td>\n",
       "      <td>0</td>\n",
       "    </tr>\n",
       "    <tr>\n",
       "      <th>4</th>\n",
       "      <td>5</td>\n",
       "      <td>15737888</td>\n",
       "      <td>Mitchell</td>\n",
       "      <td>850</td>\n",
       "      <td>Spain</td>\n",
       "      <td>Female</td>\n",
       "      <td>43</td>\n",
       "      <td>2</td>\n",
       "      <td>125510.82</td>\n",
       "      <td>1</td>\n",
       "      <td>1</td>\n",
       "      <td>1</td>\n",
       "      <td>79084.10</td>\n",
       "      <td>0</td>\n",
       "    </tr>\n",
       "  </tbody>\n",
       "</table>\n",
       "</div>"
      ],
      "text/plain": [
       "   RowNumber  CustomerId   Surname  CreditScore Geography  Gender  Age  \\\n",
       "0          1    15634602  Hargrave          619    France  Female   42   \n",
       "1          2    15647311      Hill          608     Spain  Female   41   \n",
       "2          3    15619304      Onio          502    France  Female   42   \n",
       "3          4    15701354      Boni          699    France  Female   39   \n",
       "4          5    15737888  Mitchell          850     Spain  Female   43   \n",
       "\n",
       "   Tenure    Balance  NumOfProducts  HasCrCard  IsActiveMember  \\\n",
       "0       2       0.00              1          1               1   \n",
       "1       1   83807.86              1          0               1   \n",
       "2       8  159660.80              3          1               0   \n",
       "3       1       0.00              2          0               0   \n",
       "4       2  125510.82              1          1               1   \n",
       "\n",
       "   EstimatedSalary  Exited  \n",
       "0        101348.88       1  \n",
       "1        112542.58       0  \n",
       "2        113931.57       1  \n",
       "3         93826.63       0  \n",
       "4         79084.10       0  "
      ]
     },
     "execution_count": 16,
     "metadata": {},
     "output_type": "execute_result"
    }
   ],
   "source": [
    "df.head()"
   ]
  },
  {
   "cell_type": "code",
   "execution_count": 17,
   "metadata": {},
   "outputs": [],
   "source": [
    "df_copy = df.copy()"
   ]
  },
  {
   "cell_type": "code",
   "execution_count": 18,
   "metadata": {},
   "outputs": [],
   "source": [
    "df_copy.drop(['RowNumber', 'CustomerId', 'Surname'], axis=1,inplace=True)"
   ]
  },
  {
   "cell_type": "code",
   "execution_count": 19,
   "metadata": {},
   "outputs": [
    {
     "data": {
      "text/html": [
       "<div>\n",
       "<style scoped>\n",
       "    .dataframe tbody tr th:only-of-type {\n",
       "        vertical-align: middle;\n",
       "    }\n",
       "\n",
       "    .dataframe tbody tr th {\n",
       "        vertical-align: top;\n",
       "    }\n",
       "\n",
       "    .dataframe thead th {\n",
       "        text-align: right;\n",
       "    }\n",
       "</style>\n",
       "<table border=\"1\" class=\"dataframe\">\n",
       "  <thead>\n",
       "    <tr style=\"text-align: right;\">\n",
       "      <th></th>\n",
       "      <th>CreditScore</th>\n",
       "      <th>Geography</th>\n",
       "      <th>Gender</th>\n",
       "      <th>Age</th>\n",
       "      <th>Tenure</th>\n",
       "      <th>Balance</th>\n",
       "      <th>NumOfProducts</th>\n",
       "      <th>HasCrCard</th>\n",
       "      <th>IsActiveMember</th>\n",
       "      <th>EstimatedSalary</th>\n",
       "      <th>Exited</th>\n",
       "    </tr>\n",
       "  </thead>\n",
       "  <tbody>\n",
       "    <tr>\n",
       "      <th>0</th>\n",
       "      <td>619</td>\n",
       "      <td>France</td>\n",
       "      <td>Female</td>\n",
       "      <td>42</td>\n",
       "      <td>2</td>\n",
       "      <td>0.00</td>\n",
       "      <td>1</td>\n",
       "      <td>1</td>\n",
       "      <td>1</td>\n",
       "      <td>101348.88</td>\n",
       "      <td>1</td>\n",
       "    </tr>\n",
       "    <tr>\n",
       "      <th>1</th>\n",
       "      <td>608</td>\n",
       "      <td>Spain</td>\n",
       "      <td>Female</td>\n",
       "      <td>41</td>\n",
       "      <td>1</td>\n",
       "      <td>83807.86</td>\n",
       "      <td>1</td>\n",
       "      <td>0</td>\n",
       "      <td>1</td>\n",
       "      <td>112542.58</td>\n",
       "      <td>0</td>\n",
       "    </tr>\n",
       "    <tr>\n",
       "      <th>2</th>\n",
       "      <td>502</td>\n",
       "      <td>France</td>\n",
       "      <td>Female</td>\n",
       "      <td>42</td>\n",
       "      <td>8</td>\n",
       "      <td>159660.80</td>\n",
       "      <td>3</td>\n",
       "      <td>1</td>\n",
       "      <td>0</td>\n",
       "      <td>113931.57</td>\n",
       "      <td>1</td>\n",
       "    </tr>\n",
       "    <tr>\n",
       "      <th>3</th>\n",
       "      <td>699</td>\n",
       "      <td>France</td>\n",
       "      <td>Female</td>\n",
       "      <td>39</td>\n",
       "      <td>1</td>\n",
       "      <td>0.00</td>\n",
       "      <td>2</td>\n",
       "      <td>0</td>\n",
       "      <td>0</td>\n",
       "      <td>93826.63</td>\n",
       "      <td>0</td>\n",
       "    </tr>\n",
       "    <tr>\n",
       "      <th>4</th>\n",
       "      <td>850</td>\n",
       "      <td>Spain</td>\n",
       "      <td>Female</td>\n",
       "      <td>43</td>\n",
       "      <td>2</td>\n",
       "      <td>125510.82</td>\n",
       "      <td>1</td>\n",
       "      <td>1</td>\n",
       "      <td>1</td>\n",
       "      <td>79084.10</td>\n",
       "      <td>0</td>\n",
       "    </tr>\n",
       "  </tbody>\n",
       "</table>\n",
       "</div>"
      ],
      "text/plain": [
       "   CreditScore Geography  Gender  Age  Tenure    Balance  NumOfProducts  \\\n",
       "0          619    France  Female   42       2       0.00              1   \n",
       "1          608     Spain  Female   41       1   83807.86              1   \n",
       "2          502    France  Female   42       8  159660.80              3   \n",
       "3          699    France  Female   39       1       0.00              2   \n",
       "4          850     Spain  Female   43       2  125510.82              1   \n",
       "\n",
       "   HasCrCard  IsActiveMember  EstimatedSalary  Exited  \n",
       "0          1               1        101348.88       1  \n",
       "1          0               1        112542.58       0  \n",
       "2          1               0        113931.57       1  \n",
       "3          0               0         93826.63       0  \n",
       "4          1               1         79084.10       0  "
      ]
     },
     "execution_count": 19,
     "metadata": {},
     "output_type": "execute_result"
    }
   ],
   "source": [
    "df_copy.head()"
   ]
  },
  {
   "cell_type": "code",
   "execution_count": 20,
   "metadata": {},
   "outputs": [],
   "source": [
    "geo_dumm = pd.get_dummies(df_copy.Geography, drop_first = True)"
   ]
  },
  {
   "cell_type": "code",
   "execution_count": 43,
   "metadata": {},
   "outputs": [
    {
     "data": {
      "text/html": [
       "<div>\n",
       "<style scoped>\n",
       "    .dataframe tbody tr th:only-of-type {\n",
       "        vertical-align: middle;\n",
       "    }\n",
       "\n",
       "    .dataframe tbody tr th {\n",
       "        vertical-align: top;\n",
       "    }\n",
       "\n",
       "    .dataframe thead th {\n",
       "        text-align: right;\n",
       "    }\n",
       "</style>\n",
       "<table border=\"1\" class=\"dataframe\">\n",
       "  <thead>\n",
       "    <tr style=\"text-align: right;\">\n",
       "      <th></th>\n",
       "      <th>Male</th>\n",
       "    </tr>\n",
       "  </thead>\n",
       "  <tbody>\n",
       "    <tr>\n",
       "      <th>0</th>\n",
       "      <td>0</td>\n",
       "    </tr>\n",
       "    <tr>\n",
       "      <th>1</th>\n",
       "      <td>0</td>\n",
       "    </tr>\n",
       "    <tr>\n",
       "      <th>2</th>\n",
       "      <td>0</td>\n",
       "    </tr>\n",
       "    <tr>\n",
       "      <th>3</th>\n",
       "      <td>0</td>\n",
       "    </tr>\n",
       "    <tr>\n",
       "      <th>4</th>\n",
       "      <td>0</td>\n",
       "    </tr>\n",
       "  </tbody>\n",
       "</table>\n",
       "</div>"
      ],
      "text/plain": [
       "   Male\n",
       "0     0\n",
       "1     0\n",
       "2     0\n",
       "3     0\n",
       "4     0"
      ]
     },
     "execution_count": 43,
     "metadata": {},
     "output_type": "execute_result"
    }
   ],
   "source": [
    "gen_dumm = pd.get_dummies(df_copy.Gender, drop_first = True)\n",
    "gen_dumm.head()"
   ]
  },
  {
   "cell_type": "code",
   "execution_count": 44,
   "metadata": {},
   "outputs": [],
   "source": [
    "df_copy.drop(['Geography','Gender'], axis=1, inplace=True)"
   ]
  },
  {
   "cell_type": "code",
   "execution_count": 45,
   "metadata": {},
   "outputs": [],
   "source": [
    "df_copy = pd.concat([df_copy, gen_dumm, geo_dumm], axis=1)"
   ]
  },
  {
   "cell_type": "code",
   "execution_count": 46,
   "metadata": {},
   "outputs": [],
   "source": [
    "x = df_copy.drop('Exited', axis=1)\n",
    "y = df_copy['Exited']"
   ]
  },
  {
   "cell_type": "code",
   "execution_count": 47,
   "metadata": {},
   "outputs": [
    {
     "data": {
      "text/plain": [
       "(8000,)"
      ]
     },
     "execution_count": 47,
     "metadata": {},
     "output_type": "execute_result"
    }
   ],
   "source": [
    "train_x, test_x, train_y, test_y = train_test_split(x,y, test_size = 0.2, random_state = 0)\n",
    "train_x.shape\n",
    "train_y.shape"
   ]
  },
  {
   "cell_type": "code",
   "execution_count": 48,
   "metadata": {},
   "outputs": [],
   "source": [
    "ss = StandardScaler()"
   ]
  },
  {
   "cell_type": "code",
   "execution_count": 49,
   "metadata": {},
   "outputs": [
    {
     "data": {
      "text/plain": [
       "(8000, 11)"
      ]
     },
     "execution_count": 49,
     "metadata": {},
     "output_type": "execute_result"
    }
   ],
   "source": [
    "train_x = ss.fit_transform(train_x)\n",
    "test_x = ss.transform(test_x)\n",
    "train_x.shape"
   ]
  },
  {
   "cell_type": "code",
   "execution_count": 50,
   "metadata": {},
   "outputs": [],
   "source": [
    "from keras.models import Sequential\n",
    "from keras.layers import Dense"
   ]
  },
  {
   "cell_type": "code",
   "execution_count": 62,
   "metadata": {},
   "outputs": [],
   "source": [
    "classifier = Sequential()"
   ]
  },
  {
   "cell_type": "code",
   "execution_count": 63,
   "metadata": {},
   "outputs": [],
   "source": [
    "classifier.add(Dense(units=8, input_dim =11 ,  activation='relu', kernel_initializer= 'uniform', ))"
   ]
  },
  {
   "cell_type": "code",
   "execution_count": 64,
   "metadata": {},
   "outputs": [],
   "source": [
    "classifier.add(Dense(units=6, activation='relu', kernel_initializer= 'uniform', ))"
   ]
  },
  {
   "cell_type": "code",
   "execution_count": 65,
   "metadata": {},
   "outputs": [],
   "source": [
    "classifier.add(Dense(units=1, activation='sigmoid', kernel_initializer = 'uniform'))"
   ]
  },
  {
   "cell_type": "code",
   "execution_count": 66,
   "metadata": {},
   "outputs": [],
   "source": [
    "classifier.compile(optimizer='adam', metrics=['accuracy'], loss='binary_crossentropy')"
   ]
  },
  {
   "cell_type": "code",
   "execution_count": null,
   "metadata": {},
   "outputs": [
    {
     "name": "stdout",
     "output_type": "stream",
     "text": [
      "Epoch 1/100\n",
      "8000/8000 [==============================] - 4s 478us/step - loss: 0.3512 - accuracy: 0.8585\n",
      "Epoch 2/100\n",
      "8000/8000 [==============================] - 4s 493us/step - loss: 0.3486 - accuracy: 0.8589\n",
      "Epoch 3/100\n",
      "8000/8000 [==============================] - ETA: 0s - loss: 0.3471 - accuracy: 0.86 - 4s 479us/step - loss: 0.3471 - accuracy: 0.8610\n",
      "Epoch 4/100\n",
      "8000/8000 [==============================] - 3s 434us/step - loss: 0.3453 - accuracy: 0.8580\n",
      "Epoch 5/100\n",
      "8000/8000 [==============================] - 4s 438us/step - loss: 0.3444 - accuracy: 0.8610\n",
      "Epoch 6/100\n",
      "8000/8000 [==============================] - 4s 486us/step - loss: 0.3435 - accuracy: 0.8609\n",
      "Epoch 7/100\n",
      "8000/8000 [==============================] - 4s 443us/step - loss: 0.3430 - accuracy: 0.8608\n",
      "Epoch 8/100\n",
      "8000/8000 [==============================] - 4s 440us/step - loss: 0.3422 - accuracy: 0.8614\n",
      "Epoch 9/100\n",
      "8000/8000 [==============================] - 4s 442us/step - loss: 0.3417 - accuracy: 0.8596\n",
      "Epoch 10/100\n",
      "8000/8000 [==============================] - 4s 490us/step - loss: 0.3412 - accuracy: 0.8622\n",
      "Epoch 11/100\n",
      "8000/8000 [==============================] - 4s 481us/step - loss: 0.3404 - accuracy: 0.8615\n",
      "Epoch 12/100\n",
      "8000/8000 [==============================] - 4s 443us/step - loss: 0.3403 - accuracy: 0.8619\n",
      "Epoch 13/100\n",
      "8000/8000 [==============================] - 4s 482us/step - loss: 0.3403 - accuracy: 0.8621\n",
      "Epoch 14/100\n",
      "8000/8000 [==============================] - 5s 593us/step - loss: 0.3399 - accuracy: 0.8602\n",
      "Epoch 15/100\n",
      "8000/8000 [==============================] - 4s 456us/step - loss: 0.3396 - accuracy: 0.8621\n",
      "Epoch 16/100\n",
      "8000/8000 [==============================] - 3s 436us/step - loss: 0.3391 - accuracy: 0.8601\n",
      "Epoch 17/100\n",
      "8000/8000 [==============================] - 4s 519us/step - loss: 0.3391 - accuracy: 0.8606\n",
      "Epoch 18/100\n",
      "8000/8000 [==============================] - 4s 553us/step - loss: 0.3388 - accuracy: 0.8600\n",
      "Epoch 19/100\n",
      "8000/8000 [==============================] - ETA: 0s - loss: 0.3391 - accuracy: 0.86 - 4s 472us/step - loss: 0.3394 - accuracy: 0.8618\n",
      "Epoch 20/100\n",
      "8000/8000 [==============================] - 5s 585us/step - loss: 0.3383 - accuracy: 0.8624\n",
      "Epoch 21/100\n",
      "8000/8000 [==============================] - 3s 427us/step - loss: 0.3386 - accuracy: 0.8606\n",
      "Epoch 22/100\n",
      "8000/8000 [==============================] - 4s 551us/step - loss: 0.3379 - accuracy: 0.8633\n",
      "Epoch 23/100\n",
      "8000/8000 [==============================] - 4s 499us/step - loss: 0.3380 - accuracy: 0.8626\n",
      "Epoch 24/100\n",
      "8000/8000 [==============================] - 3s 432us/step - loss: 0.3375 - accuracy: 0.8635\n",
      "Epoch 25/100\n",
      "8000/8000 [==============================] - 5s 585us/step - loss: 0.3373 - accuracy: 0.8608\n",
      "Epoch 26/100\n",
      "8000/8000 [==============================] - 4s 450us/step - loss: 0.3374 - accuracy: 0.8646\n",
      "Epoch 27/100\n",
      "8000/8000 [==============================] - 5s 622us/step - loss: 0.3370 - accuracy: 0.8633\n",
      "Epoch 28/100\n",
      "8000/8000 [==============================] - 5s 623us/step - loss: 0.3368 - accuracy: 0.8639\n",
      "Epoch 29/100\n",
      "8000/8000 [==============================] - 6s 788us/step - loss: 0.3373 - accuracy: 0.8608\n",
      "Epoch 30/100\n",
      "8000/8000 [==============================] - 5s 618us/step - loss: 0.3364 - accuracy: 0.8633\n",
      "Epoch 31/100\n",
      "8000/8000 [==============================] - 6s 761us/step - loss: 0.3362 - accuracy: 0.8615\n",
      "Epoch 32/100\n",
      "8000/8000 [==============================] - 5s 651us/step - loss: 0.3363 - accuracy: 0.8625\n",
      "Epoch 33/100\n",
      "8000/8000 [==============================] - 6s 749us/step - loss: 0.3365 - accuracy: 0.8631\n",
      "Epoch 34/100\n",
      "8000/8000 [==============================] - ETA: 0s - loss: 0.3365 - accuracy: 0.86 - 5s 659us/step - loss: 0.3366 - accuracy: 0.8616\n",
      "Epoch 35/100\n",
      "8000/8000 [==============================] - 6s 735us/step - loss: 0.3359 - accuracy: 0.8631\n",
      "Epoch 36/100\n",
      "8000/8000 [==============================] - 8s 940us/step - loss: 0.3365 - accuracy: 0.8639\n",
      "Epoch 37/100\n",
      "8000/8000 [==============================] - 6s 724us/step - loss: 0.3358 - accuracy: 0.8637\n",
      "Epoch 38/100\n",
      "8000/8000 [==============================] - 6s 729us/step - loss: 0.3365 - accuracy: 0.8626\n",
      "Epoch 39/100\n",
      "8000/8000 [==============================] - 5s 687us/step - loss: 0.3352 - accuracy: 0.8639\n",
      "Epoch 40/100\n",
      "8000/8000 [==============================] - 4s 519us/step - loss: 0.3357 - accuracy: 0.8621\n",
      "Epoch 41/100\n",
      "8000/8000 [==============================] - 4s 494us/step - loss: 0.3358 - accuracy: 0.8650\n",
      "Epoch 42/100\n",
      "8000/8000 [==============================] - 5s 602us/step - loss: 0.3354 - accuracy: 0.8624\n",
      "Epoch 43/100\n",
      "8000/8000 [==============================] - 4s 443us/step - loss: 0.3348 - accuracy: 0.8618\n",
      "Epoch 44/100\n",
      "8000/8000 [==============================] - 4s 452us/step - loss: 0.3361 - accuracy: 0.8631\n",
      "Epoch 45/100\n",
      "8000/8000 [==============================] - 6s 728us/step - loss: 0.3349 - accuracy: 0.8612\n",
      "Epoch 46/100\n",
      "8000/8000 [==============================] - 4s 555us/step - loss: 0.3353 - accuracy: 0.8662\n",
      "Epoch 47/100\n",
      "8000/8000 [==============================] - 4s 495us/step - loss: 0.3348 - accuracy: 0.8636\n",
      "Epoch 48/100\n",
      "8000/8000 [==============================] - 4s 527us/step - loss: 0.3348 - accuracy: 0.8640\n",
      "Epoch 49/100\n",
      "8000/8000 [==============================] - 3s 434us/step - loss: 0.3342 - accuracy: 0.8649\n",
      "Epoch 50/100\n",
      "8000/8000 [==============================] - 5s 615us/step - loss: 0.3344 - accuracy: 0.8637\n",
      "Epoch 51/100\n",
      "8000/8000 [==============================] - 3s 429us/step - loss: 0.3343 - accuracy: 0.8641\n",
      "Epoch 52/100\n",
      "8000/8000 [==============================] - 7s 925us/step - loss: 0.3340 - accuracy: 0.8646\n",
      "Epoch 53/100\n",
      "8000/8000 [==============================] - 8s 971us/step - loss: 0.3348 - accuracy: 0.86430s - loss: 0.3345 - accuracy: \n",
      "Epoch 54/100\n",
      "8000/8000 [==============================] - 5s 597us/step - loss: 0.3337 - accuracy: 0.8639\n",
      "Epoch 55/100\n",
      "8000/8000 [==============================] - 5s 680us/step - loss: 0.3336 - accuracy: 0.8645\n",
      "Epoch 56/100\n",
      "8000/8000 [==============================] - 5s 663us/step - loss: 0.3336 - accuracy: 0.8618\n",
      "Epoch 57/100\n",
      "8000/8000 [==============================] - 6s 759us/step - loss: 0.3339 - accuracy: 0.8633\n",
      "Epoch 58/100\n",
      "8000/8000 [==============================] - 5s 585us/step - loss: 0.3338 - accuracy: 0.8635\n",
      "Epoch 59/100\n",
      "8000/8000 [==============================] - 6s 717us/step - loss: 0.3335 - accuracy: 0.8634\n",
      "Epoch 60/100\n",
      "8000/8000 [==============================] - 5s 670us/step - loss: 0.3343 - accuracy: 0.8639\n",
      "Epoch 61/100\n",
      "8000/8000 [==============================] - 5s 681us/step - loss: 0.3329 - accuracy: 0.8615\n",
      "Epoch 62/100\n",
      "8000/8000 [==============================] - 5s 617us/step - loss: 0.3338 - accuracy: 0.8645\n",
      "Epoch 63/100\n",
      "8000/8000 [==============================] - 5s 650us/step - loss: 0.3332 - accuracy: 0.8629\n",
      "Epoch 64/100\n",
      "8000/8000 [==============================] - 4s 535us/step - loss: 0.3331 - accuracy: 0.8634\n",
      "Epoch 65/100\n",
      "8000/8000 [==============================] - 5s 587us/step - loss: 0.3335 - accuracy: 0.8626\n",
      "Epoch 66/100\n",
      "8000/8000 [==============================] - 3s 410us/step - loss: 0.3336 - accuracy: 0.8625\n",
      "Epoch 67/100\n",
      "8000/8000 [==============================] - 5s 642us/step - loss: 0.3335 - accuracy: 0.8611\n",
      "Epoch 68/100\n",
      "8000/8000 [==============================] - 4s 523us/step - loss: 0.3337 - accuracy: 0.8643\n",
      "Epoch 69/100\n",
      "8000/8000 [==============================] - 6s 692us/step - loss: 0.3338 - accuracy: 0.8641\n",
      "Epoch 70/100\n",
      "8000/8000 [==============================] - 5s 613us/step - loss: 0.3329 - accuracy: 0.8644\n",
      "Epoch 71/100\n",
      "8000/8000 [==============================] - 5s 580us/step - loss: 0.3330 - accuracy: 0.8637\n",
      "Epoch 72/100\n",
      "8000/8000 [==============================] - 4s 501us/step - loss: 0.3325 - accuracy: 0.8641\n",
      "Epoch 73/100\n",
      "8000/8000 [==============================] - 4s 520us/step - loss: 0.3337 - accuracy: 0.8629\n",
      "Epoch 74/100\n",
      "8000/8000 [==============================] - 5s 599us/step - loss: 0.3342 - accuracy: 0.8611\n",
      "Epoch 75/100\n",
      "8000/8000 [==============================] - 3s 397us/step - loss: 0.3331 - accuracy: 0.8648\n",
      "Epoch 76/100\n",
      "8000/8000 [==============================] - 4s 481us/step - loss: 0.3328 - accuracy: 0.8620\n",
      "Epoch 77/100\n",
      "8000/8000 [==============================] - 5s 606us/step - loss: 0.3330 - accuracy: 0.8656\n",
      "Epoch 78/100\n",
      "8000/8000 [==============================] - 4s 542us/step - loss: 0.3326 - accuracy: 0.8621\n",
      "Epoch 79/100\n",
      "8000/8000 [==============================] - 4s 514us/step - loss: 0.3321 - accuracy: 0.8652\n",
      "Epoch 80/100\n",
      "8000/8000 [==============================] - 5s 602us/step - loss: 0.3334 - accuracy: 0.8646\n",
      "Epoch 81/100\n",
      "8000/8000 [==============================] - 4s 472us/step - loss: 0.3320 - accuracy: 0.8648\n",
      "Epoch 82/100\n",
      "8000/8000 [==============================] - 5s 581us/step - loss: 0.3333 - accuracy: 0.8635\n",
      "Epoch 83/100\n",
      "8000/8000 [==============================] - 4s 465us/step - loss: 0.3327 - accuracy: 0.8627\n",
      "Epoch 84/100\n",
      "8000/8000 [==============================] - 5s 679us/step - loss: 0.3327 - accuracy: 0.8635\n",
      "Epoch 85/100\n",
      "8000/8000 [==============================] - 4s 515us/step - loss: 0.3323 - accuracy: 0.8620\n",
      "Epoch 86/100\n",
      "8000/8000 [==============================] - 5s 668us/step - loss: 0.3322 - accuracy: 0.8645\n",
      "Epoch 87/100\n",
      " 830/8000 [==>...........................] - ETA: 4s - loss: 0.3373 - accuracy: 0.8590"
     ]
    }
   ],
   "source": [
    "classifier.fit(train_x, train_y, batch_size=10, epochs=100)"
   ]
  },
  {
   "cell_type": "code",
   "execution_count": 71,
   "metadata": {},
   "outputs": [],
   "source": [
    "y_pred =classifier.predict(test_x)"
   ]
  },
  {
   "cell_type": "code",
   "execution_count": 72,
   "metadata": {},
   "outputs": [],
   "source": [
    "y_pred = (y_pred > 0.5)"
   ]
  },
  {
   "cell_type": "code",
   "execution_count": 73,
   "metadata": {},
   "outputs": [],
   "source": [
    "from sklearn.metrics import accuracy_score"
   ]
  },
  {
   "cell_type": "code",
   "execution_count": 74,
   "metadata": {},
   "outputs": [
    {
     "data": {
      "text/plain": [
       "0.86"
      ]
     },
     "execution_count": 74,
     "metadata": {},
     "output_type": "execute_result"
    }
   ],
   "source": [
    "accuracy_score(test_y, y_pred)"
   ]
  },
  {
   "cell_type": "code",
   "execution_count": null,
   "metadata": {},
   "outputs": [],
   "source": []
  }
 ],
 "metadata": {
  "kernelspec": {
   "display_name": "Python 3",
   "language": "python",
   "name": "python3"
  },
  "language_info": {
   "codemirror_mode": {
    "name": "ipython",
    "version": 3
   },
   "file_extension": ".py",
   "mimetype": "text/x-python",
   "name": "python",
   "nbconvert_exporter": "python",
   "pygments_lexer": "ipython3",
   "version": "3.7.3"
  }
 },
 "nbformat": 4,
 "nbformat_minor": 4
}
