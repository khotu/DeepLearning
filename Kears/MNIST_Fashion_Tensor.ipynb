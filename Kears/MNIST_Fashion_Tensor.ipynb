{
 "cells": [
  {
   "cell_type": "code",
   "execution_count": 86,
   "metadata": {},
   "outputs": [],
   "source": [
    "import tensorflow as tf\n",
    "import numpy as np\n",
    "import pandas as pd\n",
    "from keras import models\n",
    "from keras import layers\n",
    "from keras.utils import to_categorical"
   ]
  },
  {
   "cell_type": "code",
   "execution_count": 87,
   "metadata": {},
   "outputs": [],
   "source": [
    "from keras.datasets import fashion_mnist\n",
    "import matplotlib.pyplot as plt"
   ]
  },
  {
   "cell_type": "code",
   "execution_count": 124,
   "metadata": {},
   "outputs": [],
   "source": [
    "(x_train, y_train), (x_test, y_test) = fashion_mnist.load_data()"
   ]
  },
  {
   "cell_type": "code",
   "execution_count": 125,
   "metadata": {},
   "outputs": [
    {
     "name": "stdout",
     "output_type": "stream",
     "text": [
      "Label at specified random Number :  0\n"
     ]
    },
    {
     "data": {
      "image/png": "[encoded data removed]",
      "text/plain": [
       "<Figure size 432x288 with 1 Axes>"
      ]
     },
     "metadata": {
      "needs_background": "light"
     },
     "output_type": "display_data"
    }
   ],
   "source": [
    "### Display a random image\n",
    "random_no = np.random.randint(low=0, high=len(x_train))\n",
    "plt.imshow((x_train[random_no]))\n",
    "print(\"Label at specified random Number : \",y_train[random_no])"
   ]
  },
  {
   "cell_type": "code",
   "execution_count": 90,
   "metadata": {},
   "outputs": [
    {
     "data": {
      "text/plain": [
       "numpy.ndarray"
      ]
     },
     "execution_count": 90,
     "metadata": {},
     "output_type": "execute_result"
    }
   ],
   "source": [
    "## type of input features\n",
    "type(x_train[random_no])"
   ]
  },
  {
   "cell_type": "code",
   "execution_count": 126,
   "metadata": {},
   "outputs": [
    {
     "name": "stdout",
     "output_type": "stream",
     "text": [
      "Shape of Training data :  (60000, 28, 28)\n",
      "Shape of Training label :  (60000,)\n",
      "Shape of Test data :  (10000, 28, 28)\n",
      "Shape of Test label :  (10000,)\n"
     ]
    }
   ],
   "source": [
    "## shape of train and test set\n",
    "print(\"Shape of Training data : \",x_train.shape)\n",
    "print(\"Shape of Training label : \",y_train.shape)\n",
    "\n",
    "print(\"Shape of Test data : \",x_test.shape)\n",
    "print(\"Shape of Test label : \",y_test.shape)"
   ]
  },
  {
   "cell_type": "markdown",
   "metadata": {},
   "source": [
    "#### As such we have 60,000 images in Training data and 10,000 images in Test data, where each images has 28*28 matrix which represent that images are black and white."
   ]
  },
  {
   "cell_type": "code",
   "execution_count": 127,
   "metadata": {},
   "outputs": [],
   "source": [
    "## Normalizing the data set\n",
    "x_train, x_test = x_train / 255.0, x_test / 255.0"
   ]
  },
  {
   "cell_type": "code",
   "execution_count": 121,
   "metadata": {},
   "outputs": [],
   "source": [
    "### Vectorization of each image\n",
    "x_train_reshape = x_train.reshape(-1, 784)   # Each image converted in 784 (28*28) features\n",
    "x_test_reshape = x_test.reshape(-1, 784)"
   ]
  },
  {
   "cell_type": "code",
   "execution_count": 134,
   "metadata": {},
   "outputs": [],
   "source": [
    "# y_train = pd.get_dummies(y_train)\n",
    "# y_test = pd.get_dummies(y_test)\n",
    "y_train = to_categorical(y_train)\n",
    "y_test = to_categorical(y_test)"
   ]
  },
  {
   "cell_type": "code",
   "execution_count": 10,
   "metadata": {},
   "outputs": [
    {
     "data": {
      "text/plain": [
       "((60000, 10), (10000, 10))"
      ]
     },
     "execution_count": 10,
     "metadata": {},
     "output_type": "execute_result"
    }
   ],
   "source": [
    "y_train.shape, y_test.shape"
   ]
  },
  {
   "cell_type": "markdown",
   "metadata": {},
   "source": [
    "## Dense Network "
   ]
  },
  {
   "cell_type": "code",
   "execution_count": 11,
   "metadata": {},
   "outputs": [],
   "source": [
    "model = models.Sequential()"
   ]
  },
  {
   "cell_type": "code",
   "execution_count": 12,
   "metadata": {},
   "outputs": [],
   "source": [
    "model.add(layers.Dense(units=128, activation='relu', input_dim= x_train.shape[1]))\n",
    "model.add(layers.Dense(units=10, activation='softmax',))"
   ]
  },
  {
   "cell_type": "code",
   "execution_count": 13,
   "metadata": {},
   "outputs": [],
   "source": [
    "model.compile(optimizer='rmsprop', loss='categorical_crossentropy', metrics=['accuracy'])"
   ]
  },
  {
   "cell_type": "code",
   "execution_count": 24,
   "metadata": {},
   "outputs": [
    {
     "name": "stdout",
     "output_type": "stream",
     "text": [
      "Epoch 1/10\n",
      "60000/60000 [==============================] - 7s 117us/step - loss: 0.1305 - accuracy: 0.9515\n",
      "Epoch 2/10\n",
      "60000/60000 [==============================] - 6s 108us/step - loss: 0.1277 - accuracy: 0.9527\n",
      "Epoch 3/10\n",
      "60000/60000 [==============================] - 9s 143us/step - loss: 0.1258 - accuracy: 0.95340s - loss: 0.1\n",
      "Epoch 4/10\n",
      "60000/60000 [==============================] - 7s 115us/step - loss: 0.1225 - accuracy: 0.9546\n",
      "Epoch 5/10\n",
      "60000/60000 [==============================] - 7s 117us/step - loss: 0.1218 - accuracy: 0.9544\n",
      "Epoch 6/10\n",
      "60000/60000 [==============================] - 8s 127us/step - loss: 0.1188 - accuracy: 0.9563\n",
      "Epoch 7/10\n",
      "60000/60000 [==============================] - 8s 130us/step - loss: 0.1165 - accuracy: 0.95722s - loss: 0.1158 - accura - ETA: 2s - loss: 0.1149 - accuracy - ETA - ETA\n",
      "Epoch 8/10\n",
      "60000/60000 [==============================] - 7s 118us/step - loss: 0.1137 - accuracy: 0.9582\n",
      "Epoch 9/10\n",
      "60000/60000 [==============================] - 12s 205us/step - loss: 0.1139 - accuracy: 0.9586\n",
      "Epoch 10/10\n",
      "60000/60000 [==============================] - 9s 146us/step - loss: 0.1120 - accuracy: 0.9579\n"
     ]
    }
   ],
   "source": [
    "model_info = model.fit(x=x_train_reshape, y=y_train, epochs=10, batch_size=128,)"
   ]
  },
  {
   "cell_type": "code",
   "execution_count": 27,
   "metadata": {},
   "outputs": [],
   "source": [
    "history = model_info.history"
   ]
  },
  {
   "cell_type": "code",
   "execution_count": 28,
   "metadata": {},
   "outputs": [
    {
     "data": {
      "text/plain": [
       "dict_keys(['loss', 'accuracy'])"
      ]
     },
     "execution_count": 28,
     "metadata": {},
     "output_type": "execute_result"
    }
   ],
   "source": [
    "history.keys()"
   ]
  },
  {
   "cell_type": "code",
   "execution_count": 30,
   "metadata": {},
   "outputs": [],
   "source": [
    "loss = history['loss']\n",
    "accuracy = history['accuracy']"
   ]
  },
  {
   "cell_type": "code",
   "execution_count": 34,
   "metadata": {},
   "outputs": [
    {
     "data": {
      "text/plain": [
       "<matplotlib.legend.Legend at 0x1ecdc030390>"
      ]
     },
     "execution_count": 34,
     "metadata": {},
     "output_type": "execute_result"
    },
    {
     "data": {
      "image/png": "[encoded data removed]",
      "text/plain": [
       "<Figure size 432x288 with 1 Axes>"
      ]
     },
     "metadata": {
      "needs_background": "light"
     },
     "output_type": "display_data"
    }
   ],
   "source": [
    "plt.plot(range(1,11), accuracy, label='Accuracy')\n",
    "plt.legend()"
   ]
  },
  {
   "cell_type": "code",
   "execution_count": 35,
   "metadata": {},
   "outputs": [
    {
     "data": {
      "text/plain": [
       "<matplotlib.legend.Legend at 0x1ecdbe65438>"
      ]
     },
     "execution_count": 35,
     "metadata": {},
     "output_type": "execute_result"
    },
    {
     "data": {
      "image/png": "[encoded data removed]",
      "text/plain": [
       "<Figure size 432x288 with 1 Axes>"
      ]
     },
     "metadata": {
      "needs_background": "light"
     },
     "output_type": "display_data"
    }
   ],
   "source": [
    "plt.plot(range(1,11), loss, 'r', label='Loss')\n",
    "plt.legend()"
   ]
  },
  {
   "cell_type": "markdown",
   "metadata": {},
   "source": [
    "## CNN Model"
   ]
  },
  {
   "cell_type": "code",
   "execution_count": 103,
   "metadata": {},
   "outputs": [],
   "source": [
    "model_cnn = models.Sequential()"
   ]
  },
  {
   "cell_type": "code",
   "execution_count": 104,
   "metadata": {},
   "outputs": [],
   "source": [
    "model_cnn.add(layers.Conv2D(filters=32, kernel_size=(3,3), activation='relu', input_shape=(28,28,1)))\n",
    "model_cnn.add(layers.MaxPool2D(pool_size=(2,2)))\n",
    "\n",
    "model_cnn.add(layers.Conv2D(filters=32, kernel_size=(3,3), activation='relu'))\n",
    "model_cnn.add(layers.MaxPool2D(pool_size=(2,2)))\n",
    "\n",
    "\n",
    "model_cnn.add(layers.Flatten())\n",
    "model_cnn.add(layers.Dense(units=128, activation='relu'))\n",
    "model_cnn.add(layers.Dense(units=10, activation='softmax'))"
   ]
  },
  {
   "cell_type": "code",
   "execution_count": 105,
   "metadata": {},
   "outputs": [],
   "source": [
    "model_cnn.compile(optimizer='rmsprop', loss='categorical_crossentropy', metrics=['accuracy'])"
   ]
  },
  {
   "cell_type": "code",
   "execution_count": 107,
   "metadata": {},
   "outputs": [],
   "source": [
    "from sklearn.model_selection import train_test_split"
   ]
  },
  {
   "cell_type": "code",
   "execution_count": 135,
   "metadata": {},
   "outputs": [
    {
     "data": {
      "text/plain": [
       "((40200, 28, 28), (19800, 28, 28), (40200, 10), (19800, 10))"
      ]
     },
     "execution_count": 135,
     "metadata": {},
     "output_type": "execute_result"
    }
   ],
   "source": [
    "X_train, X_val_test, y_train_, y_val_test = train_test_split(x_train, y_train, test_size=0.33, random_state=42)\n",
    "X_train.shape, X_val_test.shape, y_train_.shape, y_val_test.shape"
   ]
  },
  {
   "cell_type": "code",
   "execution_count": 136,
   "metadata": {},
   "outputs": [
    {
     "name": "stdout",
     "output_type": "stream",
     "text": [
      "Train on 40200 samples, validate on 19800 samples\n",
      "Epoch 1/10\n",
      "40200/40200 [==============================] - 209s 5ms/step - loss: 0.3986 - accuracy: 0.8566 - val_loss: 0.5007 - val_accuracy: 0.8120\n",
      "Epoch 2/10\n",
      "40200/40200 [==============================] - 205s 5ms/step - loss: 0.3425 - accuracy: 0.8761 - val_loss: 0.4209 - val_accuracy: 0.8464\n",
      "Epoch 3/10\n",
      "40200/40200 [==============================] - 202s 5ms/step - loss: 0.3073 - accuracy: 0.8873 - val_loss: 0.3845 - val_accuracy: 0.8572\n",
      "Epoch 4/10\n",
      "40200/40200 [==============================] - 202s 5ms/step - loss: 0.2829 - accuracy: 0.8961 - val_loss: 0.3586 - val_accuracy: 0.8747\n",
      "Epoch 5/10\n",
      "40200/40200 [==============================] - 202s 5ms/step - loss: 0.2606 - accuracy: 0.9043 - val_loss: 0.3615 - val_accuracy: 0.8712\n",
      "Epoch 6/10\n",
      "40200/40200 [==============================] - 200s 5ms/step - loss: 0.2453 - accuracy: 0.9105 - val_loss: 0.3480 - val_accuracy: 0.8718\n",
      "Epoch 7/10\n",
      "40200/40200 [==============================] - 201s 5ms/step - loss: 0.2299 - accuracy: 0.9157 - val_loss: 0.4789 - val_accuracy: 0.8336\n",
      "Epoch 8/10\n",
      "40200/40200 [==============================] - 203s 5ms/step - loss: 0.2159 - accuracy: 0.9204 - val_loss: 0.2651 - val_accuracy: 0.9014\n",
      "Epoch 9/10\n",
      "40200/40200 [==============================] - 202s 5ms/step - loss: 0.2018 - accuracy: 0.9257 - val_loss: 0.2507 - val_accuracy: 0.9116\n",
      "Epoch 10/10\n",
      "40200/40200 [==============================] - 202s 5ms/step - loss: 0.1899 - accuracy: 0.9302 - val_loss: 0.4396 - val_accuracy: 0.8494\n"
     ]
    }
   ],
   "source": [
    "x_train_reshape_cnn = X_train.reshape((-1,28,28,1))\n",
    "x_test_reshape_cnn = X_val_test.reshape((-1,28,28,1))\n",
    "\n",
    "\n",
    "\n",
    "model_cnn_history = model_cnn.fit(x=x_train_reshape_cnn, y=y_train_, batch_size=128, epochs=10, validation_data=(x_test_reshape_cnn, y_val_test))"
   ]
  },
  {
   "cell_type": "code",
   "execution_count": 138,
   "metadata": {},
   "outputs": [],
   "source": [
    "history = model_cnn_history.history"
   ]
  },
  {
   "cell_type": "code",
   "execution_count": 139,
   "metadata": {},
   "outputs": [
    {
     "data": {
      "text/plain": [
       "<matplotlib.legend.Legend at 0x1ec97a3b4a8>"
      ]
     },
     "execution_count": 139,
     "metadata": {},
     "output_type": "execute_result"
    },
    {
     "data": {
      "image/png": "[encoded data removed]",
      "text/plain": [
       "<Figure size 432x288 with 1 Axes>"
      ]
     },
     "metadata": {
      "needs_background": "light"
     },
     "output_type": "display_data"
    }
   ],
   "source": [
    "plt.plot(range(1,11), history['accuracy'], label='Training Accuracy')\n",
    "plt.plot(range(1,11), history['val_accuracy'], 'r', label='validation Accuracy')\n",
    "\n",
    "plt.legend()"
   ]
  },
  {
   "cell_type": "code",
   "execution_count": 140,
   "metadata": {},
   "outputs": [
    {
     "data": {
      "text/plain": [
       "<matplotlib.legend.Legend at 0x1ecdee8bcc0>"
      ]
     },
     "execution_count": 140,
     "metadata": {},
     "output_type": "execute_result"
    },
    {
     "data": {
      "image/png": "[encoded data removed]",
      "text/plain": [
       "<Figure size 432x288 with 1 Axes>"
      ]
     },
     "metadata": {
      "needs_background": "light"
     },
     "output_type": "display_data"
    }
   ],
   "source": [
    "plt.plot(range(1,11), history['loss'], label='Training loss')\n",
    "plt.plot(range(1,11), history['val_loss'], 'r', label='validation loss')\n",
    "\n",
    "plt.legend()"
   ]
  },
  {
   "cell_type": "code",
   "execution_count": 145,
   "metadata": {},
   "outputs": [
    {
     "name": "stdout",
     "output_type": "stream",
     "text": [
      "(10000, 28, 28, 1) (10000, 10)\n",
      "10000/10000 [==============================] - 20s 2ms/step\n"
     ]
    },
    {
     "data": {
      "text/plain": [
       "[0.47681361515522, 0.8364999890327454]"
      ]
     },
     "execution_count": 145,
     "metadata": {},
     "output_type": "execute_result"
    }
   ],
   "source": [
    "x_test_reshae = x_test.reshape((-1,28,28,1))\n",
    "print(x_test_reshae.shape, y_test.shape)\n",
    "\n",
    "model_cnn.evaluate(x_test_reshae, y_test)"
   ]
  },
  {
   "cell_type": "code",
   "execution_count": null,
   "metadata": {},
   "outputs": [],
   "source": []
  },
  {
   "cell_type": "markdown",
   "metadata": {},
   "source": [
    "## Regularization"
   ]
  },
  {
   "cell_type": "code",
   "execution_count": 149,
   "metadata": {},
   "outputs": [],
   "source": [
    "from keras import regularizers"
   ]
  },
  {
   "cell_type": "code",
   "execution_count": 165,
   "metadata": {},
   "outputs": [],
   "source": [
    "model_cnn = models.Sequential()\n",
    "\n",
    "model_cnn.add(layers.Conv2D(filters=32, kernel_size=(3,3), activation='relu', input_shape=(28,28,1),))\n",
    "model_cnn.add(layers.MaxPool2D(pool_size=(2,2), ))\n",
    "\n",
    "model_cnn.add(layers.Conv2D(filters=64, kernel_size=(3,3), activation='relu'))\n",
    "model_cnn.add(layers.MaxPool2D(pool_size=(2,2)))\n",
    "\n",
    "\n",
    "model_cnn.add(layers.Flatten())\n",
    "model_cnn.add(layers.Dense(units=128, activation='relu', kernel_regularizer=regularizers.l2(l=0.001)))\n",
    "model_cnn.add(layers.Dropout(rate=0.2))\n",
    "model_cnn.add(layers.Dense(units=10, activation='softmax'))\n",
    "\n",
    "model_cnn.compile(optimizer='adam', loss='categorical_crossentropy', metrics=['accuracy'])\n"
   ]
  },
  {
   "cell_type": "code",
   "execution_count": 166,
   "metadata": {},
   "outputs": [
    {
     "data": {
      "text/plain": [
       "((54000, 28, 28), (6000, 28, 28), (54000, 10), (6000, 10))"
      ]
     },
     "execution_count": 166,
     "metadata": {},
     "output_type": "execute_result"
    }
   ],
   "source": [
    "X_train, X_val_test, y_train_, y_val_test = train_test_split(x_train, y_train, test_size=0.10, random_state=42)\n",
    "X_train.shape, X_val_test.shape, y_train_.shape, y_val_test.shape"
   ]
  },
  {
   "cell_type": "code",
   "execution_count": 167,
   "metadata": {},
   "outputs": [
    {
     "name": "stdout",
     "output_type": "stream",
     "text": [
      "Train on 54000 samples, validate on 6000 samples\n",
      "Epoch 1/20\n",
      "54000/54000 [==============================] - 299s 6ms/step - loss: 0.7273 - accuracy: 0.7871 - val_loss: 0.5020 - val_accuracy: 0.8510\n",
      "Epoch 2/20\n",
      "54000/54000 [==============================] - 289s 5ms/step - loss: 0.4735 - accuracy: 0.8588 - val_loss: 0.4086 - val_accuracy: 0.8777\n",
      "Epoch 3/20\n",
      "54000/54000 [==============================] - 287s 5ms/step - loss: 0.4153 - accuracy: 0.8742 - val_loss: 0.3661 - val_accuracy: 0.8880\n",
      "Epoch 4/20\n",
      "54000/54000 [==============================] - 287s 5ms/step - loss: 0.3792 - accuracy: 0.8845 - val_loss: 0.3663 - val_accuracy: 0.8805\n",
      "Epoch 5/20\n",
      "54000/54000 [==============================] - 291s 5ms/step - loss: 0.3574 - accuracy: 0.8912 - val_loss: 0.3540 - val_accuracy: 0.8915\n",
      "Epoch 6/20\n",
      "54000/54000 [==============================] - 290s 5ms/step - loss: 0.3431 - accuracy: 0.8950 - val_loss: 0.3429 - val_accuracy: 0.8930\n",
      "Epoch 7/20\n",
      "54000/54000 [==============================] - 289s 5ms/step - loss: 0.3308 - accuracy: 0.9004 - val_loss: 0.3449 - val_accuracy: 0.8935\n",
      "Epoch 8/20\n",
      "54000/54000 [==============================] - 288s 5ms/step - loss: 0.3205 - accuracy: 0.9036 - val_loss: 0.3249 - val_accuracy: 0.9000\n",
      "Epoch 9/20\n",
      "54000/54000 [==============================] - 286s 5ms/step - loss: 0.3101 - accuracy: 0.9075 - val_loss: 0.3085 - val_accuracy: 0.9050\n",
      "Epoch 10/20\n",
      "54000/54000 [==============================] - 287s 5ms/step - loss: 0.3040 - accuracy: 0.9101 - val_loss: 0.3160 - val_accuracy: 0.9052\n",
      "Epoch 11/20\n",
      "54000/54000 [==============================] - 284s 5ms/step - loss: 0.2994 - accuracy: 0.9115 - val_loss: 0.3097 - val_accuracy: 0.9122\n",
      "Epoch 12/20\n",
      "54000/54000 [==============================] - 285s 5ms/step - loss: 0.2935 - accuracy: 0.9135 - val_loss: 0.2989 - val_accuracy: 0.9120\n",
      "Epoch 13/20\n",
      "54000/54000 [==============================] - 284s 5ms/step - loss: 0.2861 - accuracy: 0.9156 - val_loss: 0.3053 - val_accuracy: 0.9082\n",
      "Epoch 14/20\n",
      "54000/54000 [==============================] - 284s 5ms/step - loss: 0.2818 - accuracy: 0.9186 - val_loss: 0.3247 - val_accuracy: 0.8990\n",
      "Epoch 15/20\n",
      "54000/54000 [==============================] - 284s 5ms/step - loss: 0.2787 - accuracy: 0.9186 - val_loss: 0.2998 - val_accuracy: 0.9100\n",
      "Epoch 16/20\n",
      "54000/54000 [==============================] - 289s 5ms/step - loss: 0.2725 - accuracy: 0.9233 - val_loss: 0.3116 - val_accuracy: 0.9033\n",
      "Epoch 17/20\n",
      "54000/54000 [==============================] - 292s 5ms/step - loss: 0.2679 - accuracy: 0.9246 - val_loss: 0.3194 - val_accuracy: 0.9025\n",
      "Epoch 18/20\n",
      "54000/54000 [==============================] - 284s 5ms/step - loss: 0.2666 - accuracy: 0.9258 - val_loss: 0.2962 - val_accuracy: 0.9115\n",
      "Epoch 19/20\n",
      "54000/54000 [==============================] - 286s 5ms/step - loss: 0.2610 - accuracy: 0.9264 - val_loss: 0.3239 - val_accuracy: 0.9028\n",
      "Epoch 20/20\n",
      "54000/54000 [==============================] - 284s 5ms/step - loss: 0.2564 - accuracy: 0.9287 - val_loss: 0.2959 - val_accuracy: 0.9130\n"
     ]
    }
   ],
   "source": [
    "x_train_reshape_cnn = X_train.reshape((-1,28,28,1))\n",
    "x_val_reshape_cnn = X_val_test.reshape((-1,28,28,1))\n",
    "\n",
    "\n",
    "\n",
    "model_cnn_history = model_cnn.fit(x=x_train_reshape_cnn, y=y_train_, batch_size=128, epochs=20, \n",
    "                                  validation_data=(x_val_reshape_cnn, y_val_test), )"
   ]
  },
  {
   "cell_type": "code",
   "execution_count": null,
   "metadata": {},
   "outputs": [],
   "source": [
    "model_cnn.save(\"MNIST_FASHION_MOdel.h5\")"
   ]
  },
  {
   "cell_type": "code",
   "execution_count": 170,
   "metadata": {},
   "outputs": [],
   "source": [
    "history = model_cnn_history.history"
   ]
  },
  {
   "cell_type": "code",
   "execution_count": 1,
   "metadata": {},
   "outputs": [
    {
     "ename": "NameError",
     "evalue": "name 'plt' is not defined",
     "output_type": "error",
     "traceback": [
      "\u001b[1;31m---------------------------------------------------------------------------\u001b[0m",
      "\u001b[1;31mNameError\u001b[0m                                 Traceback (most recent call last)",
      "\u001b[1;32m<ipython-input-1-8eb3a9a6fc76>\u001b[0m in \u001b[0;36m<module>\u001b[1;34m\u001b[0m\n\u001b[1;32m----> 1\u001b[1;33m \u001b[0mplt\u001b[0m\u001b[1;33m.\u001b[0m\u001b[0mplot\u001b[0m\u001b[1;33m(\u001b[0m\u001b[0mrange\u001b[0m\u001b[1;33m(\u001b[0m\u001b[1;36m1\u001b[0m\u001b[1;33m,\u001b[0m\u001b[1;36m21\u001b[0m\u001b[1;33m)\u001b[0m\u001b[1;33m,\u001b[0m \u001b[0mhistory\u001b[0m\u001b[1;33m[\u001b[0m\u001b[1;34m'accuracy'\u001b[0m\u001b[1;33m]\u001b[0m\u001b[1;33m,\u001b[0m \u001b[0mlabel\u001b[0m\u001b[1;33m=\u001b[0m\u001b[1;34m'Training Accuracy'\u001b[0m\u001b[1;33m)\u001b[0m\u001b[1;33m\u001b[0m\u001b[1;33m\u001b[0m\u001b[0m\n\u001b[0m\u001b[0;32m      2\u001b[0m \u001b[0mplt\u001b[0m\u001b[1;33m.\u001b[0m\u001b[0mplot\u001b[0m\u001b[1;33m(\u001b[0m\u001b[0mrange\u001b[0m\u001b[1;33m(\u001b[0m\u001b[1;36m1\u001b[0m\u001b[1;33m,\u001b[0m\u001b[1;36m21\u001b[0m\u001b[1;33m)\u001b[0m\u001b[1;33m,\u001b[0m \u001b[0mhistory\u001b[0m\u001b[1;33m[\u001b[0m\u001b[1;34m'val_accuracy'\u001b[0m\u001b[1;33m]\u001b[0m\u001b[1;33m,\u001b[0m \u001b[1;34m'g'\u001b[0m\u001b[1;33m,\u001b[0m \u001b[0mlabel\u001b[0m\u001b[1;33m=\u001b[0m\u001b[1;34m'validation Accuracy'\u001b[0m\u001b[1;33m)\u001b[0m\u001b[1;33m\u001b[0m\u001b[1;33m\u001b[0m\u001b[0m\n\u001b[0;32m      3\u001b[0m \u001b[1;33m\u001b[0m\u001b[0m\n\u001b[0;32m      4\u001b[0m \u001b[0mplt\u001b[0m\u001b[1;33m.\u001b[0m\u001b[0mlegend\u001b[0m\u001b[1;33m(\u001b[0m\u001b[1;33m)\u001b[0m\u001b[1;33m\u001b[0m\u001b[1;33m\u001b[0m\u001b[0m\n",
      "\u001b[1;31mNameError\u001b[0m: name 'plt' is not defined"
     ]
    }
   ],
   "source": [
    "plt.plot(range(1,21), history['accuracy'], label='Training Accuracy')\n",
    "plt.plot(range(1,21), history['val_accuracy'], 'g', label='validation Accuracy')\n",
    "\n",
    "plt.legend()"
   ]
  },
  {
   "cell_type": "code",
   "execution_count": 173,
   "metadata": {},
   "outputs": [
    {
     "data": {
      "text/plain": [
       "<matplotlib.legend.Legend at 0x1ec8c1fb940>"
      ]
     },
     "execution_count": 173,
     "metadata": {},
     "output_type": "execute_result"
    },
    {
     "data": {
      "image/png": "[encoded data removed]",
      "text/plain": [
       "<Figure size 432x288 with 1 Axes>"
      ]
     },
     "metadata": {
      "needs_background": "light"
     },
     "output_type": "display_data"
    }
   ],
   "source": [
    "plt.plot(range(1,21), history['loss'], label='Training loss')\n",
    "plt.plot(range(1,21), history['val_loss'], 'r', label='validation loss')\n",
    "\n",
    "plt.legend()"
   ]
  },
  {
   "cell_type": "code",
   "execution_count": 174,
   "metadata": {},
   "outputs": [
    {
     "name": "stdout",
     "output_type": "stream",
     "text": [
      "(10000, 28, 28, 1) (10000, 10)\n",
      "10000/10000 [==============================] - 25s 2ms/step\n"
     ]
    },
    {
     "data": {
      "text/plain": [
       "[0.30722174973487854, 0.9121000170707703]"
      ]
     },
     "execution_count": 174,
     "metadata": {},
     "output_type": "execute_result"
    }
   ],
   "source": [
    "x_test_reshae = x_test.reshape((-1,28,28,1))\n",
    "print(x_test_reshae.shape, y_test.shape)\n",
    "\n",
    "model_cnn.evaluate(x_test_reshae, y_test)"
   ]
  },
  {
   "cell_type": "code",
   "execution_count": null,
   "metadata": {},
   "outputs": [],
   "source": []
  }
 ],
 "metadata": {
  "kernelspec": {
   "display_name": "Python 3",
   "language": "python",
   "name": "python3"
  },
  "language_info": {
   "codemirror_mode": {
    "name": "ipython",
    "version": 3
   },
   "file_extension": ".py",
   "mimetype": "text/x-python",
   "name": "python",
   "nbconvert_exporter": "python",
   "pygments_lexer": "ipython3",
   "version": "3.7.3"
  }
 },
 "nbformat": 4,
 "nbformat_minor": 4
}
