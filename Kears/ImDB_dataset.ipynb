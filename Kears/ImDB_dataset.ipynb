{
 "cells": [
  {
   "cell_type": "code",
   "execution_count": null,
   "metadata": {
    "colab": {},
    "colab_type": "code",
    "id": "gYOnGqn3jru2"
   },
   "outputs": [],
   "source": [
    "import tensorflow.keras as keras\n",
    "# import keras\n",
    "from keras.datasets import imdb\n",
    "import numpy as np\n",
    "import matplotlib.pyplot as plt"
   ]
  },
  {
   "cell_type": "code",
   "execution_count": null,
   "metadata": {
    "colab": {},
    "colab_type": "code",
    "id": "BEQuWQ3fjrvF"
   },
   "outputs": [],
   "source": []
  },
  {
   "cell_type": "code",
   "execution_count": 8,
   "metadata": {
    "colab": {
     "base_uri": "https://localhost:8080/",
     "height": 51
    },
    "colab_type": "code",
    "id": "SU8t08IYjrvO",
    "outputId": "00e3c18a-4b66-4012-9342-553739c00721"
   },
   "outputs": [
    {
     "name": "stdout",
     "output_type": "stream",
     "text": [
      "Downloading data from https://s3.amazonaws.com/text-datasets/imdb.npz\n",
      "17465344/17464789 [==============================] - 0s 0us/step\n"
     ]
    }
   ],
   "source": [
    "(x_train, y_train), (x_test, y_test) = imdb.load_data(num_words=15000)"
   ]
  },
  {
   "cell_type": "code",
   "execution_count": 9,
   "metadata": {
    "colab": {
     "base_uri": "https://localhost:8080/",
     "height": 34
    },
    "colab_type": "code",
    "id": "HHJsknkRjrvZ",
    "outputId": "e85df5da-4dca-43c9-cc05-3dae623d4bec"
   },
   "outputs": [
    {
     "data": {
      "text/plain": [
       "(25000,)"
      ]
     },
     "execution_count": 9,
     "metadata": {
      "tags": []
     },
     "output_type": "execute_result"
    }
   ],
   "source": [
    "x_train.shape"
   ]
  },
  {
   "cell_type": "code",
   "execution_count": 10,
   "metadata": {
    "colab": {
     "base_uri": "https://localhost:8080/",
     "height": 34
    },
    "colab_type": "code",
    "id": "UTq9CVZajrvm",
    "outputId": "dd777f73-8575-4d37-b552-b9f2c5119ae1"
   },
   "outputs": [
    {
     "data": {
      "text/plain": [
       "(list, numpy.ndarray)"
      ]
     },
     "execution_count": 10,
     "metadata": {
      "tags": []
     },
     "output_type": "execute_result"
    }
   ],
   "source": [
    "type(x_train[0]), type(x_train)"
   ]
  },
  {
   "cell_type": "code",
   "execution_count": 11,
   "metadata": {
    "colab": {
     "base_uri": "https://localhost:8080/",
     "height": 54
    },
    "colab_type": "code",
    "id": "yR6HDMPAjrvw",
    "outputId": "dfd1cf83-564d-4452-c4dc-9167e815531b"
   },
   "outputs": [
    {
     "name": "stdout",
     "output_type": "stream",
     "text": [
      "[1, 14, 22, 16, 43, 530, 973, 1622, 1385, 65, 458, 4468, 66, 3941, 4, 173, 36, 256, 5, 25, 100, 43, 838, 112, 50, 670, 2, 9, 35, 480, 284, 5, 150, 4, 172, 112, 167, 2, 336, 385, 39, 4, 172, 4536, 1111, 17, 546, 38, 13, 447, 4, 192, 50, 16, 6, 147, 2025, 19, 14, 22, 4, 1920, 4613, 469, 4, 22, 71, 87, 12, 16, 43, 530, 38, 76, 15, 13, 1247, 4, 22, 17, 515, 17, 12, 16, 626, 18, 2, 5, 62, 386, 12, 8, 316, 8, 106, 5, 4, 2223, 5244, 16, 480, 66, 3785, 33, 4, 130, 12, 16, 38, 619, 5, 25, 124, 51, 36, 135, 48, 25, 1415, 33, 6, 22, 12, 215, 28, 77, 52, 5, 14, 407, 16, 82, 10311, 8, 4, 107, 117, 5952, 15, 256, 4, 2, 7, 3766, 5, 723, 36, 71, 43, 530, 476, 26, 400, 317, 46, 7, 4, 12118, 1029, 13, 104, 88, 4, 381, 15, 297, 98, 32, 2071, 56, 26, 141, 6, 194, 7486, 18, 4, 226, 22, 21, 134, 476, 26, 480, 5, 144, 30, 5535, 18, 51, 36, 28, 224, 92, 25, 104, 4, 226, 65, 16, 38, 1334, 88, 12, 16, 283, 5, 16, 4472, 113, 103, 32, 15, 16, 5345, 19, 178, 32]\n"
     ]
    }
   ],
   "source": [
    "print(x_train[0])"
   ]
  },
  {
   "cell_type": "markdown",
   "metadata": {
    "colab_type": "text",
    "id": "HP2DBGjqjrv6"
   },
   "source": [
    "##### the x_train and y_train are the list of reviews.Each review is a list of word indices."
   ]
  },
  {
   "cell_type": "markdown",
   "metadata": {
    "colab_type": "text",
    "id": "v3n_yD6Qjrv8"
   },
   "source": [
    "## get back the review in readable format"
   ]
  },
  {
   "cell_type": "markdown",
   "metadata": {
    "colab_type": "text",
    "id": "fLlp7CFkjrv-"
   },
   "source": [
    "##### In order to get the word at their respective word indices, we will use get_word_index function, where each word is a key and their respective indices is Value."
   ]
  },
  {
   "cell_type": "code",
   "execution_count": null,
   "metadata": {
    "colab": {},
    "colab_type": "code",
    "id": "JSuC9McJjrwC"
   },
   "outputs": [],
   "source": [
    "word_dict = imdb.get_word_index()"
   ]
  },
  {
   "cell_type": "code",
   "execution_count": 10,
   "metadata": {
    "colab": {
     "base_uri": "https://localhost:8080/",
     "height": 34
    },
    "colab_type": "code",
    "id": "q7BBfg9ojrwQ",
    "outputId": "b1b2eb85-0d67-485e-ca0f-8549b9a49641"
   },
   "outputs": [
    {
     "data": {
      "text/plain": [
       "14999"
      ]
     },
     "execution_count": 10,
     "metadata": {
      "tags": []
     },
     "output_type": "execute_result"
    }
   ],
   "source": [
    "#### Maximam number of indices\n",
    "max([max(i) for i in x_train])"
   ]
  },
  {
   "cell_type": "code",
   "execution_count": null,
   "metadata": {
    "colab": {},
    "colab_type": "code",
    "id": "vaOo28c9jrwa"
   },
   "outputs": [],
   "source": [
    "word_indices_dict = dict([(value, key) for key,value in word_dict.items()])"
   ]
  },
  {
   "cell_type": "code",
   "execution_count": 12,
   "metadata": {
    "colab": {
     "base_uri": "https://localhost:8080/",
     "height": 34
    },
    "colab_type": "code",
    "id": "sB-dj88hjrwi",
    "outputId": "79b308fa-60dc-4006-92e8-82796e895cee"
   },
   "outputs": [
    {
     "data": {
      "text/plain": [
       "88584"
      ]
     },
     "execution_count": 12,
     "metadata": {
      "tags": []
     },
     "output_type": "execute_result"
    }
   ],
   "source": [
    "max(word_indices_dict.keys())"
   ]
  },
  {
   "cell_type": "code",
   "execution_count": null,
   "metadata": {
    "colab": {},
    "colab_type": "code",
    "id": "7JcbsT0ojrws"
   },
   "outputs": [],
   "source": [
    "review = \" \".join([word_indices_dict.get(i-3, ' ') for i in x_train[0]])"
   ]
  },
  {
   "cell_type": "code",
   "execution_count": 14,
   "metadata": {
    "colab": {
     "base_uri": "https://localhost:8080/",
     "height": 54
    },
    "colab_type": "code",
    "id": "y9vTZFAvjrw5",
    "outputId": "fa0cc375-f2db-4ddf-f447-8af01d8d1f79"
   },
   "outputs": [
    {
     "data": {
      "text/plain": [
       "\"  this film was just brilliant casting location scenery story direction everyone's really suited the part they played and you could just imagine being there robert   is an amazing actor and now the same being director   father came from the same scottish island as myself so i loved the fact there was a real connection with this film the witty remarks throughout the film were great it was just brilliant so much that i bought the film as soon as it was released for   and would recommend it to everyone to watch and the fly fishing was amazing really cried at the end it was so sad and you know what they say if you cry at a film it must have been good and this definitely was also congratulations to the two little boy's that played the   of norman and paul they were just brilliant children are often left out of the praising list i think because the stars that play them all grown up are such a big profile for the whole film but these children are amazing and should be praised for what they have done don't you think the whole story was so lovely because it was true and was someone's life after all that was shared with us all\""
      ]
     },
     "execution_count": 14,
     "metadata": {
      "tags": []
     },
     "output_type": "execute_result"
    }
   ],
   "source": [
    "review"
   ]
  },
  {
   "cell_type": "code",
   "execution_count": null,
   "metadata": {
    "colab": {},
    "colab_type": "code",
    "id": "_-fiDSE1jrxD"
   },
   "outputs": [],
   "source": [
    "def vectorizer(data, dimension =88586 ):\n",
    "    result = np.zeros((len(data),dimension))\n",
    "    for i,list_indices in enumerate(data):\n",
    "        result[i,list_indices] = 1\n",
    "    return result\n",
    "        \n",
    "x_train_vector  = vectorizer(x_train, 15000) \n",
    "x_test_vector =  vectorizer(x_test, 15000)"
   ]
  },
  {
   "cell_type": "code",
   "execution_count": 16,
   "metadata": {
    "colab": {
     "base_uri": "https://localhost:8080/",
     "height": 34
    },
    "colab_type": "code",
    "id": "84Vz6EIojrxL",
    "outputId": "e3867dea-4f9a-452b-af1b-c53a2eddb89a"
   },
   "outputs": [
    {
     "data": {
      "text/plain": [
       "(25000, 15000)"
      ]
     },
     "execution_count": 16,
     "metadata": {
      "tags": []
     },
     "output_type": "execute_result"
    }
   ],
   "source": [
    "x_train_vector.shape\n",
    "x_test_vector.shape"
   ]
  },
  {
   "cell_type": "code",
   "execution_count": null,
   "metadata": {
    "colab": {},
    "colab_type": "code",
    "id": "n1_ZhAE5jrxT"
   },
   "outputs": [],
   "source": [
    "from tensorflow.python.keras import layers  \n",
    "from tensorflow.python.keras import Sequential"
   ]
  },
  {
   "cell_type": "markdown",
   "metadata": {
    "colab_type": "text",
    "id": "8DxY7Xhljrxc"
   },
   "source": [
    "## With 2 Dence Layers"
   ]
  },
  {
   "cell_type": "code",
   "execution_count": null,
   "metadata": {
    "colab": {},
    "colab_type": "code",
    "id": "5_HDUTaKjrxd"
   },
   "outputs": [],
   "source": [
    "model = Sequential()"
   ]
  },
  {
   "cell_type": "code",
   "execution_count": null,
   "metadata": {
    "colab": {},
    "colab_type": "code",
    "id": "Y9lMBXRJjrxm"
   },
   "outputs": [],
   "source": [
    "model.add(layers.Dense(units=16, activation='relu', input_dim=15000, kernel_initializer='uniform'))\n",
    "model.add(layers.Dense(units=16, activation='relu' , kernel_initializer='uniform'))\n",
    "model.add(layers.Dense(units=1, activation='sigmoid', kernel_initializer='uniform'))"
   ]
  },
  {
   "cell_type": "code",
   "execution_count": 17,
   "metadata": {
    "colab": {
     "base_uri": "https://localhost:8080/",
     "height": 255
    },
    "colab_type": "code",
    "id": "MN17dgIvjrx0",
    "outputId": "27ad804c-bbe0-48cf-ac44-32f08e645eb6"
   },
   "outputs": [
    {
     "name": "stdout",
     "output_type": "stream",
     "text": [
      "Model: \"sequential\"\n",
      "_________________________________________________________________\n",
      "Layer (type)                 Output Shape              Param #   \n",
      "=================================================================\n",
      "dense (Dense)                (None, 16)                240016    \n",
      "_________________________________________________________________\n",
      "dense_1 (Dense)              (None, 16)                272       \n",
      "_________________________________________________________________\n",
      "dense_2 (Dense)              (None, 1)                 17        \n",
      "=================================================================\n",
      "Total params: 240,305\n",
      "Trainable params: 240,305\n",
      "Non-trainable params: 0\n",
      "_________________________________________________________________\n"
     ]
    }
   ],
   "source": [
    "model.summary()"
   ]
  },
  {
   "cell_type": "code",
   "execution_count": null,
   "metadata": {
    "colab": {},
    "colab_type": "code",
    "id": "No4MiNm0jrx8"
   },
   "outputs": [],
   "source": [
    "model.compile(optimizer='rmsprop', loss='binary_crossentropy', metrics=['accuracy'])"
   ]
  },
  {
   "cell_type": "code",
   "execution_count": null,
   "metadata": {
    "colab": {},
    "colab_type": "code",
    "id": "EFILFigsjryC"
   },
   "outputs": [],
   "source": [
    "train_data = x_train_vector[10000:]\n",
    "val_data = x_train_vector[:10000]\n",
    "\n",
    "train_label = y_train[10000:]\n",
    "val_label = y_train[:10000]"
   ]
  },
  {
   "cell_type": "code",
   "execution_count": 20,
   "metadata": {
    "colab": {
     "base_uri": "https://localhost:8080/",
     "height": 697
    },
    "colab_type": "code",
    "id": "vhoYF02ljryJ",
    "outputId": "7ff5e255-c4a6-4308-851e-4305b1434ea3"
   },
   "outputs": [
    {
     "name": "stdout",
     "output_type": "stream",
     "text": [
      "Epoch 1/20\n",
      "30/30 [==============================] - 1s 37ms/step - loss: 0.6491 - accuracy: 0.7597 - val_loss: 0.5706 - val_accuracy: 0.8363\n",
      "Epoch 2/20\n",
      "30/30 [==============================] - 1s 31ms/step - loss: 0.4642 - accuracy: 0.8735 - val_loss: 0.4065 - val_accuracy: 0.8656\n",
      "Epoch 3/20\n",
      "30/30 [==============================] - 1s 31ms/step - loss: 0.3115 - accuracy: 0.9049 - val_loss: 0.3154 - val_accuracy: 0.8839\n",
      "Epoch 4/20\n",
      "30/30 [==============================] - 1s 31ms/step - loss: 0.2299 - accuracy: 0.9261 - val_loss: 0.2862 - val_accuracy: 0.8873\n",
      "Epoch 5/20\n",
      "30/30 [==============================] - 1s 31ms/step - loss: 0.1765 - accuracy: 0.9431 - val_loss: 0.2693 - val_accuracy: 0.8933\n",
      "Epoch 6/20\n",
      "30/30 [==============================] - 1s 27ms/step - loss: 0.1420 - accuracy: 0.9545 - val_loss: 0.2752 - val_accuracy: 0.8929\n",
      "Epoch 7/20\n",
      "30/30 [==============================] - 1s 27ms/step - loss: 0.1160 - accuracy: 0.9619 - val_loss: 0.2803 - val_accuracy: 0.8915\n",
      "Epoch 8/20\n",
      "30/30 [==============================] - 1s 27ms/step - loss: 0.0945 - accuracy: 0.9709 - val_loss: 0.3075 - val_accuracy: 0.8871\n",
      "Epoch 9/20\n",
      "30/30 [==============================] - 1s 27ms/step - loss: 0.0763 - accuracy: 0.9781 - val_loss: 0.3142 - val_accuracy: 0.8884\n",
      "Epoch 10/20\n",
      "30/30 [==============================] - 1s 31ms/step - loss: 0.0619 - accuracy: 0.9845 - val_loss: 0.3419 - val_accuracy: 0.8859\n",
      "Epoch 11/20\n",
      "30/30 [==============================] - 1s 30ms/step - loss: 0.0498 - accuracy: 0.9872 - val_loss: 0.3666 - val_accuracy: 0.8836\n",
      "Epoch 12/20\n",
      "30/30 [==============================] - 1s 30ms/step - loss: 0.0391 - accuracy: 0.9903 - val_loss: 0.3917 - val_accuracy: 0.8811\n",
      "Epoch 13/20\n",
      "30/30 [==============================] - 1s 30ms/step - loss: 0.0297 - accuracy: 0.9937 - val_loss: 0.4213 - val_accuracy: 0.8793\n",
      "Epoch 14/20\n",
      "30/30 [==============================] - 1s 29ms/step - loss: 0.0234 - accuracy: 0.9949 - val_loss: 0.4582 - val_accuracy: 0.8777\n",
      "Epoch 15/20\n",
      "30/30 [==============================] - 1s 26ms/step - loss: 0.0179 - accuracy: 0.9969 - val_loss: 0.4940 - val_accuracy: 0.8763\n",
      "Epoch 16/20\n",
      "30/30 [==============================] - 1s 26ms/step - loss: 0.0127 - accuracy: 0.9982 - val_loss: 0.5303 - val_accuracy: 0.8746\n",
      "Epoch 17/20\n",
      "30/30 [==============================] - 1s 26ms/step - loss: 0.0089 - accuracy: 0.9990 - val_loss: 0.5978 - val_accuracy: 0.8683\n",
      "Epoch 18/20\n",
      "30/30 [==============================] - 1s 26ms/step - loss: 0.0070 - accuracy: 0.9993 - val_loss: 0.6248 - val_accuracy: 0.8731\n",
      "Epoch 19/20\n",
      "30/30 [==============================] - 1s 27ms/step - loss: 0.0040 - accuracy: 0.9999 - val_loss: 0.6959 - val_accuracy: 0.8679\n",
      "Epoch 20/20\n",
      "30/30 [==============================] - 1s 26ms/step - loss: 0.0038 - accuracy: 0.9996 - val_loss: 0.7151 - val_accuracy: 0.8716\n"
     ]
    }
   ],
   "source": [
    "trained_model = model.fit(x=train_data,\n",
    "          y=train_label,\n",
    "         batch_size=512,\n",
    "         epochs=20,\n",
    "         validation_data=(val_data,val_label))"
   ]
  },
  {
   "cell_type": "code",
   "execution_count": null,
   "metadata": {
    "colab": {},
    "colab_type": "code",
    "id": "97bMhU_8jryQ"
   },
   "outputs": [],
   "source": [
    "# model.save(\"Imdb_Trained_model.h5\")"
   ]
  },
  {
   "cell_type": "code",
   "execution_count": null,
   "metadata": {
    "colab": {},
    "colab_type": "code",
    "id": "ZJYsdY8VjryX"
   },
   "outputs": [],
   "source": [
    "history_dict = trained_model.history"
   ]
  },
  {
   "cell_type": "code",
   "execution_count": 23,
   "metadata": {
    "colab": {
     "base_uri": "https://localhost:8080/",
     "height": 34
    },
    "colab_type": "code",
    "id": "ESOiTTnZjryf",
    "outputId": "23bc155b-3936-42c9-c8cc-30374537ffae"
   },
   "outputs": [
    {
     "data": {
      "text/plain": [
       "dict_keys(['loss', 'accuracy', 'val_loss', 'val_accuracy'])"
      ]
     },
     "execution_count": 23,
     "metadata": {
      "tags": []
     },
     "output_type": "execute_result"
    }
   ],
   "source": [
    "history_dict.keys()"
   ]
  },
  {
   "cell_type": "code",
   "execution_count": null,
   "metadata": {
    "colab": {},
    "colab_type": "code",
    "id": "pwAVAoqwjrym"
   },
   "outputs": [],
   "source": [
    "traing_accuracy = history_dict['accuracy']\n",
    "validation_accuracy = history_dict['val_accuracy']"
   ]
  },
  {
   "cell_type": "code",
   "execution_count": 25,
   "metadata": {
    "colab": {
     "base_uri": "https://localhost:8080/",
     "height": 302
    },
    "colab_type": "code",
    "id": "QT4l0tmmjryv",
    "outputId": "88a4b290-9fe5-458f-e0dc-02a1b567825f"
   },
   "outputs": [
    {
     "data": {
      "image/png": "[encoded data removed]",
      "text/plain": [
       "<Figure size 432x288 with 1 Axes>"
      ]
     },
     "metadata": {
      "tags": []
     },
     "output_type": "display_data"
    }
   ],
   "source": [
    "\n",
    "epoch = [i for i in range(1,len(traing_accuracy)+1)]\n",
    "plt.plot(epoch, traing_accuracy, label = 'Training Accuracy')\n",
    "plt.plot(epoch, validation_accuracy,\"r\", label = 'validation Accuracy')\n",
    "plt.xlabel('Epoch', fontsize=15)\n",
    "plt.ylabel(\"Accuracy\", fontsize=15)\n",
    "plt.title(\"Training and Validation Accuracy\", fontsize=15)\n",
    "plt.legend()\n",
    "plt.show()"
   ]
  },
  {
   "cell_type": "code",
   "execution_count": null,
   "metadata": {
    "colab": {},
    "colab_type": "code",
    "id": "XBI4KHIljry2"
   },
   "outputs": [],
   "source": [
    "traing_loss = history_dict['loss']\n",
    "validation_loss = history_dict['val_loss']"
   ]
  },
  {
   "cell_type": "code",
   "execution_count": 27,
   "metadata": {
    "colab": {
     "base_uri": "https://localhost:8080/",
     "height": 284
    },
    "colab_type": "code",
    "id": "r0cPMrTljry9",
    "outputId": "a3dd4be0-61c8-4e9c-d49d-6741eccb7f03"
   },
   "outputs": [
    {
     "data": {
      "image/png": "[encoded data removed]",
      "text/plain": [
       "<Figure size 432x288 with 1 Axes>"
      ]
     },
     "metadata": {
      "tags": []
     },
     "output_type": "display_data"
    }
   ],
   "source": [
    "plt.plot(epoch, traing_loss, label = 'Training loss')\n",
    "plt.plot(epoch, validation_loss,\"r\", label = 'validation loss')\n",
    "plt.xlabel('Epoch', fontsize=15)\n",
    "plt.ylabel(\"Loss\", fontsize=15)\n",
    "plt.legend()\n",
    "plt.show()"
   ]
  },
  {
   "cell_type": "markdown",
   "metadata": {
    "colab_type": "text",
    "id": "Y4P6FqttjrzE"
   },
   "source": [
    "## With 1 Dense Layer "
   ]
  },
  {
   "cell_type": "code",
   "execution_count": null,
   "metadata": {
    "colab": {},
    "colab_type": "code",
    "id": "-KOtwZwrjrzF"
   },
   "outputs": [],
   "source": [
    "model = Sequential()"
   ]
  },
  {
   "cell_type": "code",
   "execution_count": null,
   "metadata": {
    "colab": {},
    "colab_type": "code",
    "id": "u0-DN5lQjrzM"
   },
   "outputs": [],
   "source": [
    "model.add(layers.Dense(units=16, activation='relu', input_dim=15000, kernel_initializer='uniform'))\n",
    "model.add(layers.Dense(units=1, activation='sigmoid', kernel_initializer='uniform'))"
   ]
  },
  {
   "cell_type": "code",
   "execution_count": null,
   "metadata": {
    "colab": {},
    "colab_type": "code",
    "id": "sh_GRyZCjrzT"
   },
   "outputs": [],
   "source": [
    "model.compile(optimizer='rmsprop', loss='binary_crossentropy', metrics=['accuracy'])"
   ]
  },
  {
   "cell_type": "code",
   "execution_count": 31,
   "metadata": {
    "colab": {
     "base_uri": "https://localhost:8080/",
     "height": 697
    },
    "colab_type": "code",
    "id": "U7lTy9Xpjrzb",
    "outputId": "04ba2fe7-5da1-4ca6-f114-0f6d79e71df7"
   },
   "outputs": [
    {
     "name": "stdout",
     "output_type": "stream",
     "text": [
      "Epoch 1/20\n",
      "30/30 [==============================] - 1s 29ms/step - loss: 0.6173 - accuracy: 0.7614 - val_loss: 0.5403 - val_accuracy: 0.8166\n",
      "Epoch 2/20\n",
      "30/30 [==============================] - 1s 26ms/step - loss: 0.4591 - accuracy: 0.8682 - val_loss: 0.4238 - val_accuracy: 0.8610\n",
      "Epoch 3/20\n",
      "30/30 [==============================] - 1s 26ms/step - loss: 0.3510 - accuracy: 0.8983 - val_loss: 0.3527 - val_accuracy: 0.8753\n",
      "Epoch 4/20\n",
      "30/30 [==============================] - 1s 26ms/step - loss: 0.2779 - accuracy: 0.9167 - val_loss: 0.3099 - val_accuracy: 0.8841\n",
      "Epoch 5/20\n",
      "30/30 [==============================] - 1s 25ms/step - loss: 0.2278 - accuracy: 0.9293 - val_loss: 0.2897 - val_accuracy: 0.8896\n",
      "Epoch 6/20\n",
      "30/30 [==============================] - 1s 26ms/step - loss: 0.1921 - accuracy: 0.9415 - val_loss: 0.2746 - val_accuracy: 0.8925\n",
      "Epoch 7/20\n",
      "30/30 [==============================] - 1s 30ms/step - loss: 0.1639 - accuracy: 0.9489 - val_loss: 0.2697 - val_accuracy: 0.8927\n",
      "Epoch 8/20\n",
      "30/30 [==============================] - 1s 30ms/step - loss: 0.1421 - accuracy: 0.9567 - val_loss: 0.2709 - val_accuracy: 0.8920\n",
      "Epoch 9/20\n",
      "30/30 [==============================] - 1s 30ms/step - loss: 0.1227 - accuracy: 0.9630 - val_loss: 0.2721 - val_accuracy: 0.8948\n",
      "Epoch 10/20\n",
      "30/30 [==============================] - 1s 26ms/step - loss: 0.1074 - accuracy: 0.9701 - val_loss: 0.2744 - val_accuracy: 0.8946\n",
      "Epoch 11/20\n",
      "30/30 [==============================] - 1s 26ms/step - loss: 0.0938 - accuracy: 0.9748 - val_loss: 0.2904 - val_accuracy: 0.8894\n",
      "Epoch 12/20\n",
      "30/30 [==============================] - 1s 26ms/step - loss: 0.0826 - accuracy: 0.9780 - val_loss: 0.3051 - val_accuracy: 0.8872\n",
      "Epoch 13/20\n",
      "30/30 [==============================] - 1s 26ms/step - loss: 0.0709 - accuracy: 0.9825 - val_loss: 0.3014 - val_accuracy: 0.8917\n",
      "Epoch 14/20\n",
      "30/30 [==============================] - 1s 26ms/step - loss: 0.0614 - accuracy: 0.9856 - val_loss: 0.3159 - val_accuracy: 0.8894\n",
      "Epoch 15/20\n",
      "30/30 [==============================] - 1s 26ms/step - loss: 0.0531 - accuracy: 0.9882 - val_loss: 0.3268 - val_accuracy: 0.8870\n",
      "Epoch 16/20\n",
      "30/30 [==============================] - 1s 26ms/step - loss: 0.0458 - accuracy: 0.9899 - val_loss: 0.3529 - val_accuracy: 0.8822\n",
      "Epoch 17/20\n",
      "30/30 [==============================] - 1s 29ms/step - loss: 0.0399 - accuracy: 0.9918 - val_loss: 0.3570 - val_accuracy: 0.8845\n",
      "Epoch 18/20\n",
      "30/30 [==============================] - 1s 30ms/step - loss: 0.0343 - accuracy: 0.9937 - val_loss: 0.3731 - val_accuracy: 0.8824\n",
      "Epoch 19/20\n",
      "30/30 [==============================] - 1s 26ms/step - loss: 0.0288 - accuracy: 0.9946 - val_loss: 0.3903 - val_accuracy: 0.8824\n",
      "Epoch 20/20\n",
      "30/30 [==============================] - 1s 25ms/step - loss: 0.0253 - accuracy: 0.9955 - val_loss: 0.4117 - val_accuracy: 0.8797\n"
     ]
    }
   ],
   "source": [
    "trained_model = model.fit(x=train_data,\n",
    "          y=train_label,\n",
    "         batch_size=512,\n",
    "         epochs=20,\n",
    "         validation_data=(val_data,val_label))"
   ]
  },
  {
   "cell_type": "code",
   "execution_count": null,
   "metadata": {
    "colab": {},
    "colab_type": "code",
    "id": "DQq2O6xdjrzj"
   },
   "outputs": [],
   "source": [
    "history_dict = trained_model.history"
   ]
  },
  {
   "cell_type": "code",
   "execution_count": null,
   "metadata": {
    "colab": {},
    "colab_type": "code",
    "id": "C4sK-qFFjrzt"
   },
   "outputs": [],
   "source": [
    "traing_accuracy = history_dict['accuracy']\n",
    "validation_accuracy = history_dict['val_accuracy']"
   ]
  },
  {
   "cell_type": "code",
   "execution_count": 34,
   "metadata": {
    "colab": {
     "base_uri": "https://localhost:8080/",
     "height": 302
    },
    "colab_type": "code",
    "id": "CLuoV6cZjr0A",
    "outputId": "ded9b5a1-e419-4d02-e28d-ac7073535e20"
   },
   "outputs": [
    {
     "data": {
      "image/png": "[encoded data removed]",
      "text/plain": [
       "<Figure size 432x288 with 1 Axes>"
      ]
     },
     "metadata": {
      "tags": []
     },
     "output_type": "display_data"
    }
   ],
   "source": [
    "epoch = [i for i in range(1,len(traing_accuracy)+1)]\n",
    "plt.plot(epoch, traing_accuracy, label = 'Training Accuracy')\n",
    "plt.plot(epoch, validation_accuracy,\"r\", label = 'validation Accuracy')\n",
    "plt.xlabel('Epoch', fontsize=15)\n",
    "plt.ylabel(\"Accuracy\", fontsize=15)\n",
    "plt.title(\"Training and Validation Accuracy\", fontsize=15)\n",
    "plt.legend()\n",
    "plt.grid()\n",
    "plt.show()"
   ]
  },
  {
   "cell_type": "code",
   "execution_count": null,
   "metadata": {
    "colab": {},
    "colab_type": "code",
    "id": "2DgCogxgjr0J"
   },
   "outputs": [],
   "source": [
    "traing_loss = history_dict['loss']\n",
    "validation_loss = history_dict['val_loss']"
   ]
  },
  {
   "cell_type": "code",
   "execution_count": 36,
   "metadata": {
    "colab": {
     "base_uri": "https://localhost:8080/",
     "height": 302
    },
    "colab_type": "code",
    "id": "ukSxEwtujr0T",
    "outputId": "2523fdf9-e46a-4bd1-e45a-a6f0cb593276"
   },
   "outputs": [
    {
     "data": {
      "image/png": "[encoded data removed]",
      "text/plain": [
       "<Figure size 432x288 with 1 Axes>"
      ]
     },
     "metadata": {
      "tags": []
     },
     "output_type": "display_data"
    }
   ],
   "source": [
    "plt.plot(epoch, traing_loss, label = 'Training loss')\n",
    "plt.plot(epoch, validation_loss,\"r\", label = 'validation loss')\n",
    "plt.xlabel('Epoch', fontsize=15)\n",
    "plt.ylabel(\"Loss\", fontsize=15)\n",
    "plt.title(\"Training and Validation loss\", fontsize=15)\n",
    "plt.grid()\n",
    "plt.legend()\n",
    "plt.show()"
   ]
  },
  {
   "cell_type": "markdown",
   "metadata": {
    "colab_type": "text",
    "id": "XfNlL0F9jr0a"
   },
   "source": [
    "#### As we can see that model's parameters are highly varited, boz there's difference between training and validation accuracy.\n",
    "#### As visualization we can train our model on epoch = 3 or 4.\n"
   ]
  },
  {
   "cell_type": "code",
   "execution_count": 43,
   "metadata": {
    "colab": {
     "base_uri": "https://localhost:8080/",
     "height": 102
    },
    "colab_type": "code",
    "id": "qG2gZsxRjr0c",
    "outputId": "ac3b566a-3a4f-4f7e-9ad5-48eb5349c687"
   },
   "outputs": [
    {
     "name": "stdout",
     "output_type": "stream",
     "text": [
      "ERROR! Session/line number was not unique in database. History logging moved to new session 59\n",
      "Epoch 1/2\n",
      "30/30 [==============================] - 1s 28ms/step - loss: 0.6163 - accuracy: 0.7815 - val_loss: 0.5379 - val_accuracy: 0.8185\n",
      "Epoch 2/2\n",
      "30/30 [==============================] - 1s 26ms/step - loss: 0.4572 - accuracy: 0.8682 - val_loss: 0.4217 - val_accuracy: 0.8622\n"
     ]
    }
   ],
   "source": [
    "model = Sequential()\n",
    "model.add(layers.Dense(units=16, activation='relu', input_dim=15000, kernel_initializer='uniform'))\n",
    "model.add(layers.Dense(units=1, activation='sigmoid', kernel_initializer='uniform'))\n",
    "model.compile(optimizer='rmsprop', loss='binary_crossentropy', metrics=['accuracy'])\n",
    "trained_model = model.fit(x=train_data,\n",
    "                          y=train_label,\n",
    "                         batch_size=512,\n",
    "                         epochs=2,\n",
    "                         validation_data=(val_data,val_label))"
   ]
  },
  {
   "cell_type": "code",
   "execution_count": 44,
   "metadata": {
    "colab": {
     "base_uri": "https://localhost:8080/",
     "height": 587
    },
    "colab_type": "code",
    "id": "E1ayMI17jr0n",
    "outputId": "784971a6-7656-4ef1-c768-c2e39263cd05"
   },
   "outputs": [
    {
     "data": {
      "image/png": "[encoded data removed]",
      "text/plain": [
       "<Figure size 432x288 with 1 Axes>"
      ]
     },
     "metadata": {
      "tags": []
     },
     "output_type": "display_data"
    },
    {
     "data": {
      "image/png": "[encoded data removed]",
      "text/plain": [
       "<Figure size 432x288 with 1 Axes>"
      ]
     },
     "metadata": {
      "tags": []
     },
     "output_type": "display_data"
    }
   ],
   "source": [
    "history_dict = trained_model.history\n",
    "\n",
    "traing_accuracy = history_dict['accuracy']\n",
    "validation_accuracy = history_dict['val_accuracy']\n",
    "\n",
    "traing_loss = history_dict['loss']\n",
    "validation_loss = history_dict['val_loss']\n",
    "\n",
    "epoch = [i for i in range(1,len(traing_accuracy)+1)]\n",
    "plt.plot(epoch, traing_accuracy, label = 'Training Accuracy')\n",
    "plt.plot(epoch, validation_accuracy,\"r\", label = 'validation Accuracy')\n",
    "plt.xlabel('Epoch', fontsize=15)\n",
    "plt.ylabel(\"Accuracy\", fontsize=15)\n",
    "plt.title(\"Training and Validation Accuracy\", fontsize=15)\n",
    "plt.legend()\n",
    "plt.grid()\n",
    "plt.show()\n",
    "\n",
    "plt.plot(epoch, traing_loss, label = 'Training loss')\n",
    "plt.plot(epoch, validation_loss,\"r\", label = 'validation loss')\n",
    "plt.xlabel('Epoch', fontsize=15)\n",
    "plt.ylabel(\"Loss\", fontsize=15)\n",
    "plt.title(\"Training and Validation loss\", fontsize=15)\n",
    "plt.grid()\n",
    "plt.legend()\n",
    "plt.show()"
   ]
  },
  {
   "cell_type": "code",
   "execution_count": null,
   "metadata": {
    "colab": {},
    "colab_type": "code",
    "id": "HxUGjnHCjr0x"
   },
   "outputs": [],
   "source": [
    "from keras.wrappers.scikit_learn import KerasClassifier\n",
    "from sklearn.model_selection import cross_val_score, GridSearchCV"
   ]
  },
  {
   "cell_type": "code",
   "execution_count": null,
   "metadata": {
    "colab": {},
    "colab_type": "code",
    "id": "pL9blTY3jr06"
   },
   "outputs": [],
   "source": [
    "def built_network(Number_of_input_feature=15000, Number_of_output_dim =1, No_of_dense_layer = 2, output_units =15, activation_fun = 'relu', \n",
    "                  output_activation ='sigmoid', optimizer = 'rmsprop', loss = 'binary_crossentropy'):\n",
    "    model = Sequential()\n",
    "    for i in range(No_of_dense_layer):\n",
    "        model.add(layers.Dense(units=output_units, \n",
    "                               activation =activation_fun, \n",
    "                               kernel_initializer='uniform', \n",
    "                               input_dim = Number_of_input_feature))\n",
    "        \n",
    "    model.add(layers.Dense(units=Number_of_output_dim, \n",
    "                           activation=output_activation,\n",
    "                           kernel_initializer='uniform'))\n",
    "    \n",
    "    model.compile(optimizer=optimizer, loss=loss, metrics=['accuracy'])\n",
    "#     print(model.summary())\n",
    "    return model"
   ]
  },
  {
   "cell_type": "code",
   "execution_count": null,
   "metadata": {
    "colab": {},
    "colab_type": "code",
    "id": "aJdd_o1ujr1D"
   },
   "outputs": [],
   "source": [
    "mode_classifier = KerasClassifier(build_fn=built_network, nb_epoch=5, batch_size=512)"
   ]
  },
  {
   "cell_type": "code",
   "execution_count": 18,
   "metadata": {
    "colab": {
     "base_uri": "https://localhost:8080/",
     "height": 102
    },
    "colab_type": "code",
    "id": "4KT2FI7sjr1M",
    "outputId": "d645efc8-f2e6-470a-f95a-4173a6e49cbe"
   },
   "outputs": [
    {
     "name": "stdout",
     "output_type": "stream",
     "text": [
      "24/24 [==============================] - 0s 7ms/step - loss: 0.6733 - accuracy: 0.7424\n",
      "24/24 [==============================] - 0s 7ms/step - loss: 0.6688 - accuracy: 0.7367\n",
      "24/24 [==============================] - 0s 7ms/step - loss: 0.6732 - accuracy: 0.7067\n",
      "24/24 [==============================] - 0s 7ms/step - loss: 0.6727 - accuracy: 0.6377\n",
      "24/24 [==============================] - 0s 7ms/step - loss: 0.6693 - accuracy: 0.7177\n"
     ]
    }
   ],
   "source": [
    "cvs = cross_val_score(estimator=mode_classifier, X = train_data, y= train_label, cv=5, scoring='accuracy')"
   ]
  },
  {
   "cell_type": "code",
   "execution_count": 19,
   "metadata": {
    "colab": {
     "base_uri": "https://localhost:8080/",
     "height": 34
    },
    "colab_type": "code",
    "id": "Qpe-bD-xjr1Z",
    "outputId": "d4ac5c00-e5e8-4408-c45f-18466090bf29"
   },
   "outputs": [
    {
     "data": {
      "text/plain": [
       "(0.7956, 0.051535273788391206)"
      ]
     },
     "execution_count": 19,
     "metadata": {
      "tags": []
     },
     "output_type": "execute_result"
    }
   ],
   "source": [
    "cvs.mean(), cvs.std()"
   ]
  },
  {
   "cell_type": "code",
   "execution_count": null,
   "metadata": {
    "colab": {},
    "colab_type": "code",
    "id": "6MukCJ67jr1i"
   },
   "outputs": [],
   "source": []
  },
  {
   "cell_type": "code",
   "execution_count": null,
   "metadata": {
    "colab": {},
    "colab_type": "code",
    "id": "XykDFiuFjr1p"
   },
   "outputs": [],
   "source": [
    "parameter = {'No_of_dense_layer' : [1,2,3],\n",
    "            'output_units': [16,32,512,],\n",
    "             'optimizer' : ['rmsprop', 'adam'],\n",
    "             \"batch_size\":[128, 512,1020],\n",
    "             'nb_epoch' : [2,4,50]}"
   ]
  },
  {
   "cell_type": "code",
   "execution_count": null,
   "metadata": {
    "colab": {},
    "colab_type": "code",
    "id": "clPmwnLIjr1w"
   },
   "outputs": [],
   "source": [
    "grid = GridSearchCV(estimator=mode_classifier,\n",
    "                    param_grid=parameter,\n",
    "                    cv=5,\n",
    "                    scoring='accuracy')"
   ]
  },
  {
   "cell_type": "code",
   "execution_count": 22,
   "metadata": {
    "colab": {
     "base_uri": "https://localhost:8080/",
     "height": 1000
    },
    "colab_type": "code",
    "id": "z5fVXjlTjr14",
    "outputId": "dfbc212c-5adc-4d20-8d45-0ba054e17406"
   },
   "outputs": [
    {
     "name": "stdout",
     "output_type": "stream",
     "text": [
      "94/94 [==============================] - 0s 4ms/step - loss: 0.5349 - accuracy: 0.8164\n",
      "94/94 [==============================] - 0s 4ms/step - loss: 0.5474 - accuracy: 0.8022\n",
      "94/94 [==============================] - 0s 4ms/step - loss: 0.5560 - accuracy: 0.8029\n",
      "94/94 [==============================] - 0s 4ms/step - loss: 0.5382 - accuracy: 0.8165\n",
      "94/94 [==============================] - 0s 4ms/step - loss: 0.5427 - accuracy: 0.7963\n",
      "94/94 [==============================] - 0s 4ms/step - loss: 0.4822 - accuracy: 0.8240\n",
      "94/94 [==============================] - 0s 4ms/step - loss: 0.4866 - accuracy: 0.8193\n",
      "94/94 [==============================] - 0s 4ms/step - loss: 0.4988 - accuracy: 0.8174\n",
      "94/94 [==============================] - 0s 4ms/step - loss: 0.4926 - accuracy: 0.8098\n",
      "94/94 [==============================] - 1s 10ms/step - loss: 0.4873 - accuracy: 0.8180\n",
      "94/94 [==============================] - 2s 22ms/step - loss: 0.3803 - accuracy: 0.8385\n",
      "94/94 [==============================] - 2s 23ms/step - loss: 0.3833 - accuracy: 0.8359\n",
      "94/94 [==============================] - 2s 20ms/step - loss: 0.3795 - accuracy: 0.8357\n",
      "94/94 [==============================] - 2s 19ms/step - loss: 0.3869 - accuracy: 0.8290\n",
      "94/94 [==============================] - 2s 18ms/step - loss: 0.3792 - accuracy: 0.8346\n",
      "94/94 [==============================] - 0s 3ms/step - loss: 0.5723 - accuracy: 0.7690\n",
      "94/94 [==============================] - 0s 3ms/step - loss: 0.5682 - accuracy: 0.7745\n",
      "94/94 [==============================] - 0s 3ms/step - loss: 0.5580 - accuracy: 0.7928\n",
      "94/94 [==============================] - 0s 3ms/step - loss: 0.5717 - accuracy: 0.7872\n",
      "94/94 [==============================] - 0s 3ms/step - loss: 0.5610 - accuracy: 0.7794\n",
      "94/94 [==============================] - 0s 3ms/step - loss: 0.5222 - accuracy: 0.7833\n",
      "94/94 [==============================] - 0s 3ms/step - loss: 0.5044 - accuracy: 0.8136\n",
      "94/94 [==============================] - 0s 3ms/step - loss: 0.5128 - accuracy: 0.7781\n",
      "94/94 [==============================] - 0s 3ms/step - loss: 0.5175 - accuracy: 0.7886\n",
      "94/94 [==============================] - 0s 3ms/step - loss: 0.5109 - accuracy: 0.7960\n",
      "94/94 [==============================] - 2s 20ms/step - loss: 0.3665 - accuracy: 0.8429\n",
      "94/94 [==============================] - 2s 21ms/step - loss: 0.3684 - accuracy: 0.8472\n",
      "94/94 [==============================] - 1s 12ms/step - loss: 0.3733 - accuracy: 0.8406\n",
      "94/94 [==============================] - 1s 11ms/step - loss: 0.3695 - accuracy: 0.8444\n",
      "94/94 [==============================] - 2s 17ms/step - loss: 0.3668 - accuracy: 0.8450\n",
      "94/94 [==============================] - 1s 7ms/step - loss: 0.5288 - accuracy: 0.8138\n",
      "94/94 [==============================] - 1s 6ms/step - loss: 0.5505 - accuracy: 0.8082\n",
      "94/94 [==============================] - 1s 6ms/step - loss: 0.5494 - accuracy: 0.7972\n",
      "94/94 [==============================] - 0s 4ms/step - loss: 0.5441 - accuracy: 0.7983\n",
      "94/94 [==============================] - 0s 4ms/step - loss: 0.5429 - accuracy: 0.8041\n",
      "94/94 [==============================] - 0s 4ms/step - loss: 0.4833 - accuracy: 0.8186\n",
      "94/94 [==============================] - 0s 4ms/step - loss: 0.4873 - accuracy: 0.8182\n",
      "94/94 [==============================] - 0s 4ms/step - loss: 0.4907 - accuracy: 0.8111\n",
      "94/94 [==============================] - 0s 4ms/step - loss: 0.4902 - accuracy: 0.8191\n",
      "94/94 [==============================] - 0s 4ms/step - loss: 0.4861 - accuracy: 0.8265\n",
      "94/94 [==============================] - 2s 18ms/step - loss: 0.3744 - accuracy: 0.8382\n",
      "94/94 [==============================] - 2s 18ms/step - loss: 0.3793 - accuracy: 0.8360\n",
      "94/94 [==============================] - 2s 18ms/step - loss: 0.3789 - accuracy: 0.8363\n",
      "94/94 [==============================] - 2s 18ms/step - loss: 0.3770 - accuracy: 0.8361\n",
      "94/94 [==============================] - 2s 18ms/step - loss: 0.3800 - accuracy: 0.8385\n",
      "94/94 [==============================] - 0s 3ms/step - loss: 0.5745 - accuracy: 0.7440\n",
      "94/94 [==============================] - 0s 3ms/step - loss: 0.5849 - accuracy: 0.7411\n",
      "94/94 [==============================] - 0s 3ms/step - loss: 0.5706 - accuracy: 0.7422\n",
      "94/94 [==============================] - 0s 3ms/step - loss: 0.5635 - accuracy: 0.7859\n",
      "94/94 [==============================] - 0s 3ms/step - loss: 0.5683 - accuracy: 0.7538\n",
      "94/94 [==============================] - 0s 3ms/step - loss: 0.5166 - accuracy: 0.7983\n",
      "94/94 [==============================] - 0s 3ms/step - loss: 0.5109 - accuracy: 0.7948\n",
      "94/94 [==============================] - 0s 4ms/step - loss: 0.5092 - accuracy: 0.7949\n",
      "94/94 [==============================] - 0s 4ms/step - loss: 0.5181 - accuracy: 0.7788\n",
      "94/94 [==============================] - 0s 4ms/step - loss: 0.5056 - accuracy: 0.8075\n",
      "94/94 [==============================] - 1s 12ms/step - loss: 0.3680 - accuracy: 0.8464\n",
      "94/94 [==============================] - 1s 12ms/step - loss: 0.3694 - accuracy: 0.8401\n",
      "94/94 [==============================] - 1s 11ms/step - loss: 0.3686 - accuracy: 0.8422\n",
      "94/94 [==============================] - 1s 11ms/step - loss: 0.3762 - accuracy: 0.8358\n",
      "94/94 [==============================] - 1s 11ms/step - loss: 0.3680 - accuracy: 0.8447\n",
      "94/94 [==============================] - 0s 4ms/step - loss: 0.5444 - accuracy: 0.7870\n",
      "94/94 [==============================] - 0s 4ms/step - loss: 0.5445 - accuracy: 0.7958\n",
      "94/94 [==============================] - 0s 4ms/step - loss: 0.5459 - accuracy: 0.7979\n",
      "94/94 [==============================] - 0s 4ms/step - loss: 0.5557 - accuracy: 0.7913\n",
      "94/94 [==============================] - 0s 4ms/step - loss: 0.5431 - accuracy: 0.8059\n",
      "94/94 [==============================] - 0s 4ms/step - loss: 0.4864 - accuracy: 0.8251\n",
      "94/94 [==============================] - 0s 4ms/step - loss: 0.4881 - accuracy: 0.8172\n",
      "94/94 [==============================] - 0s 4ms/step - loss: 0.4828 - accuracy: 0.8195\n",
      "94/94 [==============================] - 0s 4ms/step - loss: 0.4884 - accuracy: 0.8155\n",
      "94/94 [==============================] - 0s 4ms/step - loss: 0.4924 - accuracy: 0.8195\n",
      "94/94 [==============================] - 2s 18ms/step - loss: 0.3793 - accuracy: 0.8390\n",
      "94/94 [==============================] - 2s 18ms/step - loss: 0.3858 - accuracy: 0.8342\n",
      "94/94 [==============================] - 2s 18ms/step - loss: 0.3731 - accuracy: 0.8379\n",
      "94/94 [==============================] - 2s 18ms/step - loss: 0.3783 - accuracy: 0.8390\n",
      "94/94 [==============================] - 2s 18ms/step - loss: 0.3745 - accuracy: 0.8382\n",
      "94/94 [==============================] - 0s 3ms/step - loss: 0.5679 - accuracy: 0.7891\n",
      "94/94 [==============================] - 0s 3ms/step - loss: 0.5588 - accuracy: 0.7972\n",
      "94/94 [==============================] - 0s 3ms/step - loss: 0.5585 - accuracy: 0.7705\n",
      "94/94 [==============================] - 0s 3ms/step - loss: 0.5701 - accuracy: 0.7707\n",
      "94/94 [==============================] - 0s 3ms/step - loss: 0.5692 - accuracy: 0.7724\n",
      "94/94 [==============================] - 0s 3ms/step - loss: 0.5154 - accuracy: 0.7966\n",
      "94/94 [==============================] - 0s 4ms/step - loss: 0.5191 - accuracy: 0.7668\n",
      "94/94 [==============================] - 0s 4ms/step - loss: 0.5155 - accuracy: 0.8120\n",
      "94/94 [==============================] - 0s 3ms/step - loss: 0.5224 - accuracy: 0.7865\n",
      "94/94 [==============================] - 0s 3ms/step - loss: 0.5138 - accuracy: 0.8003\n",
      "94/94 [==============================] - 1s 11ms/step - loss: 0.3668 - accuracy: 0.8427\n",
      "94/94 [==============================] - 1s 11ms/step - loss: 0.3646 - accuracy: 0.8478\n",
      "94/94 [==============================] - 1s 11ms/step - loss: 0.3636 - accuracy: 0.8494\n",
      "94/94 [==============================] - 1s 11ms/step - loss: 0.3723 - accuracy: 0.8452\n",
      "94/94 [==============================] - 1s 11ms/step - loss: 0.3692 - accuracy: 0.8458\n",
      "24/24 [==============================] - 0s 6ms/step - loss: 0.6374 - accuracy: 0.7292\n",
      "24/24 [==============================] - 0s 6ms/step - loss: 0.6431 - accuracy: 0.7550\n",
      "24/24 [==============================] - 0s 6ms/step - loss: 0.6347 - accuracy: 0.7686\n",
      "24/24 [==============================] - 0s 6ms/step - loss: 0.6398 - accuracy: 0.7243\n",
      "24/24 [==============================] - 0s 6ms/step - loss: 0.6340 - accuracy: 0.7535\n",
      "24/24 [==============================] - 0s 6ms/step - loss: 0.5955 - accuracy: 0.7673\n",
      "24/24 [==============================] - 0s 6ms/step - loss: 0.5990 - accuracy: 0.7540\n",
      "24/24 [==============================] - 0s 6ms/step - loss: 0.6008 - accuracy: 0.7780\n",
      "24/24 [==============================] - 0s 6ms/step - loss: 0.5967 - accuracy: 0.7732\n",
      "24/24 [==============================] - 0s 6ms/step - loss: 0.5973 - accuracy: 0.7638\n",
      "24/24 [==============================] - 1s 28ms/step - loss: 0.4824 - accuracy: 0.7812\n",
      "24/24 [==============================] - 1s 28ms/step - loss: 0.4903 - accuracy: 0.7708\n",
      "24/24 [==============================] - 1s 28ms/step - loss: 0.4891 - accuracy: 0.7752\n",
      "24/24 [==============================] - 1s 29ms/step - loss: 0.5004 - accuracy: 0.7701\n",
      "24/24 [==============================] - 1s 29ms/step - loss: 0.4921 - accuracy: 0.7722\n",
      "24/24 [==============================] - 0s 5ms/step - loss: 0.6716 - accuracy: 0.6731\n",
      "24/24 [==============================] - 0s 5ms/step - loss: 0.6717 - accuracy: 0.7088\n",
      "24/24 [==============================] - 0s 5ms/step - loss: 0.6697 - accuracy: 0.7058\n",
      "24/24 [==============================] - 0s 5ms/step - loss: 0.6675 - accuracy: 0.6607\n",
      "24/24 [==============================] - 0s 5ms/step - loss: 0.6704 - accuracy: 0.7222\n",
      "24/24 [==============================] - 0s 6ms/step - loss: 0.6430 - accuracy: 0.7393\n",
      "24/24 [==============================] - 0s 6ms/step - loss: 0.6486 - accuracy: 0.7289\n",
      "24/24 [==============================] - 0s 6ms/step - loss: 0.6530 - accuracy: 0.6350\n",
      "24/24 [==============================] - 0s 6ms/step - loss: 0.6502 - accuracy: 0.7332\n",
      "24/24 [==============================] - 0s 6ms/step - loss: 0.6441 - accuracy: 0.7427\n",
      "24/24 [==============================] - 1s 22ms/step - loss: 0.4559 - accuracy: 0.8066\n",
      "24/24 [==============================] - 1s 23ms/step - loss: 0.4698 - accuracy: 0.7892\n",
      "24/24 [==============================] - 1s 22ms/step - loss: 0.4918 - accuracy: 0.7778\n",
      "24/24 [==============================] - 1s 21ms/step - loss: 0.4760 - accuracy: 0.7944\n",
      "24/24 [==============================] - 1s 21ms/step - loss: 0.4543 - accuracy: 0.8108\n",
      "24/24 [==============================] - 0s 6ms/step - loss: 0.6413 - accuracy: 0.7144\n",
      "24/24 [==============================] - 0s 5ms/step - loss: 0.6314 - accuracy: 0.7621\n",
      "24/24 [==============================] - 0s 5ms/step - loss: 0.6315 - accuracy: 0.7406\n",
      "24/24 [==============================] - 0s 6ms/step - loss: 0.6356 - accuracy: 0.7445\n",
      "24/24 [==============================] - 0s 6ms/step - loss: 0.6412 - accuracy: 0.7545\n",
      "24/24 [==============================] - 0s 6ms/step - loss: 0.5983 - accuracy: 0.7642\n",
      "24/24 [==============================] - 0s 7ms/step - loss: 0.5972 - accuracy: 0.7707\n",
      "24/24 [==============================] - 0s 6ms/step - loss: 0.5938 - accuracy: 0.7720\n",
      "24/24 [==============================] - 0s 6ms/step - loss: 0.5910 - accuracy: 0.7857\n",
      "24/24 [==============================] - 0s 7ms/step - loss: 0.5990 - accuracy: 0.7774\n",
      "24/24 [==============================] - 1s 29ms/step - loss: 0.4927 - accuracy: 0.7696\n",
      "24/24 [==============================] - 1s 28ms/step - loss: 0.5028 - accuracy: 0.7609\n",
      "24/24 [==============================] - 1s 29ms/step - loss: 0.5022 - accuracy: 0.7692\n",
      "24/24 [==============================] - 1s 29ms/step - loss: 0.5056 - accuracy: 0.7588\n",
      "24/24 [==============================] - 1s 28ms/step - loss: 0.4924 - accuracy: 0.7683\n",
      "24/24 [==============================] - 0s 5ms/step - loss: 0.6707 - accuracy: 0.7017\n",
      "24/24 [==============================] - 0s 5ms/step - loss: 0.6677 - accuracy: 0.7016\n",
      "24/24 [==============================] - 0s 5ms/step - loss: 0.6666 - accuracy: 0.7168\n",
      "24/24 [==============================] - 0s 5ms/step - loss: 0.6705 - accuracy: 0.6039\n",
      "24/24 [==============================] - 0s 5ms/step - loss: 0.6748 - accuracy: 0.6817\n",
      "24/24 [==============================] - 0s 6ms/step - loss: 0.6522 - accuracy: 0.7368\n",
      "24/24 [==============================] - 0s 6ms/step - loss: 0.6497 - accuracy: 0.7402\n",
      "24/24 [==============================] - 0s 6ms/step - loss: 0.6598 - accuracy: 0.6756\n",
      "24/24 [==============================] - 0s 6ms/step - loss: 0.6474 - accuracy: 0.7297\n",
      "24/24 [==============================] - 0s 6ms/step - loss: 0.6465 - accuracy: 0.7471\n",
      "24/24 [==============================] - 1s 22ms/step - loss: 0.4597 - accuracy: 0.8048\n",
      "24/24 [==============================] - 1s 21ms/step - loss: 0.4714 - accuracy: 0.8012\n",
      "24/24 [==============================] - 1s 21ms/step - loss: 0.4587 - accuracy: 0.8037\n",
      "24/24 [==============================] - 1s 21ms/step - loss: 0.4654 - accuracy: 0.8033\n",
      "24/24 [==============================] - 1s 21ms/step - loss: 0.4657 - accuracy: 0.7993\n",
      "24/24 [==============================] - 0s 6ms/step - loss: 0.6381 - accuracy: 0.7563\n",
      "24/24 [==============================] - 0s 6ms/step - loss: 0.6361 - accuracy: 0.7543\n",
      "24/24 [==============================] - 0s 6ms/step - loss: 0.6298 - accuracy: 0.7665\n",
      "24/24 [==============================] - 0s 6ms/step - loss: 0.6337 - accuracy: 0.7462\n",
      "24/24 [==============================] - 0s 6ms/step - loss: 0.6405 - accuracy: 0.7370\n",
      "24/24 [==============================] - 0s 7ms/step - loss: 0.5975 - accuracy: 0.7775\n",
      "24/24 [==============================] - 0s 7ms/step - loss: 0.5932 - accuracy: 0.7721\n",
      "24/24 [==============================] - 0s 7ms/step - loss: 0.5913 - accuracy: 0.7753\n",
      "24/24 [==============================] - 0s 7ms/step - loss: 0.5984 - accuracy: 0.7564\n",
      "24/24 [==============================] - 0s 7ms/step - loss: 0.5944 - accuracy: 0.7738\n",
      "24/24 [==============================] - 1s 28ms/step - loss: 0.4921 - accuracy: 0.7691\n",
      "24/24 [==============================] - 1s 27ms/step - loss: 0.4766 - accuracy: 0.7868\n",
      "24/24 [==============================] - 1s 28ms/step - loss: 0.4872 - accuracy: 0.7734\n",
      "24/24 [==============================] - 1s 27ms/step - loss: 0.5026 - accuracy: 0.7642\n",
      "24/24 [==============================] - 1s 27ms/step - loss: 0.4947 - accuracy: 0.7713\n",
      "24/24 [==============================] - 0s 5ms/step - loss: 0.6683 - accuracy: 0.6790\n",
      "24/24 [==============================] - 0s 5ms/step - loss: 0.6705 - accuracy: 0.6751\n",
      "24/24 [==============================] - 0s 6ms/step - loss: 0.6712 - accuracy: 0.7164\n",
      "24/24 [==============================] - 0s 6ms/step - loss: 0.6742 - accuracy: 0.6578\n",
      "24/24 [==============================] - 0s 6ms/step - loss: 0.6726 - accuracy: 0.7160\n",
      "24/24 [==============================] - 0s 6ms/step - loss: 0.6553 - accuracy: 0.7234\n",
      "24/24 [==============================] - 0s 6ms/step - loss: 0.6546 - accuracy: 0.6837\n",
      "24/24 [==============================] - 0s 6ms/step - loss: 0.6565 - accuracy: 0.6576\n",
      "24/24 [==============================] - 0s 6ms/step - loss: 0.6463 - accuracy: 0.7293\n",
      "24/24 [==============================] - 0s 6ms/step - loss: 0.6549 - accuracy: 0.7256\n",
      "24/24 [==============================] - 1s 22ms/step - loss: 0.4807 - accuracy: 0.7876\n",
      "24/24 [==============================] - 1s 22ms/step - loss: 0.4696 - accuracy: 0.7957\n",
      "24/24 [==============================] - 1s 22ms/step - loss: 0.4650 - accuracy: 0.8031\n",
      "24/24 [==============================] - 1s 22ms/step - loss: 0.4662 - accuracy: 0.8019\n",
      "24/24 [==============================] - 1s 22ms/step - loss: 0.4654 - accuracy: 0.7992\n",
      "12/12 [==============================] - 0s 7ms/step - loss: 0.6595 - accuracy: 0.7406\n",
      "12/12 [==============================] - 0s 7ms/step - loss: 0.6573 - accuracy: 0.7171\n",
      "12/12 [==============================] - 0s 7ms/step - loss: 0.6605 - accuracy: 0.7380\n",
      "12/12 [==============================] - 0s 7ms/step - loss: 0.6628 - accuracy: 0.6955\n",
      "12/12 [==============================] - 0s 7ms/step - loss: 0.6620 - accuracy: 0.7155\n",
      "12/12 [==============================] - 0s 9ms/step - loss: 0.6472 - accuracy: 0.7295\n",
      "12/12 [==============================] - 0s 9ms/step - loss: 0.6388 - accuracy: 0.7454\n",
      "12/12 [==============================] - 0s 9ms/step - loss: 0.6395 - accuracy: 0.7366\n",
      "12/12 [==============================] - 0s 8ms/step - loss: 0.6412 - accuracy: 0.7268\n",
      "12/12 [==============================] - 0s 8ms/step - loss: 0.6369 - accuracy: 0.7436\n",
      "12/12 [==============================] - 0s 38ms/step - loss: 0.5808 - accuracy: 0.6981\n",
      "12/12 [==============================] - 0s 38ms/step - loss: 0.5689 - accuracy: 0.7241\n",
      "12/12 [==============================] - 0s 38ms/step - loss: 0.5862 - accuracy: 0.7288\n",
      "12/12 [==============================] - 0s 39ms/step - loss: 0.5555 - accuracy: 0.7321\n",
      "12/12 [==============================] - 0s 39ms/step - loss: 0.5792 - accuracy: 0.7078\n",
      "12/12 [==============================] - 0s 7ms/step - loss: 0.6848 - accuracy: 0.5122\n",
      "12/12 [==============================] - 0s 7ms/step - loss: 0.6839 - accuracy: 0.5872\n",
      "12/12 [==============================] - 0s 7ms/step - loss: 0.6845 - accuracy: 0.6534\n",
      "12/12 [==============================] - 0s 7ms/step - loss: 0.6876 - accuracy: 0.6036\n",
      "12/12 [==============================] - 0s 7ms/step - loss: 0.6832 - accuracy: 0.6631\n",
      "12/12 [==============================] - 0s 8ms/step - loss: 0.6758 - accuracy: 0.6589\n",
      "12/12 [==============================] - 0s 8ms/step - loss: 0.6805 - accuracy: 0.6572\n",
      "12/12 [==============================] - 0s 8ms/step - loss: 0.6793 - accuracy: 0.6800\n",
      "12/12 [==============================] - 0s 9ms/step - loss: 0.6795 - accuracy: 0.6233\n",
      "12/12 [==============================] - 0s 8ms/step - loss: 0.6741 - accuracy: 0.6704\n",
      "12/12 [==============================] - 0s 33ms/step - loss: 0.5515 - accuracy: 0.7500\n",
      "12/12 [==============================] - 0s 34ms/step - loss: 0.5399 - accuracy: 0.7722\n",
      "12/12 [==============================] - 0s 33ms/step - loss: 0.5334 - accuracy: 0.7711\n",
      "12/12 [==============================] - 0s 32ms/step - loss: 0.5308 - accuracy: 0.7802\n",
      "12/12 [==============================] - 0s 33ms/step - loss: 0.5355 - accuracy: 0.7831\n",
      "12/12 [==============================] - 0s 7ms/step - loss: 0.6627 - accuracy: 0.7322\n",
      "12/12 [==============================] - 0s 8ms/step - loss: 0.6631 - accuracy: 0.7312\n",
      "12/12 [==============================] - 0s 7ms/step - loss: 0.6613 - accuracy: 0.7400\n",
      "12/12 [==============================] - 0s 7ms/step - loss: 0.6612 - accuracy: 0.7287\n",
      "12/12 [==============================] - 0s 7ms/step - loss: 0.6555 - accuracy: 0.7261\n",
      "12/12 [==============================] - 0s 8ms/step - loss: 0.6322 - accuracy: 0.7447\n",
      "12/12 [==============================] - 0s 8ms/step - loss: 0.6348 - accuracy: 0.7382\n",
      "12/12 [==============================] - 0s 8ms/step - loss: 0.6324 - accuracy: 0.7577\n",
      "12/12 [==============================] - 0s 9ms/step - loss: 0.6465 - accuracy: 0.7230\n",
      "12/12 [==============================] - 0s 9ms/step - loss: 0.6340 - accuracy: 0.7534\n",
      "12/12 [==============================] - 0s 39ms/step - loss: 0.5604 - accuracy: 0.7232\n",
      "12/12 [==============================] - 0s 38ms/step - loss: 0.5815 - accuracy: 0.7042\n",
      "12/12 [==============================] - 0s 39ms/step - loss: 0.5516 - accuracy: 0.7341\n",
      "12/12 [==============================] - 0s 39ms/step - loss: 0.5543 - accuracy: 0.7332\n",
      "12/12 [==============================] - 0s 38ms/step - loss: 0.5607 - accuracy: 0.7242\n",
      "12/12 [==============================] - 0s 7ms/step - loss: 0.6855 - accuracy: 0.5944\n",
      "12/12 [==============================] - 0s 6ms/step - loss: 0.6858 - accuracy: 0.6605\n",
      "12/12 [==============================] - 0s 7ms/step - loss: 0.6828 - accuracy: 0.6355\n",
      "12/12 [==============================] - 0s 7ms/step - loss: 0.6818 - accuracy: 0.6752\n",
      "12/12 [==============================] - 0s 7ms/step - loss: 0.6830 - accuracy: 0.6491\n",
      "12/12 [==============================] - 0s 7ms/step - loss: 0.6764 - accuracy: 0.6457\n",
      "12/12 [==============================] - 0s 7ms/step - loss: 0.6753 - accuracy: 0.6736\n",
      "12/12 [==============================] - 0s 7ms/step - loss: 0.6751 - accuracy: 0.6894\n",
      "12/12 [==============================] - 0s 7ms/step - loss: 0.6791 - accuracy: 0.6887\n",
      "12/12 [==============================] - 0s 8ms/step - loss: 0.6741 - accuracy: 0.6824\n",
      "12/12 [==============================] - 0s 33ms/step - loss: 0.5376 - accuracy: 0.7749\n",
      "12/12 [==============================] - 0s 32ms/step - loss: 0.5711 - accuracy: 0.7299\n",
      "12/12 [==============================] - 0s 32ms/step - loss: 0.5316 - accuracy: 0.7826\n",
      "12/12 [==============================] - 0s 32ms/step - loss: 0.5427 - accuracy: 0.7680\n",
      "12/12 [==============================] - 0s 33ms/step - loss: 0.5447 - accuracy: 0.7601\n",
      "12/12 [==============================] - 0s 7ms/step - loss: 0.6620 - accuracy: 0.7323\n",
      "12/12 [==============================] - 0s 7ms/step - loss: 0.6647 - accuracy: 0.7093\n",
      "12/12 [==============================] - 0s 7ms/step - loss: 0.6643 - accuracy: 0.7361\n",
      "12/12 [==============================] - 0s 8ms/step - loss: 0.6617 - accuracy: 0.7007\n",
      "12/12 [==============================] - 0s 8ms/step - loss: 0.6640 - accuracy: 0.7169\n",
      "12/12 [==============================] - 0s 11ms/step - loss: 0.6326 - accuracy: 0.7152\n",
      "12/12 [==============================] - 0s 10ms/step - loss: 0.6344 - accuracy: 0.7322\n",
      "12/12 [==============================] - 0s 9ms/step - loss: 0.6365 - accuracy: 0.7143\n",
      "12/12 [==============================] - 0s 9ms/step - loss: 0.6315 - accuracy: 0.7051\n",
      "12/12 [==============================] - 0s 8ms/step - loss: 0.6347 - accuracy: 0.7013\n",
      "12/12 [==============================] - 0s 38ms/step - loss: 0.5633 - accuracy: 0.7253\n",
      "12/12 [==============================] - 0s 37ms/step - loss: 0.5573 - accuracy: 0.7372\n",
      "12/12 [==============================] - 0s 38ms/step - loss: 0.5562 - accuracy: 0.7541\n",
      "12/12 [==============================] - 0s 38ms/step - loss: 0.5561 - accuracy: 0.7312\n",
      "12/12 [==============================] - 0s 39ms/step - loss: 0.5622 - accuracy: 0.7222\n",
      "12/12 [==============================] - 0s 7ms/step - loss: 0.6852 - accuracy: 0.6584\n",
      "12/12 [==============================] - 0s 7ms/step - loss: 0.6872 - accuracy: 0.6182\n",
      "12/12 [==============================] - 0s 7ms/step - loss: 0.6849 - accuracy: 0.5260\n",
      "12/12 [==============================] - 0s 7ms/step - loss: 0.6852 - accuracy: 0.5683\n",
      "12/12 [==============================] - 0s 7ms/step - loss: 0.6852 - accuracy: 0.5975\n",
      "12/12 [==============================] - 0s 8ms/step - loss: 0.6756 - accuracy: 0.6517\n",
      "12/12 [==============================] - 0s 8ms/step - loss: 0.6738 - accuracy: 0.6078\n",
      "12/12 [==============================] - 0s 8ms/step - loss: 0.6780 - accuracy: 0.6842\n",
      "12/12 [==============================] - 0s 8ms/step - loss: 0.6743 - accuracy: 0.6798\n",
      "12/12 [==============================] - 0s 8ms/step - loss: 0.6790 - accuracy: 0.6742\n",
      "12/12 [==============================] - 0s 33ms/step - loss: 0.5600 - accuracy: 0.7387\n",
      "12/12 [==============================] - 0s 33ms/step - loss: 0.5351 - accuracy: 0.7739\n",
      "12/12 [==============================] - 0s 33ms/step - loss: 0.5499 - accuracy: 0.7546\n",
      "12/12 [==============================] - 0s 32ms/step - loss: 0.5406 - accuracy: 0.7657\n",
      "12/12 [==============================] - 0s 33ms/step - loss: 0.5346 - accuracy: 0.7733\n",
      "94/94 [==============================] - 0s 4ms/step - loss: 0.5697 - accuracy: 0.7458\n",
      "94/94 [==============================] - 0s 4ms/step - loss: 0.5606 - accuracy: 0.7719\n",
      "94/94 [==============================] - 0s 4ms/step - loss: 0.5445 - accuracy: 0.7751\n",
      "94/94 [==============================] - 0s 4ms/step - loss: 0.5699 - accuracy: 0.7766\n",
      "94/94 [==============================] - 0s 4ms/step - loss: 0.5445 - accuracy: 0.8093\n",
      "94/94 [==============================] - 0s 4ms/step - loss: 0.4597 - accuracy: 0.8016\n",
      "94/94 [==============================] - 0s 5ms/step - loss: 0.4718 - accuracy: 0.8121\n",
      "94/94 [==============================] - 0s 5ms/step - loss: 0.4640 - accuracy: 0.8148\n",
      "94/94 [==============================] - 0s 5ms/step - loss: 0.4687 - accuracy: 0.8151\n",
      "94/94 [==============================] - 0s 5ms/step - loss: 0.4738 - accuracy: 0.8170\n",
      "94/94 [==============================] - 2s 20ms/step - loss: 0.4136 - accuracy: 0.8077\n",
      "94/94 [==============================] - 2s 20ms/step - loss: 0.4048 - accuracy: 0.8204\n",
      "94/94 [==============================] - 2s 20ms/step - loss: 0.4021 - accuracy: 0.8160\n",
      "94/94 [==============================] - 2s 20ms/step - loss: 0.4121 - accuracy: 0.8093\n",
      "94/94 [==============================] - 2s 19ms/step - loss: 0.4034 - accuracy: 0.8210\n",
      "94/94 [==============================] - 0s 3ms/step - loss: 0.5970 - accuracy: 0.7567\n",
      "94/94 [==============================] - 0s 3ms/step - loss: 0.5919 - accuracy: 0.7754\n",
      "94/94 [==============================] - 0s 3ms/step - loss: 0.6007 - accuracy: 0.6856\n",
      "94/94 [==============================] - 0s 3ms/step - loss: 0.5952 - accuracy: 0.7600\n",
      "94/94 [==============================] - 0s 3ms/step - loss: 0.5933 - accuracy: 0.7462\n",
      "94/94 [==============================] - 0s 3ms/step - loss: 0.5201 - accuracy: 0.7720\n",
      "94/94 [==============================] - 0s 3ms/step - loss: 0.5163 - accuracy: 0.7646\n",
      "94/94 [==============================] - 0s 3ms/step - loss: 0.5141 - accuracy: 0.7793\n",
      "94/94 [==============================] - 0s 3ms/step - loss: 0.5102 - accuracy: 0.7983\n",
      "94/94 [==============================] - 0s 4ms/step - loss: 0.5132 - accuracy: 0.7408\n",
      "94/94 [==============================] - 1s 13ms/step - loss: 0.3679 - accuracy: 0.8395\n",
      "94/94 [==============================] - 1s 13ms/step - loss: 0.3688 - accuracy: 0.8340\n",
      "94/94 [==============================] - 1s 13ms/step - loss: 0.3690 - accuracy: 0.8353\n",
      "94/94 [==============================] - 1s 13ms/step - loss: 0.3729 - accuracy: 0.8349\n",
      "94/94 [==============================] - 1s 13ms/step - loss: 0.3760 - accuracy: 0.8315\n",
      "94/94 [==============================] - 0s 4ms/step - loss: 0.5637 - accuracy: 0.7754\n",
      "94/94 [==============================] - 0s 4ms/step - loss: 0.5700 - accuracy: 0.7581\n",
      "94/94 [==============================] - 0s 4ms/step - loss: 0.5455 - accuracy: 0.7843\n",
      "94/94 [==============================] - 0s 4ms/step - loss: 0.5684 - accuracy: 0.8040\n",
      "94/94 [==============================] - 0s 4ms/step - loss: 0.5518 - accuracy: 0.7746\n",
      "94/94 [==============================] - 0s 4ms/step - loss: 0.4614 - accuracy: 0.7944\n",
      "94/94 [==============================] - 0s 4ms/step - loss: 0.4764 - accuracy: 0.8141\n",
      "94/94 [==============================] - 0s 4ms/step - loss: 0.4780 - accuracy: 0.7977\n",
      "94/94 [==============================] - 0s 4ms/step - loss: 0.4703 - accuracy: 0.8075\n",
      "94/94 [==============================] - 0s 4ms/step - loss: 0.4698 - accuracy: 0.8173\n",
      "94/94 [==============================] - 2s 19ms/step - loss: 0.3964 - accuracy: 0.8198\n",
      "94/94 [==============================] - 2s 20ms/step - loss: 0.4019 - accuracy: 0.8225\n",
      "94/94 [==============================] - 2s 19ms/step - loss: 0.4076 - accuracy: 0.8209\n",
      "94/94 [==============================] - 2s 19ms/step - loss: 0.4119 - accuracy: 0.8222\n",
      "94/94 [==============================] - 2s 19ms/step - loss: 0.4081 - accuracy: 0.8175\n",
      "94/94 [==============================] - 1s 9ms/step - loss: 0.6060 - accuracy: 0.6633\n",
      "94/94 [==============================] - 1s 8ms/step - loss: 0.6081 - accuracy: 0.6751\n",
      "94/94 [==============================] - 1s 8ms/step - loss: 0.5935 - accuracy: 0.7725\n",
      "94/94 [==============================] - 0s 3ms/step - loss: 0.6028 - accuracy: 0.7351\n",
      "94/94 [==============================] - 0s 3ms/step - loss: 0.6024 - accuracy: 0.7567\n",
      "94/94 [==============================] - 0s 3ms/step - loss: 0.5300 - accuracy: 0.7819\n",
      "94/94 [==============================] - 0s 3ms/step - loss: 0.5350 - accuracy: 0.7530\n",
      "94/94 [==============================] - 0s 4ms/step - loss: 0.5169 - accuracy: 0.8027\n",
      "94/94 [==============================] - 0s 3ms/step - loss: 0.5212 - accuracy: 0.7736\n",
      "94/94 [==============================] - 0s 3ms/step - loss: 0.5143 - accuracy: 0.7470\n",
      "94/94 [==============================] - 1s 12ms/step - loss: 0.3684 - accuracy: 0.8353\n",
      "94/94 [==============================] - 1s 13ms/step - loss: 0.3715 - accuracy: 0.8310\n",
      "94/94 [==============================] - 1s 14ms/step - loss: 0.3772 - accuracy: 0.8261\n",
      "94/94 [==============================] - 1s 13ms/step - loss: 0.3726 - accuracy: 0.8331\n",
      "94/94 [==============================] - 1s 13ms/step - loss: 0.3647 - accuracy: 0.8474\n",
      "94/94 [==============================] - 0s 4ms/step - loss: 0.5519 - accuracy: 0.7832\n",
      "94/94 [==============================] - 0s 4ms/step - loss: 0.5754 - accuracy: 0.7682\n",
      "94/94 [==============================] - 0s 4ms/step - loss: 0.5672 - accuracy: 0.7349\n",
      "94/94 [==============================] - 0s 4ms/step - loss: 0.5665 - accuracy: 0.7389\n",
      "94/94 [==============================] - 0s 4ms/step - loss: 0.5620 - accuracy: 0.8000\n",
      "94/94 [==============================] - 0s 4ms/step - loss: 0.4637 - accuracy: 0.8140\n",
      "94/94 [==============================] - 0s 4ms/step - loss: 0.4610 - accuracy: 0.8232\n",
      "94/94 [==============================] - 0s 4ms/step - loss: 0.4713 - accuracy: 0.8156\n",
      "94/94 [==============================] - 0s 4ms/step - loss: 0.4606 - accuracy: 0.8142\n",
      "94/94 [==============================] - 0s 4ms/step - loss: 0.4641 - accuracy: 0.8077\n",
      "94/94 [==============================] - 2s 20ms/step - loss: 0.4027 - accuracy: 0.8226\n",
      "94/94 [==============================] - 2s 19ms/step - loss: 0.4062 - accuracy: 0.8194\n",
      "94/94 [==============================] - 2s 19ms/step - loss: 0.4126 - accuracy: 0.8147\n",
      "94/94 [==============================] - 2s 19ms/step - loss: 0.4092 - accuracy: 0.8173\n",
      "94/94 [==============================] - 2s 19ms/step - loss: 0.4085 - accuracy: 0.8131\n",
      "94/94 [==============================] - 0s 3ms/step - loss: 0.6051 - accuracy: 0.6590\n",
      "94/94 [==============================] - 0s 4ms/step - loss: 0.6103 - accuracy: 0.7276\n",
      "94/94 [==============================] - 0s 4ms/step - loss: 0.5883 - accuracy: 0.7344\n",
      "94/94 [==============================] - 0s 4ms/step - loss: 0.6049 - accuracy: 0.7609\n",
      "94/94 [==============================] - 0s 4ms/step - loss: 0.5762 - accuracy: 0.7592\n",
      "94/94 [==============================] - 0s 4ms/step - loss: 0.5053 - accuracy: 0.7569\n",
      "94/94 [==============================] - 0s 4ms/step - loss: 0.5164 - accuracy: 0.7709\n",
      "94/94 [==============================] - 0s 4ms/step - loss: 0.5125 - accuracy: 0.7991\n",
      "94/94 [==============================] - 0s 3ms/step - loss: 0.5133 - accuracy: 0.7731\n",
      "94/94 [==============================] - 0s 3ms/step - loss: 0.5301 - accuracy: 0.7975\n",
      "94/94 [==============================] - 1s 13ms/step - loss: 0.3674 - accuracy: 0.8393\n",
      "94/94 [==============================] - 1s 13ms/step - loss: 0.3822 - accuracy: 0.8278\n",
      "94/94 [==============================] - 1s 13ms/step - loss: 0.3747 - accuracy: 0.8314\n",
      "94/94 [==============================] - 1s 13ms/step - loss: 0.3719 - accuracy: 0.8363\n",
      "94/94 [==============================] - 1s 14ms/step - loss: 0.3718 - accuracy: 0.8332\n",
      "24/24 [==============================] - 0s 6ms/step - loss: 0.6708 - accuracy: 0.7162\n",
      "24/24 [==============================] - 0s 7ms/step - loss: 0.6701 - accuracy: 0.7503\n",
      "24/24 [==============================] - 0s 7ms/step - loss: 0.6637 - accuracy: 0.7436\n",
      "24/24 [==============================] - 0s 6ms/step - loss: 0.6687 - accuracy: 0.7517\n",
      "24/24 [==============================] - 0s 6ms/step - loss: 0.6642 - accuracy: 0.6338\n",
      "24/24 [==============================] - 0s 7ms/step - loss: 0.6228 - accuracy: 0.7021\n",
      "24/24 [==============================] - 0s 7ms/step - loss: 0.6112 - accuracy: 0.7426\n",
      "24/24 [==============================] - 0s 7ms/step - loss: 0.6311 - accuracy: 0.7625\n",
      "24/24 [==============================] - 0s 7ms/step - loss: 0.6237 - accuracy: 0.7543\n",
      "24/24 [==============================] - 0s 6ms/step - loss: 0.6241 - accuracy: 0.7457\n",
      "24/24 [==============================] - 1s 29ms/step - loss: 0.5489 - accuracy: 0.7314\n",
      "24/24 [==============================] - 1s 29ms/step - loss: 0.5418 - accuracy: 0.7326\n",
      "24/24 [==============================] - 1s 29ms/step - loss: 0.5506 - accuracy: 0.7330\n",
      "24/24 [==============================] - 1s 29ms/step - loss: 0.5610 - accuracy: 0.7331\n",
      "24/24 [==============================] - 1s 29ms/step - loss: 0.5554 - accuracy: 0.7312\n",
      "24/24 [==============================] - 0s 5ms/step - loss: 0.6908 - accuracy: 0.5247\n",
      "24/24 [==============================] - 0s 5ms/step - loss: 0.6903 - accuracy: 0.6090\n",
      "24/24 [==============================] - 0s 5ms/step - loss: 0.6898 - accuracy: 0.5056\n",
      "24/24 [==============================] - 0s 7ms/step - loss: 0.6903 - accuracy: 0.6279\n",
      "24/24 [==============================] - 0s 6ms/step - loss: 0.6896 - accuracy: 0.5673\n",
      "24/24 [==============================] - 0s 7ms/step - loss: 0.6790 - accuracy: 0.6665\n",
      "24/24 [==============================] - 0s 6ms/step - loss: 0.6841 - accuracy: 0.6923\n",
      "24/24 [==============================] - 0s 6ms/step - loss: 0.6806 - accuracy: 0.6243\n",
      "24/24 [==============================] - 0s 6ms/step - loss: 0.6819 - accuracy: 0.7027\n",
      "24/24 [==============================] - 0s 6ms/step - loss: 0.6816 - accuracy: 0.6256\n",
      "24/24 [==============================] - 1s 23ms/step - loss: 0.4503 - accuracy: 0.7803\n",
      "24/24 [==============================] - 1s 23ms/step - loss: 0.4537 - accuracy: 0.7941\n",
      "24/24 [==============================] - 1s 23ms/step - loss: 0.4510 - accuracy: 0.7906\n",
      "24/24 [==============================] - 1s 23ms/step - loss: 0.4424 - accuracy: 0.8050\n",
      "24/24 [==============================] - 1s 24ms/step - loss: 0.4271 - accuracy: 0.8033\n",
      "24/24 [==============================] - 0s 6ms/step - loss: 0.6680 - accuracy: 0.7428\n",
      "24/24 [==============================] - 0s 6ms/step - loss: 0.6731 - accuracy: 0.7133\n",
      "24/24 [==============================] - 0s 6ms/step - loss: 0.6657 - accuracy: 0.7452\n",
      "24/24 [==============================] - 0s 6ms/step - loss: 0.6657 - accuracy: 0.7539\n",
      "24/24 [==============================] - 0s 6ms/step - loss: 0.6788 - accuracy: 0.7289\n",
      "24/24 [==============================] - 0s 7ms/step - loss: 0.6356 - accuracy: 0.7279\n",
      "24/24 [==============================] - 0s 7ms/step - loss: 0.6152 - accuracy: 0.7689\n",
      "24/24 [==============================] - 0s 7ms/step - loss: 0.6178 - accuracy: 0.7303\n",
      "24/24 [==============================] - 0s 6ms/step - loss: 0.6226 - accuracy: 0.7278\n",
      "24/24 [==============================] - 0s 8ms/step - loss: 0.6240 - accuracy: 0.7401\n",
      "24/24 [==============================] - 1s 30ms/step - loss: 0.5450 - accuracy: 0.7574\n",
      "24/24 [==============================] - 1s 30ms/step - loss: 0.5607 - accuracy: 0.7282\n",
      "24/24 [==============================] - 1s 29ms/step - loss: 0.5476 - accuracy: 0.7417\n",
      "24/24 [==============================] - 1s 29ms/step - loss: 0.5380 - accuracy: 0.7423\n",
      "24/24 [==============================] - 1s 30ms/step - loss: 0.5733 - accuracy: 0.7577\n",
      "24/24 [==============================] - 0s 5ms/step - loss: 0.6892 - accuracy: 0.5113\n",
      "24/24 [==============================] - 0s 6ms/step - loss: 0.6909 - accuracy: 0.6471\n",
      "24/24 [==============================] - 0s 5ms/step - loss: 0.6895 - accuracy: 0.6092\n",
      "24/24 [==============================] - 0s 6ms/step - loss: 0.6892 - accuracy: 0.6633\n",
      "24/24 [==============================] - 0s 5ms/step - loss: 0.6891 - accuracy: 0.6436\n",
      "24/24 [==============================] - 0s 7ms/step - loss: 0.6816 - accuracy: 0.6440\n",
      "24/24 [==============================] - 0s 6ms/step - loss: 0.6818 - accuracy: 0.6476\n",
      "24/24 [==============================] - 0s 6ms/step - loss: 0.6808 - accuracy: 0.6323\n",
      "24/24 [==============================] - 0s 7ms/step - loss: 0.6831 - accuracy: 0.6500\n",
      "24/24 [==============================] - 0s 6ms/step - loss: 0.6823 - accuracy: 0.6954\n",
      "24/24 [==============================] - 1s 23ms/step - loss: 0.4394 - accuracy: 0.8022\n",
      "24/24 [==============================] - 1s 23ms/step - loss: 0.4492 - accuracy: 0.7967\n",
      "24/24 [==============================] - 1s 23ms/step - loss: 0.4402 - accuracy: 0.8086\n",
      "24/24 [==============================] - 1s 23ms/step - loss: 0.4478 - accuracy: 0.7948\n",
      "24/24 [==============================] - 1s 23ms/step - loss: 0.4693 - accuracy: 0.7772\n",
      "24/24 [==============================] - 0s 6ms/step - loss: 0.6760 - accuracy: 0.6889\n",
      "24/24 [==============================] - 0s 6ms/step - loss: 0.6704 - accuracy: 0.7065\n",
      "24/24 [==============================] - 0s 6ms/step - loss: 0.6712 - accuracy: 0.5838\n",
      "24/24 [==============================] - 0s 6ms/step - loss: 0.6683 - accuracy: 0.6953\n",
      "24/24 [==============================] - 0s 5ms/step - loss: 0.6674 - accuracy: 0.7285\n",
      "24/24 [==============================] - 0s 7ms/step - loss: 0.6173 - accuracy: 0.7692\n",
      "24/24 [==============================] - 0s 6ms/step - loss: 0.6114 - accuracy: 0.7539\n",
      "24/24 [==============================] - 0s 6ms/step - loss: 0.6135 - accuracy: 0.7259\n",
      "24/24 [==============================] - 0s 6ms/step - loss: 0.6203 - accuracy: 0.7577\n",
      "24/24 [==============================] - 0s 6ms/step - loss: 0.6142 - accuracy: 0.7565\n",
      "24/24 [==============================] - 1s 29ms/step - loss: 0.5515 - accuracy: 0.7246\n",
      "24/24 [==============================] - 1s 32ms/step - loss: 0.5440 - accuracy: 0.7358\n",
      "24/24 [==============================] - 1s 30ms/step - loss: 0.5493 - accuracy: 0.7592\n",
      "24/24 [==============================] - 1s 30ms/step - loss: 0.5490 - accuracy: 0.7372\n",
      "24/24 [==============================] - 1s 30ms/step - loss: 0.5446 - accuracy: 0.7321\n",
      "24/24 [==============================] - 0s 5ms/step - loss: 0.6902 - accuracy: 0.5795\n",
      "24/24 [==============================] - 0s 5ms/step - loss: 0.6904 - accuracy: 0.6665\n",
      "24/24 [==============================] - 0s 5ms/step - loss: 0.6903 - accuracy: 0.5898\n",
      "24/24 [==============================] - 0s 5ms/step - loss: 0.6905 - accuracy: 0.6442\n",
      "24/24 [==============================] - 0s 5ms/step - loss: 0.6903 - accuracy: 0.6298\n",
      "24/24 [==============================] - 0s 5ms/step - loss: 0.6770 - accuracy: 0.5902\n",
      "24/24 [==============================] - 0s 5ms/step - loss: 0.6825 - accuracy: 0.6325\n",
      "24/24 [==============================] - 0s 6ms/step - loss: 0.6803 - accuracy: 0.7247\n",
      "24/24 [==============================] - 0s 5ms/step - loss: 0.6852 - accuracy: 0.6963\n",
      "24/24 [==============================] - 0s 5ms/step - loss: 0.6818 - accuracy: 0.6531\n",
      "24/24 [==============================] - 1s 23ms/step - loss: 0.4458 - accuracy: 0.7925\n",
      "24/24 [==============================] - 1s 23ms/step - loss: 0.4695 - accuracy: 0.7742\n",
      "24/24 [==============================] - 1s 23ms/step - loss: 0.4758 - accuracy: 0.7610\n",
      "24/24 [==============================] - 1s 23ms/step - loss: 0.4626 - accuracy: 0.7798\n",
      "24/24 [==============================] - 1s 23ms/step - loss: 0.4590 - accuracy: 0.7907\n",
      "12/12 [==============================] - 0s 8ms/step - loss: 0.6855 - accuracy: 0.5686\n",
      "12/12 [==============================] - 0s 8ms/step - loss: 0.6854 - accuracy: 0.6724\n",
      "12/12 [==============================] - 0s 7ms/step - loss: 0.6843 - accuracy: 0.6758\n",
      "12/12 [==============================] - 0s 7ms/step - loss: 0.6843 - accuracy: 0.6842\n",
      "12/12 [==============================] - 0s 7ms/step - loss: 0.6860 - accuracy: 0.6621\n",
      "12/12 [==============================] - 0s 9ms/step - loss: 0.6616 - accuracy: 0.7268\n",
      "12/12 [==============================] - 0s 8ms/step - loss: 0.6620 - accuracy: 0.7322\n",
      "12/12 [==============================] - 0s 9ms/step - loss: 0.6680 - accuracy: 0.6542\n",
      "12/12 [==============================] - 0s 9ms/step - loss: 0.6674 - accuracy: 0.7102\n",
      "12/12 [==============================] - 0s 8ms/step - loss: 0.6711 - accuracy: 0.6497\n",
      "12/12 [==============================] - 0s 40ms/step - loss: 0.6090 - accuracy: 0.6861\n",
      "12/12 [==============================] - 0s 41ms/step - loss: 0.6646 - accuracy: 0.6824\n",
      "12/12 [==============================] - 0s 41ms/step - loss: 0.6228 - accuracy: 0.7296\n",
      "12/12 [==============================] - 0s 40ms/step - loss: 0.6400 - accuracy: 0.6792\n",
      "12/12 [==============================] - 0s 40ms/step - loss: 0.6432 - accuracy: 0.6781\n",
      "12/12 [==============================] - 0s 7ms/step - loss: 0.6927 - accuracy: 0.5001\n",
      "12/12 [==============================] - 0s 7ms/step - loss: 0.6927 - accuracy: 0.5791\n",
      "12/12 [==============================] - 0s 7ms/step - loss: 0.6923 - accuracy: 0.5608\n",
      "12/12 [==============================] - 0s 7ms/step - loss: 0.6924 - accuracy: 0.5304\n",
      "12/12 [==============================] - 0s 7ms/step - loss: 0.6926 - accuracy: 0.5432\n",
      "12/12 [==============================] - 0s 8ms/step - loss: 0.6902 - accuracy: 0.5229\n",
      "12/12 [==============================] - 0s 8ms/step - loss: 0.6915 - accuracy: 0.5573\n",
      "12/12 [==============================] - 0s 8ms/step - loss: 0.6903 - accuracy: 0.6533\n",
      "12/12 [==============================] - 0s 8ms/step - loss: 0.6915 - accuracy: 0.5680\n",
      "12/12 [==============================] - 0s 8ms/step - loss: 0.6901 - accuracy: 0.5478\n",
      "12/12 [==============================] - 0s 35ms/step - loss: 0.5275 - accuracy: 0.7515\n",
      "12/12 [==============================] - 0s 34ms/step - loss: 0.5222 - accuracy: 0.7492\n",
      "12/12 [==============================] - 0s 34ms/step - loss: 0.5398 - accuracy: 0.7342\n",
      "12/12 [==============================] - 0s 36ms/step - loss: 0.5389 - accuracy: 0.7402\n",
      "12/12 [==============================] - 0s 35ms/step - loss: 0.5219 - accuracy: 0.7527\n",
      "12/12 [==============================] - 0s 8ms/step - loss: 0.6877 - accuracy: 0.6788\n",
      "12/12 [==============================] - 0s 7ms/step - loss: 0.6847 - accuracy: 0.5749\n",
      "12/12 [==============================] - 0s 8ms/step - loss: 0.6847 - accuracy: 0.6643\n",
      "12/12 [==============================] - 0s 8ms/step - loss: 0.6848 - accuracy: 0.6535\n",
      "12/12 [==============================] - 0s 8ms/step - loss: 0.6869 - accuracy: 0.6632\n",
      "12/12 [==============================] - 0s 9ms/step - loss: 0.6691 - accuracy: 0.6702\n",
      "12/12 [==============================] - 0s 8ms/step - loss: 0.6690 - accuracy: 0.6891\n",
      "12/12 [==============================] - 0s 9ms/step - loss: 0.6697 - accuracy: 0.6449\n",
      "12/12 [==============================] - 0s 9ms/step - loss: 0.6610 - accuracy: 0.7369\n",
      "12/12 [==============================] - 0s 8ms/step - loss: 0.6662 - accuracy: 0.7042\n",
      "12/12 [==============================] - 0s 41ms/step - loss: 0.6586 - accuracy: 0.6911\n",
      "12/12 [==============================] - 0s 40ms/step - loss: 0.6477 - accuracy: 0.6831\n",
      "12/12 [==============================] - 0s 40ms/step - loss: 0.6246 - accuracy: 0.6833\n",
      "12/12 [==============================] - 0s 39ms/step - loss: 0.6390 - accuracy: 0.6671\n",
      "12/12 [==============================] - 0s 40ms/step - loss: 0.6610 - accuracy: 0.6793\n",
      "12/12 [==============================] - 0s 7ms/step - loss: 0.6927 - accuracy: 0.5047\n",
      "12/12 [==============================] - 0s 8ms/step - loss: 0.6923 - accuracy: 0.6022\n",
      "12/12 [==============================] - 0s 8ms/step - loss: 0.6923 - accuracy: 0.6217\n",
      "12/12 [==============================] - 0s 9ms/step - loss: 0.6924 - accuracy: 0.5025\n",
      "12/12 [==============================] - 0s 8ms/step - loss: 0.6924 - accuracy: 0.5376\n",
      "12/12 [==============================] - 0s 10ms/step - loss: 0.6906 - accuracy: 0.5372\n",
      "12/12 [==============================] - 0s 9ms/step - loss: 0.6910 - accuracy: 0.6426\n",
      "12/12 [==============================] - 0s 9ms/step - loss: 0.6902 - accuracy: 0.5738\n",
      "12/12 [==============================] - 0s 9ms/step - loss: 0.6908 - accuracy: 0.5674\n",
      "12/12 [==============================] - 0s 8ms/step - loss: 0.6912 - accuracy: 0.6057\n",
      "12/12 [==============================] - 0s 35ms/step - loss: 0.5353 - accuracy: 0.7461\n",
      "12/12 [==============================] - 0s 34ms/step - loss: 0.5271 - accuracy: 0.7554\n",
      "12/12 [==============================] - 0s 34ms/step - loss: 0.5257 - accuracy: 0.7591\n",
      "12/12 [==============================] - 0s 35ms/step - loss: 0.5719 - accuracy: 0.7099\n",
      "12/12 [==============================] - 0s 35ms/step - loss: 0.5288 - accuracy: 0.7572\n",
      "12/12 [==============================] - 0s 7ms/step - loss: 0.6816 - accuracy: 0.6816\n",
      "12/12 [==============================] - 0s 8ms/step - loss: 0.6807 - accuracy: 0.7200\n",
      "12/12 [==============================] - 0s 7ms/step - loss: 0.6811 - accuracy: 0.6748\n",
      "12/12 [==============================] - 0s 7ms/step - loss: 0.6838 - accuracy: 0.6736\n",
      "12/12 [==============================] - 0s 8ms/step - loss: 0.6867 - accuracy: 0.6538\n",
      "12/12 [==============================] - 0s 9ms/step - loss: 0.6686 - accuracy: 0.6758\n",
      "12/12 [==============================] - 0s 9ms/step - loss: 0.6640 - accuracy: 0.7482\n",
      "12/12 [==============================] - 0s 9ms/step - loss: 0.6633 - accuracy: 0.6681\n",
      "12/12 [==============================] - 0s 9ms/step - loss: 0.6625 - accuracy: 0.6747\n",
      "12/12 [==============================] - 0s 9ms/step - loss: 0.6683 - accuracy: 0.7277\n",
      "12/12 [==============================] - 0s 41ms/step - loss: 0.6405 - accuracy: 0.6819\n",
      "12/12 [==============================] - 0s 40ms/step - loss: 0.6979 - accuracy: 0.7084\n",
      "12/12 [==============================] - 0s 41ms/step - loss: 0.6361 - accuracy: 0.6889\n",
      "12/12 [==============================] - 0s 41ms/step - loss: 0.6382 - accuracy: 0.6973\n",
      "12/12 [==============================] - 0s 39ms/step - loss: 0.6645 - accuracy: 0.6915\n",
      "12/12 [==============================] - 0s 7ms/step - loss: 0.6925 - accuracy: 0.5547\n",
      "12/12 [==============================] - 0s 7ms/step - loss: 0.6921 - accuracy: 0.4982\n",
      "12/12 [==============================] - 0s 7ms/step - loss: 0.6927 - accuracy: 0.5658\n",
      "12/12 [==============================] - 0s 8ms/step - loss: 0.6923 - accuracy: 0.5843\n",
      "12/12 [==============================] - 0s 7ms/step - loss: 0.6921 - accuracy: 0.5039\n",
      "12/12 [==============================] - 0s 9ms/step - loss: 0.6910 - accuracy: 0.5824\n",
      "12/12 [==============================] - 0s 9ms/step - loss: 0.6905 - accuracy: 0.5054\n",
      "12/12 [==============================] - 0s 8ms/step - loss: 0.6902 - accuracy: 0.5471\n",
      "12/12 [==============================] - 0s 8ms/step - loss: 0.6901 - accuracy: 0.5794\n",
      "12/12 [==============================] - 0s 8ms/step - loss: 0.6913 - accuracy: 0.6056\n",
      "12/12 [==============================] - 0s 35ms/step - loss: 0.5489 - accuracy: 0.7243\n",
      "12/12 [==============================] - 0s 34ms/step - loss: 0.5222 - accuracy: 0.7641\n",
      "12/12 [==============================] - 0s 35ms/step - loss: 0.5242 - accuracy: 0.7643\n",
      "12/12 [==============================] - 0s 35ms/step - loss: 0.5221 - accuracy: 0.7513\n",
      "12/12 [==============================] - 0s 38ms/step - loss: 0.5656 - accuracy: 0.7127\n",
      "94/94 [==============================] - 1s 5ms/step - loss: 0.5973 - accuracy: 0.7506\n",
      "94/94 [==============================] - 0s 5ms/step - loss: 0.5944 - accuracy: 0.7666\n",
      "94/94 [==============================] - 0s 5ms/step - loss: 0.5955 - accuracy: 0.6924\n",
      "94/94 [==============================] - 0s 5ms/step - loss: 0.5853 - accuracy: 0.7713\n",
      "94/94 [==============================] - 0s 4ms/step - loss: 0.5824 - accuracy: 0.7746\n",
      "94/94 [==============================] - 0s 5ms/step - loss: 0.4709 - accuracy: 0.8130\n",
      "94/94 [==============================] - 0s 5ms/step - loss: 0.4838 - accuracy: 0.8048\n",
      "94/94 [==============================] - 0s 5ms/step - loss: 0.4741 - accuracy: 0.8101\n",
      "94/94 [==============================] - 0s 5ms/step - loss: 0.4617 - accuracy: 0.8065\n",
      "94/94 [==============================] - 0s 5ms/step - loss: 0.4650 - accuracy: 0.7945\n",
      "94/94 [==============================] - 2s 21ms/step - loss: 0.4140 - accuracy: 0.8123\n",
      "94/94 [==============================] - 2s 21ms/step - loss: 0.4270 - accuracy: 0.8062\n",
      "94/94 [==============================] - 2s 21ms/step - loss: 0.4162 - accuracy: 0.8067\n",
      "94/94 [==============================] - 2s 21ms/step - loss: 0.4319 - accuracy: 0.8041\n",
      "94/94 [==============================] - 2s 21ms/step - loss: 0.4214 - accuracy: 0.8063\n",
      "94/94 [==============================] - 0s 3ms/step - loss: 0.6201 - accuracy: 0.6852\n",
      "94/94 [==============================] - 0s 3ms/step - loss: 0.6294 - accuracy: 0.6810\n",
      "94/94 [==============================] - 0s 3ms/step - loss: 0.6459 - accuracy: 0.6808\n",
      "94/94 [==============================] - 0s 3ms/step - loss: 0.6195 - accuracy: 0.6638\n",
      "94/94 [==============================] - 0s 3ms/step - loss: 0.6478 - accuracy: 0.6474\n",
      "94/94 [==============================] - 0s 3ms/step - loss: 0.5341 - accuracy: 0.7107\n",
      "94/94 [==============================] - 0s 5ms/step - loss: 0.5322 - accuracy: 0.7375\n",
      "94/94 [==============================] - 0s 4ms/step - loss: 0.5285 - accuracy: 0.7055\n",
      "94/94 [==============================] - 0s 3ms/step - loss: 0.5245 - accuracy: 0.7531\n",
      "94/94 [==============================] - 0s 4ms/step - loss: 0.5186 - accuracy: 0.7850\n",
      "94/94 [==============================] - 1s 15ms/step - loss: 0.3674 - accuracy: 0.8372\n",
      "94/94 [==============================] - 1s 15ms/step - loss: 0.3733 - accuracy: 0.8338\n",
      "94/94 [==============================] - 1s 15ms/step - loss: 0.3827 - accuracy: 0.8263\n",
      "94/94 [==============================] - 1s 15ms/step - loss: 0.3631 - accuracy: 0.8442\n",
      "94/94 [==============================] - 1s 15ms/step - loss: 0.3709 - accuracy: 0.8285\n",
      "94/94 [==============================] - 0s 4ms/step - loss: 0.5691 - accuracy: 0.7640\n",
      "94/94 [==============================] - 0s 4ms/step - loss: 0.6058 - accuracy: 0.7302\n",
      "94/94 [==============================] - 0s 4ms/step - loss: 0.5668 - accuracy: 0.7811\n",
      "94/94 [==============================] - 0s 4ms/step - loss: 0.5840 - accuracy: 0.7522\n",
      "94/94 [==============================] - 0s 4ms/step - loss: 0.5643 - accuracy: 0.7962\n",
      "94/94 [==============================] - 0s 5ms/step - loss: 0.4871 - accuracy: 0.7972\n",
      "94/94 [==============================] - 0s 5ms/step - loss: 0.5314 - accuracy: 0.7611\n",
      "94/94 [==============================] - 0s 5ms/step - loss: 0.4639 - accuracy: 0.7904\n",
      "94/94 [==============================] - 0s 5ms/step - loss: 0.4683 - accuracy: 0.7852\n",
      "94/94 [==============================] - 0s 5ms/step - loss: 0.4636 - accuracy: 0.7865\n",
      "94/94 [==============================] - 2s 21ms/step - loss: 0.4078 - accuracy: 0.8181\n",
      "94/94 [==============================] - 2s 21ms/step - loss: 0.4232 - accuracy: 0.8061\n",
      "94/94 [==============================] - 2s 21ms/step - loss: 0.4238 - accuracy: 0.8138\n",
      "94/94 [==============================] - 2s 21ms/step - loss: 0.4258 - accuracy: 0.8108\n",
      "94/94 [==============================] - 2s 23ms/step - loss: 0.4224 - accuracy: 0.8181\n",
      "94/94 [==============================] - 0s 4ms/step - loss: 0.6172 - accuracy: 0.7299\n",
      "94/94 [==============================] - 0s 3ms/step - loss: 0.6372 - accuracy: 0.6473\n",
      "94/94 [==============================] - 0s 3ms/step - loss: 0.6639 - accuracy: 0.6442\n",
      "94/94 [==============================] - 0s 4ms/step - loss: 0.6184 - accuracy: 0.7311\n",
      "94/94 [==============================] - 0s 4ms/step - loss: 0.6105 - accuracy: 0.7176\n",
      "94/94 [==============================] - 0s 4ms/step - loss: 0.5352 - accuracy: 0.7843\n",
      "94/94 [==============================] - 0s 4ms/step - loss: 0.5262 - accuracy: 0.7227\n",
      "94/94 [==============================] - 0s 4ms/step - loss: 0.5368 - accuracy: 0.7586\n",
      "94/94 [==============================] - 0s 4ms/step - loss: 0.5259 - accuracy: 0.7690\n",
      "94/94 [==============================] - 0s 4ms/step - loss: 0.5465 - accuracy: 0.7045\n",
      "94/94 [==============================] - 1s 14ms/step - loss: 0.3674 - accuracy: 0.8383\n",
      "94/94 [==============================] - 1s 14ms/step - loss: 0.3808 - accuracy: 0.8343\n",
      "94/94 [==============================] - 1s 15ms/step - loss: 0.3785 - accuracy: 0.8275\n",
      "94/94 [==============================] - 1s 15ms/step - loss: 0.3761 - accuracy: 0.8309\n",
      "94/94 [==============================] - 1s 14ms/step - loss: 0.3673 - accuracy: 0.8358\n",
      "94/94 [==============================] - 0s 4ms/step - loss: 0.5886 - accuracy: 0.7059\n",
      "94/94 [==============================] - 0s 4ms/step - loss: 0.5984 - accuracy: 0.7079\n",
      "94/94 [==============================] - 0s 4ms/step - loss: 0.5724 - accuracy: 0.7269\n",
      "94/94 [==============================] - 0s 4ms/step - loss: 0.6033 - accuracy: 0.7366\n",
      "94/94 [==============================] - 0s 4ms/step - loss: 0.5760 - accuracy: 0.7923\n",
      "94/94 [==============================] - 0s 5ms/step - loss: 0.4717 - accuracy: 0.8083\n",
      "94/94 [==============================] - 0s 4ms/step - loss: 0.4666 - accuracy: 0.7980\n",
      "94/94 [==============================] - 0s 4ms/step - loss: 0.4837 - accuracy: 0.8002\n",
      "94/94 [==============================] - 0s 4ms/step - loss: 0.4695 - accuracy: 0.7822\n",
      "94/94 [==============================] - 0s 5ms/step - loss: 0.4660 - accuracy: 0.8036\n",
      "94/94 [==============================] - 2s 21ms/step - loss: 0.4204 - accuracy: 0.8163\n",
      "94/94 [==============================] - 2s 21ms/step - loss: 0.4258 - accuracy: 0.8036\n",
      "94/94 [==============================] - 2s 21ms/step - loss: 0.4201 - accuracy: 0.8107\n",
      "94/94 [==============================] - 2s 21ms/step - loss: 0.4326 - accuracy: 0.8023\n",
      "94/94 [==============================] - 2s 21ms/step - loss: 0.4256 - accuracy: 0.8123\n",
      "94/94 [==============================] - 0s 3ms/step - loss: 0.6461 - accuracy: 0.7327\n",
      "94/94 [==============================] - 0s 3ms/step - loss: 0.6331 - accuracy: 0.6653\n",
      "94/94 [==============================] - 0s 3ms/step - loss: 0.6208 - accuracy: 0.7432\n",
      "94/94 [==============================] - 0s 3ms/step - loss: 0.6273 - accuracy: 0.6957\n",
      "94/94 [==============================] - 0s 3ms/step - loss: 0.6381 - accuracy: 0.6316\n",
      "94/94 [==============================] - 0s 3ms/step - loss: 0.5315 - accuracy: 0.7293\n",
      "94/94 [==============================] - 0s 3ms/step - loss: 0.5337 - accuracy: 0.7157\n",
      "94/94 [==============================] - 0s 4ms/step - loss: 0.5174 - accuracy: 0.7841\n",
      "94/94 [==============================] - 0s 3ms/step - loss: 0.5420 - accuracy: 0.6994\n",
      "94/94 [==============================] - 0s 3ms/step - loss: 0.5536 - accuracy: 0.6972\n",
      "94/94 [==============================] - 1s 15ms/step - loss: 0.3701 - accuracy: 0.8377\n",
      "94/94 [==============================] - 1s 15ms/step - loss: 0.3706 - accuracy: 0.8313\n",
      "94/94 [==============================] - 1s 15ms/step - loss: 0.3717 - accuracy: 0.8364\n",
      "94/94 [==============================] - 1s 15ms/step - loss: 0.3731 - accuracy: 0.8264\n",
      "94/94 [==============================] - 1s 16ms/step - loss: 0.3723 - accuracy: 0.8345\n",
      "24/24 [==============================] - 0s 7ms/step - loss: 0.6833 - accuracy: 0.7165\n",
      "24/24 [==============================] - 0s 6ms/step - loss: 0.6890 - accuracy: 0.6500\n",
      "24/24 [==============================] - 0s 6ms/step - loss: 0.6886 - accuracy: 0.6628\n",
      "24/24 [==============================] - 0s 6ms/step - loss: 0.6855 - accuracy: 0.6612\n",
      "24/24 [==============================] - 0s 6ms/step - loss: 0.6835 - accuracy: 0.6942\n",
      "24/24 [==============================] - 0s 7ms/step - loss: 0.6519 - accuracy: 0.7357\n",
      "24/24 [==============================] - 0s 7ms/step - loss: 0.6448 - accuracy: 0.7328\n",
      "24/24 [==============================] - 0s 7ms/step - loss: 0.6517 - accuracy: 0.7148\n",
      "24/24 [==============================] - 0s 7ms/step - loss: 0.6468 - accuracy: 0.7072\n",
      "24/24 [==============================] - 0s 7ms/step - loss: 0.6433 - accuracy: 0.7206\n",
      "24/24 [==============================] - 1s 31ms/step - loss: 0.5895 - accuracy: 0.7202\n",
      "24/24 [==============================] - 1s 32ms/step - loss: 0.5699 - accuracy: 0.7143\n",
      "24/24 [==============================] - 1s 32ms/step - loss: 0.5708 - accuracy: 0.7248\n",
      "24/24 [==============================] - 1s 33ms/step - loss: 0.5913 - accuracy: 0.7006\n",
      "24/24 [==============================] - 1s 32ms/step - loss: 0.5685 - accuracy: 0.7202\n",
      "24/24 [==============================] - 0s 6ms/step - loss: 0.6929 - accuracy: 0.5042\n",
      "24/24 [==============================] - 0s 6ms/step - loss: 0.6931 - accuracy: 0.4989\n",
      "24/24 [==============================] - 0s 6ms/step - loss: 0.6931 - accuracy: 0.5487\n",
      "24/24 [==============================] - 0s 6ms/step - loss: 0.6926 - accuracy: 0.6129\n",
      "24/24 [==============================] - 0s 6ms/step - loss: 0.6929 - accuracy: 0.5051\n",
      "24/24 [==============================] - 0s 7ms/step - loss: 0.6913 - accuracy: 0.5990\n",
      "24/24 [==============================] - 0s 6ms/step - loss: 0.6902 - accuracy: 0.5909\n",
      "24/24 [==============================] - 0s 6ms/step - loss: 0.6921 - accuracy: 0.5975\n",
      "24/24 [==============================] - 0s 6ms/step - loss: 0.6912 - accuracy: 0.5957\n",
      "24/24 [==============================] - 0s 6ms/step - loss: 0.6906 - accuracy: 0.6479\n",
      "24/24 [==============================] - 1s 25ms/step - loss: 0.4541 - accuracy: 0.7902\n",
      "24/24 [==============================] - 1s 25ms/step - loss: 0.4489 - accuracy: 0.7983\n",
      "24/24 [==============================] - 1s 25ms/step - loss: 0.4567 - accuracy: 0.7842\n",
      "24/24 [==============================] - 1s 25ms/step - loss: 0.4684 - accuracy: 0.7716\n",
      "24/24 [==============================] - 1s 25ms/step - loss: 0.4444 - accuracy: 0.7998\n",
      "24/24 [==============================] - 0s 6ms/step - loss: 0.6851 - accuracy: 0.7067\n",
      "24/24 [==============================] - 0s 7ms/step - loss: 0.6862 - accuracy: 0.6861\n",
      "24/24 [==============================] - 0s 7ms/step - loss: 0.6853 - accuracy: 0.6643\n",
      "24/24 [==============================] - 0s 6ms/step - loss: 0.6858 - accuracy: 0.6758\n",
      "24/24 [==============================] - 0s 6ms/step - loss: 0.6912 - accuracy: 0.6192\n",
      "24/24 [==============================] - 0s 8ms/step - loss: 0.6385 - accuracy: 0.7249\n",
      "24/24 [==============================] - 0s 8ms/step - loss: 0.6510 - accuracy: 0.7182\n",
      "24/24 [==============================] - 0s 7ms/step - loss: 0.6518 - accuracy: 0.7078\n",
      "24/24 [==============================] - 0s 7ms/step - loss: 0.6500 - accuracy: 0.6248\n",
      "24/24 [==============================] - 0s 7ms/step - loss: 0.6403 - accuracy: 0.7312\n",
      "24/24 [==============================] - 1s 32ms/step - loss: 0.5772 - accuracy: 0.7173\n",
      "24/24 [==============================] - 1s 32ms/step - loss: 0.6033 - accuracy: 0.7808\n",
      "24/24 [==============================] - 1s 31ms/step - loss: 0.5982 - accuracy: 0.7078\n",
      "24/24 [==============================] - 1s 31ms/step - loss: 0.5937 - accuracy: 0.6919\n",
      "24/24 [==============================] - 1s 32ms/step - loss: 0.6091 - accuracy: 0.7297\n",
      "24/24 [==============================] - 0s 6ms/step - loss: 0.6930 - accuracy: 0.5135\n",
      "24/24 [==============================] - 0s 5ms/step - loss: 0.6928 - accuracy: 0.5079\n",
      "24/24 [==============================] - 0s 5ms/step - loss: 0.6930 - accuracy: 0.5176\n",
      "24/24 [==============================] - 0s 5ms/step - loss: 0.6931 - accuracy: 0.4999\n",
      "24/24 [==============================] - 0s 5ms/step - loss: 0.6930 - accuracy: 0.5298\n",
      "24/24 [==============================] - 0s 6ms/step - loss: 0.6922 - accuracy: 0.5769\n",
      "24/24 [==============================] - 0s 6ms/step - loss: 0.6882 - accuracy: 0.5377\n",
      "24/24 [==============================] - 0s 6ms/step - loss: 0.6902 - accuracy: 0.5994\n",
      "24/24 [==============================] - 0s 6ms/step - loss: 0.6914 - accuracy: 0.6470\n",
      "24/24 [==============================] - 0s 6ms/step - loss: 0.6897 - accuracy: 0.5103\n",
      "24/24 [==============================] - 1s 26ms/step - loss: 0.4510 - accuracy: 0.7761\n",
      "24/24 [==============================] - 1s 25ms/step - loss: 0.4821 - accuracy: 0.7705\n",
      "24/24 [==============================] - 1s 25ms/step - loss: 0.4431 - accuracy: 0.7903\n",
      "24/24 [==============================] - 1s 25ms/step - loss: 0.4438 - accuracy: 0.7961\n",
      "24/24 [==============================] - 1s 26ms/step - loss: 0.4461 - accuracy: 0.7858\n",
      "24/24 [==============================] - 0s 6ms/step - loss: 0.6858 - accuracy: 0.7017\n",
      "24/24 [==============================] - 0s 6ms/step - loss: 0.6833 - accuracy: 0.6278\n",
      "24/24 [==============================] - 0s 7ms/step - loss: 0.6860 - accuracy: 0.6925\n",
      "24/24 [==============================] - 0s 7ms/step - loss: 0.6849 - accuracy: 0.5951\n",
      "24/24 [==============================] - 0s 7ms/step - loss: 0.6838 - accuracy: 0.5573\n",
      "24/24 [==============================] - 0s 8ms/step - loss: 0.6392 - accuracy: 0.7168\n",
      "24/24 [==============================] - 0s 8ms/step - loss: 0.6445 - accuracy: 0.7192\n",
      "24/24 [==============================] - 0s 8ms/step - loss: 0.6518 - accuracy: 0.6367\n",
      "24/24 [==============================] - 0s 7ms/step - loss: 0.6460 - accuracy: 0.7095\n",
      "24/24 [==============================] - 0s 7ms/step - loss: 0.6374 - accuracy: 0.6938\n",
      "24/24 [==============================] - 1s 31ms/step - loss: 0.5950 - accuracy: 0.7060\n",
      "24/24 [==============================] - 1s 32ms/step - loss: 0.6019 - accuracy: 0.6965\n",
      "24/24 [==============================] - 1s 31ms/step - loss: 0.5735 - accuracy: 0.7037\n",
      "24/24 [==============================] - 1s 31ms/step - loss: 0.6322 - accuracy: 0.7153\n",
      "24/24 [==============================] - 1s 31ms/step - loss: 0.5579 - accuracy: 0.7265\n",
      "24/24 [==============================] - 0s 5ms/step - loss: 0.6925 - accuracy: 0.5056\n",
      "24/24 [==============================] - 0s 5ms/step - loss: 0.6929 - accuracy: 0.5020\n",
      "24/24 [==============================] - 0s 5ms/step - loss: 0.6930 - accuracy: 0.5329\n",
      "24/24 [==============================] - 0s 6ms/step - loss: 0.6928 - accuracy: 0.5028\n",
      "24/24 [==============================] - 0s 6ms/step - loss: 0.6929 - accuracy: 0.5645\n",
      "24/24 [==============================] - 0s 6ms/step - loss: 0.6910 - accuracy: 0.6581\n",
      "24/24 [==============================] - 0s 6ms/step - loss: 0.6906 - accuracy: 0.5752\n",
      "24/24 [==============================] - 0s 6ms/step - loss: 0.6888 - accuracy: 0.5834\n",
      "24/24 [==============================] - 0s 6ms/step - loss: 0.6886 - accuracy: 0.6817\n",
      "24/24 [==============================] - 0s 6ms/step - loss: 0.6912 - accuracy: 0.5890\n",
      "24/24 [==============================] - 1s 25ms/step - loss: 0.4470 - accuracy: 0.7954\n",
      "24/24 [==============================] - 1s 25ms/step - loss: 0.4413 - accuracy: 0.8005\n",
      "24/24 [==============================] - 1s 26ms/step - loss: 0.4529 - accuracy: 0.7862\n",
      "24/24 [==============================] - 1s 25ms/step - loss: 0.4570 - accuracy: 0.7696\n",
      "24/24 [==============================] - 1s 25ms/step - loss: 0.4557 - accuracy: 0.7955\n",
      "12/12 [==============================] - 0s 8ms/step - loss: 0.6916 - accuracy: 0.5353\n",
      "12/12 [==============================] - 0s 8ms/step - loss: 0.6914 - accuracy: 0.5938\n",
      "12/12 [==============================] - 0s 8ms/step - loss: 0.6910 - accuracy: 0.5965\n",
      "12/12 [==============================] - 0s 8ms/step - loss: 0.6912 - accuracy: 0.6237\n",
      "12/12 [==============================] - 0s 8ms/step - loss: 0.6917 - accuracy: 0.5481\n",
      "12/12 [==============================] - 0s 10ms/step - loss: 0.6805 - accuracy: 0.5564\n",
      "12/12 [==============================] - 0s 9ms/step - loss: 0.6863 - accuracy: 0.6373\n",
      "12/12 [==============================] - 0s 9ms/step - loss: 0.6869 - accuracy: 0.6324\n",
      "12/12 [==============================] - 0s 9ms/step - loss: 0.6823 - accuracy: 0.6127\n",
      "12/12 [==============================] - 0s 9ms/step - loss: 0.6838 - accuracy: 0.6273\n",
      "12/12 [==============================] - 1s 43ms/step - loss: 0.7981 - accuracy: 0.6602\n",
      "12/12 [==============================] - 1s 42ms/step - loss: 0.6750 - accuracy: 0.6199\n",
      "12/12 [==============================] - 1s 42ms/step - loss: 0.7348 - accuracy: 0.6079\n",
      "12/12 [==============================] - 1s 42ms/step - loss: 0.6781 - accuracy: 0.6299\n",
      "12/12 [==============================] - 1s 42ms/step - loss: 0.7089 - accuracy: 0.6679\n",
      "12/12 [==============================] - 0s 7ms/step - loss: 0.6931 - accuracy: 0.4985\n",
      "12/12 [==============================] - 0s 7ms/step - loss: 0.6931 - accuracy: 0.5052\n",
      "12/12 [==============================] - 0s 7ms/step - loss: 0.6931 - accuracy: 0.5051\n",
      "12/12 [==============================] - 0s 7ms/step - loss: 0.6931 - accuracy: 0.5002\n",
      "12/12 [==============================] - 0s 7ms/step - loss: 0.6931 - accuracy: 0.4992\n",
      "12/12 [==============================] - 0s 8ms/step - loss: 0.6929 - accuracy: 0.5050\n",
      "12/12 [==============================] - 0s 8ms/step - loss: 0.6929 - accuracy: 0.5276\n",
      "12/12 [==============================] - 0s 8ms/step - loss: 0.6928 - accuracy: 0.5051\n",
      "12/12 [==============================] - 0s 9ms/step - loss: 0.6928 - accuracy: 0.5598\n",
      "12/12 [==============================] - 0s 8ms/step - loss: 0.6930 - accuracy: 0.5393\n",
      "12/12 [==============================] - 0s 38ms/step - loss: 0.5351 - accuracy: 0.7461\n",
      "12/12 [==============================] - 1s 42ms/step - loss: 0.5408 - accuracy: 0.7209\n",
      "12/12 [==============================] - 0s 41ms/step - loss: 0.5429 - accuracy: 0.7356\n",
      "12/12 [==============================] - 0s 40ms/step - loss: 0.5345 - accuracy: 0.7442\n",
      "12/12 [==============================] - 0s 37ms/step - loss: 0.5448 - accuracy: 0.7237\n",
      "12/12 [==============================] - 0s 9ms/step - loss: 0.6914 - accuracy: 0.6163\n",
      "12/12 [==============================] - 0s 8ms/step - loss: 0.6919 - accuracy: 0.5769\n",
      "12/12 [==============================] - 0s 8ms/step - loss: 0.6923 - accuracy: 0.5300\n",
      "12/12 [==============================] - 0s 8ms/step - loss: 0.6913 - accuracy: 0.5315\n",
      "12/12 [==============================] - 0s 8ms/step - loss: 0.6922 - accuracy: 0.6428\n",
      "12/12 [==============================] - 0s 41ms/step - loss: 0.6836 - accuracy: 0.5903\n",
      "12/12 [==============================] - 0s 9ms/step - loss: 0.6881 - accuracy: 0.6229\n",
      "12/12 [==============================] - 0s 10ms/step - loss: 0.6843 - accuracy: 0.6059\n",
      "12/12 [==============================] - 0s 10ms/step - loss: 0.6825 - accuracy: 0.5978\n",
      "12/12 [==============================] - 0s 10ms/step - loss: 0.6827 - accuracy: 0.6089\n",
      "12/12 [==============================] - 1s 46ms/step - loss: 0.6781 - accuracy: 0.6166\n",
      "12/12 [==============================] - 1s 42ms/step - loss: 0.6993 - accuracy: 0.6217\n",
      "12/12 [==============================] - 1s 44ms/step - loss: 0.6646 - accuracy: 0.6397\n",
      "12/12 [==============================] - 1s 42ms/step - loss: 0.6998 - accuracy: 0.6298\n",
      "12/12 [==============================] - 1s 44ms/step - loss: 0.7084 - accuracy: 0.7138\n",
      "12/12 [==============================] - 0s 7ms/step - loss: 0.6931 - accuracy: 0.5041\n",
      "12/12 [==============================] - 0s 7ms/step - loss: 0.6931 - accuracy: 0.4975\n",
      "12/12 [==============================] - 0s 7ms/step - loss: 0.6930 - accuracy: 0.5051\n",
      "12/12 [==============================] - 0s 7ms/step - loss: 0.6931 - accuracy: 0.4959\n",
      "12/12 [==============================] - 0s 7ms/step - loss: 0.6931 - accuracy: 0.5120\n",
      "12/12 [==============================] - 0s 8ms/step - loss: 0.6930 - accuracy: 0.5031\n",
      "12/12 [==============================] - 0s 9ms/step - loss: 0.6929 - accuracy: 0.5846\n",
      "12/12 [==============================] - 0s 9ms/step - loss: 0.6929 - accuracy: 0.5051\n",
      "12/12 [==============================] - 0s 9ms/step - loss: 0.6926 - accuracy: 0.5861\n",
      "12/12 [==============================] - 0s 9ms/step - loss: 0.6929 - accuracy: 0.5088\n",
      "12/12 [==============================] - 0s 38ms/step - loss: 0.5440 - accuracy: 0.7501\n",
      "12/12 [==============================] - 0s 39ms/step - loss: 0.5635 - accuracy: 0.7156\n",
      "12/12 [==============================] - 0s 38ms/step - loss: 0.5381 - accuracy: 0.7335\n",
      "12/12 [==============================] - 0s 39ms/step - loss: 0.5455 - accuracy: 0.7170\n",
      "12/12 [==============================] - 0s 40ms/step - loss: 0.5630 - accuracy: 0.7145\n",
      "12/12 [==============================] - 0s 9ms/step - loss: 0.6913 - accuracy: 0.6180\n",
      "12/12 [==============================] - 0s 9ms/step - loss: 0.6924 - accuracy: 0.5722\n",
      "12/12 [==============================] - 0s 9ms/step - loss: 0.6916 - accuracy: 0.6169\n",
      "12/12 [==============================] - 0s 8ms/step - loss: 0.6922 - accuracy: 0.5932\n",
      "12/12 [==============================] - 0s 8ms/step - loss: 0.6913 - accuracy: 0.6251\n",
      "12/12 [==============================] - 0s 9ms/step - loss: 0.6873 - accuracy: 0.6163\n",
      "12/12 [==============================] - 0s 9ms/step - loss: 0.6829 - accuracy: 0.6806\n",
      "12/12 [==============================] - 0s 9ms/step - loss: 0.6877 - accuracy: 0.6214\n",
      "12/12 [==============================] - 0s 10ms/step - loss: 0.6853 - accuracy: 0.6570\n",
      "12/12 [==============================] - 0s 9ms/step - loss: 0.6805 - accuracy: 0.5623\n",
      "12/12 [==============================] - 1s 43ms/step - loss: 0.6978 - accuracy: 0.6288\n",
      "12/12 [==============================] - 1s 43ms/step - loss: 0.7157 - accuracy: 0.6158\n",
      "12/12 [==============================] - 1s 42ms/step - loss: 0.6588 - accuracy: 0.6301\n",
      "12/12 [==============================] - 1s 43ms/step - loss: 0.7163 - accuracy: 0.6818\n",
      "12/12 [==============================] - 1s 43ms/step - loss: 0.7905 - accuracy: 0.6619\n",
      "12/12 [==============================] - 0s 7ms/step - loss: 0.6931 - accuracy: 0.4962\n",
      "12/12 [==============================] - 0s 7ms/step - loss: 0.6931 - accuracy: 0.5357\n",
      "12/12 [==============================] - 0s 7ms/step - loss: 0.6931 - accuracy: 0.5363\n",
      "12/12 [==============================] - 0s 7ms/step - loss: 0.6931 - accuracy: 0.4920\n",
      "12/12 [==============================] - 0s 8ms/step - loss: 0.6931 - accuracy: 0.4991\n",
      "12/12 [==============================] - 0s 9ms/step - loss: 0.6926 - accuracy: 0.5074\n",
      "12/12 [==============================] - 0s 9ms/step - loss: 0.6930 - accuracy: 0.5433\n",
      "12/12 [==============================] - 0s 8ms/step - loss: 0.6930 - accuracy: 0.5827\n",
      "12/12 [==============================] - 0s 9ms/step - loss: 0.6928 - accuracy: 0.5822\n",
      "12/12 [==============================] - 0s 9ms/step - loss: 0.6928 - accuracy: 0.5039\n",
      "12/12 [==============================] - 0s 37ms/step - loss: 0.5448 - accuracy: 0.7123\n",
      "12/12 [==============================] - 0s 37ms/step - loss: 0.5731 - accuracy: 0.7091\n",
      "12/12 [==============================] - 0s 38ms/step - loss: 0.5410 - accuracy: 0.7283\n",
      "12/12 [==============================] - 0s 38ms/step - loss: 0.5341 - accuracy: 0.7490\n",
      "12/12 [==============================] - 0s 37ms/step - loss: 0.5342 - accuracy: 0.7320\n",
      "118/118 [==============================] - 1s 11ms/step - loss: 0.3495 - accuracy: 0.8512\n"
     ]
    },
    {
     "data": {
      "text/plain": [
       "GridSearchCV(cv=5, error_score=nan,\n",
       "             estimator=<keras.wrappers.scikit_learn.KerasClassifier object at 0x7f00d679cf28>,\n",
       "             iid='deprecated', n_jobs=None,\n",
       "             param_grid={'No_of_dense_layer': [1, 2, 3],\n",
       "                         'batch_size': [128, 512, 1020], 'nb_epoch': [2, 4, 50],\n",
       "                         'optimizer': ['rmsprop', 'adam'],\n",
       "                         'output_units': [16, 32, 512]},\n",
       "             pre_dispatch='2*n_jobs', refit=True, return_train_score=False,\n",
       "             scoring='accuracy', verbose=0)"
      ]
     },
     "execution_count": 22,
     "metadata": {
      "tags": []
     },
     "output_type": "execute_result"
    }
   ],
   "source": [
    "grid.fit(train_data, train_label)"
   ]
  },
  {
   "cell_type": "code",
   "execution_count": 23,
   "metadata": {
    "colab": {
     "base_uri": "https://localhost:8080/",
     "height": 102
    },
    "colab_type": "code",
    "id": "gEf2N6ivjr1-",
    "outputId": "ed79d79e-0937-45fe-d899-3528b2ca4c21"
   },
   "outputs": [
    {
     "data": {
      "text/plain": [
       "{'No_of_dense_layer': 1,\n",
       " 'batch_size': 128,\n",
       " 'nb_epoch': 2,\n",
       " 'optimizer': 'adam',\n",
       " 'output_units': 512}"
      ]
     },
     "execution_count": 23,
     "metadata": {
      "tags": []
     },
     "output_type": "execute_result"
    }
   ],
   "source": [
    "grid.best_params_"
   ]
  },
  {
   "cell_type": "code",
   "execution_count": 24,
   "metadata": {
    "colab": {
     "base_uri": "https://localhost:8080/",
     "height": 34
    },
    "colab_type": "code",
    "id": "4f_wC8S0jr2G",
    "outputId": "ed6d8d2b-a045-4d84-c0f5-ce78914e71b2"
   },
   "outputs": [
    {
     "data": {
      "text/plain": [
       "0.8860666666666667"
      ]
     },
     "execution_count": 24,
     "metadata": {
      "tags": []
     },
     "output_type": "execute_result"
    }
   ],
   "source": [
    "grid.best_score_"
   ]
  },
  {
   "cell_type": "code",
   "execution_count": null,
   "metadata": {
    "colab": {},
    "colab_type": "code",
    "id": "a39DmJmluaSN"
   },
   "outputs": [],
   "source": [
    "### Now fit a new model on returned parameters."
   ]
  },
  {
   "cell_type": "code",
   "execution_count": 25,
   "metadata": {
    "colab": {
     "base_uri": "https://localhost:8080/",
     "height": 655
    },
    "colab_type": "code",
    "id": "RzSQrJx5uwTa",
    "outputId": "3a5c0c91-45ad-4b1e-d025-5dabd1715869"
   },
   "outputs": [
    {
     "name": "stdout",
     "output_type": "stream",
     "text": [
      "Epoch 1/2\n",
      "118/118 [==============================] - 4s 33ms/step - loss: 0.3499 - accuracy: 0.8574 - val_loss: 0.2815 - val_accuracy: 0.8880\n",
      "Epoch 2/2\n",
      "118/118 [==============================] - 2s 16ms/step - loss: 0.1300 - accuracy: 0.9554 - val_loss: 0.3051 - val_accuracy: 0.8893\n"
     ]
    },
    {
     "data": {
      "image/png": "[encoded data removed]",
      "text/plain": [
       "<Figure size 432x288 with 1 Axes>"
      ]
     },
     "metadata": {
      "tags": []
     },
     "output_type": "display_data"
    },
    {
     "data": {
      "image/png": "[encoded data removed]",
      "text/plain": [
       "<Figure size 432x288 with 1 Axes>"
      ]
     },
     "metadata": {
      "tags": []
     },
     "output_type": "display_data"
    }
   ],
   "source": [
    "model = Sequential()\n",
    "\n",
    "model.add(layers.Dense(units=512, activation='relu', input_dim=15000, kernel_initializer='uniform'))\n",
    "# model.add(layers.Dense(units=512, activation='relu', input_dim=15000, kernel_initializer='uniform'))\n",
    "\n",
    "model.add(layers.Dense(units=1, activation='sigmoid', kernel_initializer='uniform'))\n",
    "\n",
    "model.compile(optimizer='adam', loss='binary_crossentropy', metrics=['accuracy'])\n",
    "\n",
    "trained_model = model.fit(x=train_data,\n",
    "                          y=train_label,\n",
    "                        batch_size = 128,\n",
    "                         epochs=2,\n",
    "                         validation_data=(val_data,val_label))\n",
    "\n",
    "\n",
    "history_dict = trained_model.history\n",
    "\n",
    "traing_accuracy = history_dict['accuracy']\n",
    "validation_accuracy = history_dict['val_accuracy']\n",
    "\n",
    "traing_loss = history_dict['loss']\n",
    "validation_loss = history_dict['val_loss']\n",
    "\n",
    "epoch = [i for i in range(1,len(traing_accuracy)+1)]\n",
    "plt.plot(epoch, traing_accuracy, label = 'Training Accuracy')\n",
    "plt.plot(epoch, validation_accuracy,\"r\", label = 'validation Accuracy')\n",
    "plt.xlabel('Epoch', fontsize=15)\n",
    "plt.ylabel(\"Accuracy\", fontsize=15)\n",
    "plt.title(\"Training and Validation Accuracy\", fontsize=15)\n",
    "plt.legend()\n",
    "plt.grid()\n",
    "plt.show()\n",
    "\n",
    "plt.plot(epoch, traing_loss, label = 'Training loss')\n",
    "plt.plot(epoch, validation_loss,\"r\", label = 'validation loss')\n",
    "plt.xlabel('Epoch', fontsize=15)\n",
    "plt.ylabel(\"Loss\", fontsize=15)\n",
    "plt.title(\"Training and Validation loss\", fontsize=15)\n",
    "plt.grid()\n",
    "plt.legend()\n",
    "plt.show()"
   ]
  },
  {
   "cell_type": "code",
   "execution_count": 26,
   "metadata": {
    "colab": {
     "base_uri": "https://localhost:8080/",
     "height": 51
    },
    "colab_type": "code",
    "id": "MP8vytoAW9__",
    "outputId": "2ebabc54-c724-4c65-f8ec-cd65fca28fa2"
   },
   "outputs": [
    {
     "name": "stdout",
     "output_type": "stream",
     "text": [
      "782/782 [==============================] - 2s 3ms/step - loss: 0.3329 - accuracy: 0.8729\n"
     ]
    },
    {
     "data": {
      "text/plain": [
       "[0.3329196572303772, 0.8728799819946289]"
      ]
     },
     "execution_count": 26,
     "metadata": {
      "tags": []
     },
     "output_type": "execute_result"
    }
   ],
   "source": [
    "x_test_vector = vectorizer(x_test, dimension=15000)\n",
    "model.evaluate(x_test_vector, y_test, )"
   ]
  },
  {
   "cell_type": "code",
   "execution_count": null,
   "metadata": {
    "colab": {},
    "colab_type": "code",
    "id": "yBdlhEw6Zmr5"
   },
   "outputs": [],
   "source": [
    "y_pred = model.predict(x_test_vector)"
   ]
  },
  {
   "cell_type": "code",
   "execution_count": 28,
   "metadata": {
    "colab": {
     "base_uri": "https://localhost:8080/",
     "height": 34
    },
    "colab_type": "code",
    "id": "sVi5miROg9nT",
    "outputId": "b66e4581-48ef-42dd-a516-9ad201ac4b80"
   },
   "outputs": [
    {
     "data": {
      "text/plain": [
       "25000"
      ]
     },
     "execution_count": 28,
     "metadata": {
      "tags": []
     },
     "output_type": "execute_result"
    }
   ],
   "source": [
    "len(y_pred)"
   ]
  },
  {
   "cell_type": "code",
   "execution_count": null,
   "metadata": {
    "colab": {},
    "colab_type": "code",
    "id": "qLqtviFAgO8v"
   },
   "outputs": [],
   "source": [
    "y_pred = [1 if i[0] > 0.5 else 0 for i in  y_pred  ]"
   ]
  },
  {
   "cell_type": "code",
   "execution_count": null,
   "metadata": {
    "colab": {},
    "colab_type": "code",
    "id": "b-F7JB7Zaa4c"
   },
   "outputs": [],
   "source": [
    "# y_pred =(y_pred > 0.5)"
   ]
  },
  {
   "cell_type": "code",
   "execution_count": null,
   "metadata": {
    "colab": {},
    "colab_type": "code",
    "id": "XPHWRJwEaot0"
   },
   "outputs": [],
   "source": [
    "from sklearn.metrics import accuracy_score, confusion_matrix"
   ]
  },
  {
   "cell_type": "code",
   "execution_count": 32,
   "metadata": {
    "colab": {
     "base_uri": "https://localhost:8080/",
     "height": 34
    },
    "colab_type": "code",
    "id": "FfJgy8r1a4Xb",
    "outputId": "8c878ff5-b254-4b88-aeb2-8b4bcbb1cf77"
   },
   "outputs": [
    {
     "data": {
      "text/plain": [
       "0.87288"
      ]
     },
     "execution_count": 32,
     "metadata": {
      "tags": []
     },
     "output_type": "execute_result"
    }
   ],
   "source": [
    "accuracy_score(y_test, y_pred)"
   ]
  },
  {
   "cell_type": "code",
   "execution_count": null,
   "metadata": {
    "colab": {},
    "colab_type": "code",
    "id": "WQV1FTMea97I"
   },
   "outputs": [],
   "source": [
    "cm = confusion_matrix(y_test, y_pred)"
   ]
  },
  {
   "cell_type": "code",
   "execution_count": 34,
   "metadata": {
    "colab": {
     "base_uri": "https://localhost:8080/",
     "height": 336
    },
    "colab_type": "code",
    "id": "tU51cLpbcAG0",
    "outputId": "73049e97-b016-4353-c455-b51bea783b14"
   },
   "outputs": [
    {
     "name": "stderr",
     "output_type": "stream",
     "text": [
      "/usr/local/lib/python3.6/dist-packages/statsmodels/tools/_testing.py:19: FutureWarning: pandas.util.testing is deprecated. Use the functions in the public API at pandas.testing instead.\n",
      "  import pandas.util.testing as tm\n"
     ]
    },
    {
     "data": {
      "text/plain": [
       "<matplotlib.axes._subplots.AxesSubplot at 0x7f007bf05dd8>"
      ]
     },
     "execution_count": 34,
     "metadata": {
      "tags": []
     },
     "output_type": "execute_result"
    },
    {
     "data": {
      "image/png": "[encoded data removed]",
      "text/plain": [
       "<Figure size 432x288 with 2 Axes>"
      ]
     },
     "metadata": {
      "tags": []
     },
     "output_type": "display_data"
    }
   ],
   "source": [
    "import seaborn as sns\n",
    "\n",
    "sns.heatmap(cm, annot=True, fmt=\"\")"
   ]
  },
  {
   "cell_type": "code",
   "execution_count": null,
   "metadata": {
    "colab": {},
    "colab_type": "code",
    "id": "wTavIBHqiGwR"
   },
   "outputs": [],
   "source": []
  }
 ],
 "metadata": {
  "accelerator": "TPU",
  "colab": {
   "collapsed_sections": [],
   "machine_shape": "hm",
   "name": "ImDB_dataset.ipynb",
   "provenance": []
  },
  "kernelspec": {
   "display_name": "Python 3",
   "language": "python",
   "name": "python3"
  },
  "language_info": {
   "codemirror_mode": {
    "name": "ipython",
    "version": 3
   },
   "file_extension": ".py",
   "mimetype": "text/x-python",
   "name": "python",
   "nbconvert_exporter": "python",
   "pygments_lexer": "ipython3",
   "version": "3.7.3"
  }
 },
 "nbformat": 4,
 "nbformat_minor": 4
}
