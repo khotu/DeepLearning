{
  "nbformat": 4,
  "nbformat_minor": 0,
  "metadata": {
    "kernelspec": {
      "display_name": "Python 3",
      "language": "python",
      "name": "python3"
    },
    "language_info": {
      "codemirror_mode": {
        "name": "ipython",
        "version": 3
      },
      "file_extension": ".py",
      "mimetype": "text/x-python",
      "name": "python",
      "nbconvert_exporter": "python",
      "pygments_lexer": "ipython3",
      "version": "3.7.3"
    },
    "colab": {
      "name": "cifer10.ipynb",
      "provenance": [],
      "collapsed_sections": [],
      "include_colab_link": true
    },
    "accelerator": "TPU"
  },
  "cells": [
    {
      "cell_type": "markdown",
      "metadata": {
        "id": "view-in-github",
        "colab_type": "text"
      },
      "source": [
        "<a href=\"https://colab.research.google.com/github/khotu/DeepLearning/blob/master/cifer10.ipynb\" target=\"_parent\"><img src=\"https://colab.research.google.com/assets/colab-badge.svg\" alt=\"Open In Colab\"/></a>"
      ]
    },
    {
      "cell_type": "code",
      "metadata": {
        "id": "8_vsk5tnXz49",
        "colab_type": "code",
        "colab": {
          "base_uri": "https://localhost:8080/",
          "height": 34
        },
        "outputId": "0dda6366-4a75-47a1-9357-8355fc87c2ed"
      },
      "source": [
        "from keras.datasets import cifar10\n",
        "import numpy as np\n",
        "from keras.utils import to_categorical, plot_model\n",
        "from keras.preprocessing.image import ImageDataGenerator\n",
        "from keras.models import Sequential\n",
        "from keras import layers\n",
        "from keras import regularizers\n",
        "from keras import optimizers\n",
        "from keras import callbacks\n",
        "import matplotlib.pyplot as plt"
      ],
      "execution_count": 3,
      "outputs": [
        {
          "output_type": "stream",
          "text": [
            "Using TensorFlow backend.\n"
          ],
          "name": "stderr"
        }
      ]
    },
    {
      "cell_type": "code",
      "metadata": {
        "id": "-H-0bDsPdgHH",
        "colab_type": "code",
        "colab": {
          "base_uri": "https://localhost:8080/",
          "height": 122
        },
        "outputId": "46c808e7-de7a-47cd-ad49-79fdad40c91a"
      },
      "source": [
        "  # Load the Drive helper and mount\n",
        "from google.colab import drive\n",
        "drive.mount('/content/drive')"
      ],
      "execution_count": 4,
      "outputs": [
        {
          "output_type": "stream",
          "text": [
            "Go to this URL in a browser: https://accounts.google.com/o/oauth2/auth?client_id=947318989803-6bn6qk8qdgf4n4g3pfee6491hc0brc4i.apps.googleusercontent.com&redirect_uri=urn%3aietf%3awg%3aoauth%3a2.0%3aoob&response_type=code&scope=email%20https%3a%2f%2fwww.googleapis.com%2fauth%2fdocs.test%20https%3a%2f%2fwww.googleapis.com%2fauth%2fdrive%20https%3a%2f%2fwww.googleapis.com%2fauth%2fdrive.photos.readonly%20https%3a%2f%2fwww.googleapis.com%2fauth%2fpeopleapi.readonly\n",
            "\n",
            "Enter your authorization code:\n",
            "··········\n",
            "Mounted at /content/drive\n"
          ],
          "name": "stdout"
        }
      ]
    },
    {
      "cell_type": "code",
      "metadata": {
        "id": "Lyi9LReDXz5M",
        "colab_type": "code",
        "colab": {
          "base_uri": "https://localhost:8080/",
          "height": 51
        },
        "outputId": "3c288c25-cbc2-4d0c-c4b7-60ab77b01f3a"
      },
      "source": [
        "## load the data set\n",
        "(x_train, y_train), (x_test, y_test) = cifar10.load_data()"
      ],
      "execution_count": 5,
      "outputs": [
        {
          "output_type": "stream",
          "text": [
            "Downloading data from https://www.cs.toronto.edu/~kriz/cifar-10-python.tar.gz\n",
            "170500096/170498071 [==============================] - 2s 0us/step\n"
          ],
          "name": "stdout"
        }
      ]
    },
    {
      "cell_type": "code",
      "metadata": {
        "id": "jhxwsflrXz5W",
        "colab_type": "code",
        "colab": {
          "base_uri": "https://localhost:8080/",
          "height": 85
        },
        "outputId": "29903aca-d42e-4ced-a30e-40f823dd3334"
      },
      "source": [
        "print(x_train.shape)\n",
        "print(y_train.shape)\n",
        "\n",
        "print(x_test.shape)\n",
        "print(y_test.shape)"
      ],
      "execution_count": 6,
      "outputs": [
        {
          "output_type": "stream",
          "text": [
            "(50000, 32, 32, 3)\n",
            "(50000, 1)\n",
            "(10000, 32, 32, 3)\n",
            "(10000, 1)\n"
          ],
          "name": "stdout"
        }
      ]
    },
    {
      "cell_type": "code",
      "metadata": {
        "id": "UtHe6B_OXz5i",
        "colab_type": "code",
        "colab": {}
      },
      "source": [
        "## split into training and validation data\n",
        "\n",
        "train_data = x_train[:45000]\n",
        "val_data = x_train[45000:]\n",
        "\n",
        "train_label = y_train[:45000]\n",
        "val_label = y_train[45000:]"
      ],
      "execution_count": 0,
      "outputs": []
    },
    {
      "cell_type": "code",
      "metadata": {
        "id": "bxCQ0mLdXz5t",
        "colab_type": "code",
        "colab": {}
      },
      "source": [
        "### Normalising data\n",
        "\n",
        "mean = np.mean(train_data, axis = (0,1,2,3))\n",
        "std = np.std(train_data, axis=(0,1,2,3))\n",
        "\n",
        "train_data = (train_data-mean)/std\n",
        "val_data = (val_data-mean)/std\n",
        "x_test = (x_test-mean)/std\n"
      ],
      "execution_count": 0,
      "outputs": []
    },
    {
      "cell_type": "code",
      "metadata": {
        "id": "Ng6jNENPXz53",
        "colab_type": "code",
        "colab": {}
      },
      "source": [
        "## one hot encoding of each class\n",
        "train_label = to_categorical(train_label)\n",
        "val_label = to_categorical(val_label)\n",
        "y_test = to_categorical(y_test)"
      ],
      "execution_count": 0,
      "outputs": []
    },
    {
      "cell_type": "code",
      "metadata": {
        "id": "4Tv3w03hXz5_",
        "colab_type": "code",
        "colab": {}
      },
      "source": [
        "## Data Augmentation \n",
        "\n",
        "train_datagen = ImageDataGenerator(\n",
        "        rescale=1./255,\n",
        "        rotation_range=40, \n",
        "        width_shift_range=0.2,\n",
        "        height_shift_range=0.2, \n",
        "        shear_range = 0.2, \n",
        "        zoom_range = 0.2, \n",
        "        horizontal_flip= True)\n",
        "\n",
        "test_datagen = ImageDataGenerator(rescale=1./255)"
      ],
      "execution_count": 0,
      "outputs": []
    },
    {
      "cell_type": "code",
      "metadata": {
        "id": "MMjv6shkXz6L",
        "colab_type": "code",
        "colab": {}
      },
      "source": [
        "batch_size  = 128\n",
        "train =  train_datagen.flow(x=train_data, \n",
        "                           y=train_label,\n",
        "                           batch_size=batch_size, )\n",
        "\n",
        "val = test_datagen.flow(val_data, val_label, batch_size=batch_size)\n",
        "\n",
        "test = test_datagen.flow(x_test, y_test, batch_size=batch_size)"
      ],
      "execution_count": 0,
      "outputs": []
    },
    {
      "cell_type": "markdown",
      "metadata": {
        "id": "Pthkc_9AXz6T",
        "colab_type": "raw"
      },
      "source": [
        ""
      ]
    },
    {
      "cell_type": "code",
      "metadata": {
        "id": "i51kevHcXz6U",
        "colab_type": "code",
        "colab": {
          "base_uri": "https://localhost:8080/",
          "height": 850
        },
        "outputId": "ae9b2fde-dd53-452c-eda1-b2564e454d43"
      },
      "source": [
        "## Baseline model.\n",
        "\n",
        "model = Sequential()\n",
        "## Conv1 \n",
        "model.add(layers.Conv2D(filters=32,\n",
        "                       kernel_size=3,\n",
        "                        padding=\"SAME\", \n",
        "                        activation='relu',\n",
        "                        kernel_regularizer = regularizers.l2(1e-4),\n",
        "                       input_shape = train_data.shape[1:]))\n",
        "## Add BatchNormalization layer.\n",
        "model.add(layers.BatchNormalization())\n",
        "## Conv2\n",
        "model.add(layers.Conv2D(filters=32,\n",
        "                       kernel_size=3,\n",
        "                        padding=\"SAME\", \n",
        "                        activation='relu',\n",
        "                        kernel_regularizer = regularizers.l2(1e-4)))\n",
        "## Add BatchNormalization layer.\n",
        "model.add(layers.BatchNormalization())\n",
        "## Add pool layer.\n",
        "model.add(layers.MaxPool2D(pool_size=(2, 2)))\n",
        "## Add DropOut layer.\n",
        "model.add(layers.Dropout(0.2))\n",
        "\n",
        "\n",
        "## Conv3\n",
        "model.add(layers.Conv2D(filters=64,\n",
        "                       kernel_size=3,\n",
        "                        padding=\"SAME\", \n",
        "                        activation='relu',\n",
        "                        kernel_regularizer = regularizers.l2(1e-4)))\n",
        "## Add BatchNormalization layer.\n",
        "model.add(layers.BatchNormalization())\n",
        "##Conv4\n",
        "model.add(layers.Conv2D(filters=64,\n",
        "                       kernel_size=3,\n",
        "                        padding=\"SAME\", \n",
        "                        activation='relu',\n",
        "                        kernel_regularizer = regularizers.l2(1e-4)))\n",
        "## Add BatchNormalization layer.\n",
        "model.add(layers.BatchNormalization())\n",
        "## Add pool layer.\n",
        "model.add(layers.MaxPool2D(pool_size=(2, 2)))\n",
        "## Add DropOut layer.\n",
        "model.add(layers.Dropout(0.3))\n",
        "\n",
        "## Conv5\n",
        "model.add(layers.Conv2D(filters=128,\n",
        "                       kernel_size=3,\n",
        "                        padding=\"SAME\", \n",
        "                        activation='relu',\n",
        "                        kernel_regularizer = regularizers.l2(1e-4)))\n",
        "## Add BatchNormalization layer.\n",
        "model.add(layers.BatchNormalization())\n",
        "##Conv6\n",
        "model.add(layers.Conv2D(filters=128,\n",
        "                       kernel_size=3,\n",
        "                        padding=\"SAME\", \n",
        "                        activation='relu',\n",
        "                        kernel_regularizer = regularizers.l2(1e-4)))\n",
        "## Add BatchNormalization layer.\n",
        "model.add(layers.BatchNormalization())\n",
        "## Add pool layer.\n",
        "model.add(layers.MaxPool2D(pool_size=(2, 2)))\n",
        "## Add DropOut layer.\n",
        "model.add(layers.Dropout(0.4))\n",
        "\n",
        "\n",
        "## Fully connected layer.\n",
        "model.add(layers.Flatten())\n",
        "model.add(layers.Dense(units=10, activation='softmax', ))\n",
        "\n",
        "## print model summary.\n",
        "model.summary()\n",
        "plot_model(model,show_shapes=True,rankdir='LR' )"
      ],
      "execution_count": 37,
      "outputs": [
        {
          "output_type": "stream",
          "text": [
            "Model: \"sequential_7\"\n",
            "_________________________________________________________________\n",
            "Layer (type)                 Output Shape              Param #   \n",
            "=================================================================\n",
            "conv2d_30 (Conv2D)           (None, 32, 32, 32)        896       \n",
            "_________________________________________________________________\n",
            "batch_normalization_29 (Batc (None, 32, 32, 32)        128       \n",
            "_________________________________________________________________\n",
            "conv2d_31 (Conv2D)           (None, 32, 32, 32)        9248      \n",
            "_________________________________________________________________\n",
            "batch_normalization_30 (Batc (None, 32, 32, 32)        128       \n",
            "_________________________________________________________________\n",
            "max_pooling2d_15 (MaxPooling (None, 16, 16, 32)        0         \n",
            "_________________________________________________________________\n",
            "dropout_15 (Dropout)         (None, 16, 16, 32)        0         \n",
            "_________________________________________________________________\n",
            "conv2d_32 (Conv2D)           (None, 16, 16, 64)        18496     \n",
            "_________________________________________________________________\n",
            "batch_normalization_31 (Batc (None, 16, 16, 64)        256       \n",
            "_________________________________________________________________\n",
            "conv2d_33 (Conv2D)           (None, 16, 16, 64)        36928     \n",
            "_________________________________________________________________\n",
            "batch_normalization_32 (Batc (None, 16, 16, 64)        256       \n",
            "_________________________________________________________________\n",
            "max_pooling2d_16 (MaxPooling (None, 8, 8, 64)          0         \n",
            "_________________________________________________________________\n",
            "dropout_16 (Dropout)         (None, 8, 8, 64)          0         \n",
            "_________________________________________________________________\n",
            "conv2d_34 (Conv2D)           (None, 8, 8, 128)         73856     \n",
            "_________________________________________________________________\n",
            "batch_normalization_33 (Batc (None, 8, 8, 128)         512       \n",
            "_________________________________________________________________\n",
            "conv2d_35 (Conv2D)           (None, 8, 8, 128)         147584    \n",
            "_________________________________________________________________\n",
            "batch_normalization_34 (Batc (None, 8, 8, 128)         512       \n",
            "_________________________________________________________________\n",
            "max_pooling2d_17 (MaxPooling (None, 4, 4, 128)         0         \n",
            "_________________________________________________________________\n",
            "dropout_17 (Dropout)         (None, 4, 4, 128)         0         \n",
            "_________________________________________________________________\n",
            "flatten_7 (Flatten)          (None, 2048)              0         \n",
            "_________________________________________________________________\n",
            "dense_7 (Dense)              (None, 10)                20490     \n",
            "=================================================================\n",
            "Total params: 309,290\n",
            "Trainable params: 308,394\n",
            "Non-trainable params: 896\n",
            "_________________________________________________________________\n"
          ],
          "name": "stdout"
        },
        {
          "output_type": "execute_result",
          "data": {
            "image/png": "[encoded data removed]",
            "text/plain": [
              "<IPython.core.display.Image object>"
            ]
          },
          "metadata": {
            "tags": []
          },
          "execution_count": 37
        }
      ]
    },
    {
      "cell_type": "code",
      "metadata": {
        "id": "rn9jV44xXz6d",
        "colab_type": "code",
        "colab": {}
      },
      "source": [
        "## Save model's parameters \n",
        "checkpoint = callbacks.ModelCheckpoint(filepath= \"/content/drive/My Drive/model.cifer10.hdf5\", \n",
        "                                      monitor='val_loss', \n",
        "                                      save_best_only=True, \n",
        "                                      period=1)\n",
        "\n",
        "## Define optimizer\n",
        "optimizer = optimizers.adam(learning_rate=0.0001, decay = 1e-5,)\n",
        "\n",
        "## Compile the model\n",
        "model.compile(optimizer=optimizer, loss=\"categorical_crossentropy\", metrics=['accuracy'])\n",
        "\n",
        "## Fit the model\n",
        "history =  model.fit_generator(generator=train, \n",
        "                    steps_per_epoch= train_data.shape[0]//batch_size, \n",
        "                    epochs=100,\n",
        "                    callbacks=[checkpoint],\n",
        "                    validation_data=val,)"
      ],
      "execution_count": 0,
      "outputs": []
    },
    {
      "cell_type": "code",
      "metadata": {
        "id": "ZtBt5JBPXz6n",
        "colab_type": "code",
        "colab": {}
      },
      "source": [
        "Accuracy = history['acc']\n",
        "Val_accuracy = history['val_acc']\n",
        "\n",
        "plt.plot(range(len(Accuracy)), Accuracy, label= \"Training Accuracy\")\n",
        "plt.plot(range(len(Accuracy)), Val_accuracy, label= \"Validation Accuracy\")\n",
        "plt.title(\"Accuracies Graph\")\n",
        "plt.legend()\n",
        "plt.show()"
      ],
      "execution_count": 0,
      "outputs": []
    },
    {
      "cell_type": "code",
      "metadata": {
        "id": "gnCTlX_f2Vxn",
        "colab_type": "code",
        "colab": {}
      },
      "source": [
        "Loss = history['loss']\n",
        "Val_loss = history['val_loss']\n",
        "\n",
        "plt.plot(range(len(Loss)), Loss, label= \"Training Loss\")\n",
        "plt.plot(range(len(Loss)), Val_loss, label= \"Validation Loss\")\n",
        "plt.title(\"Loss Graph\")\n",
        "plt.legend()\n",
        "plt.show()"
      ],
      "execution_count": 0,
      "outputs": []
    },
    {
      "cell_type": "code",
      "metadata": {
        "id": "wOiH3iNrEuES",
        "colab_type": "code",
        "colab": {}
      },
      "source": [
        ""
      ],
      "execution_count": 0,
      "outputs": []
    }
  ]
}