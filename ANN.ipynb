{
  "nbformat": 4,
  "nbformat_minor": 0,
  "metadata": {
    "kernelspec": {
      "display_name": "Python 3",
      "language": "python",
      "name": "python3"
    },
    "language_info": {
      "codemirror_mode": {
        "name": "ipython",
        "version": 3
      },
      "file_extension": ".py",
      "mimetype": "text/x-python",
      "name": "python",
      "nbconvert_exporter": "python",
      "pygments_lexer": "ipython3",
      "version": "3.7.3"
    },
    "colab": {
      "name": "ANN.ipynb",
      "provenance": [],
      "collapsed_sections": [],
      "include_colab_link": true
    }
  },
  "cells": [
    {
      "cell_type": "markdown",
      "metadata": {
        "id": "view-in-github",
        "colab_type": "text"
      },
      "source": [
        "<a href=\"https://colab.research.google.com/github/khotu/DeepLearning/blob/master/ANN.ipynb\" target=\"_parent\"><img src=\"https://colab.research.google.com/assets/colab-badge.svg\" alt=\"Open In Colab\"/></a>"
      ]
    },
    {
      "cell_type": "code",
      "metadata": {
        "id": "k6NzUovVk_dz",
        "colab_type": "code",
        "colab": {}
      },
      "source": [
        "import pandas as pd\n",
        "import keras\n",
        "from sklearn.model_selection import train_test_split\n",
        "from sklearn.pipeline import make_pipeline, Pipeline\n",
        "from sklearn.preprocessing import StandardScaler\n",
        "import io\n",
        "import warnings\n",
        "warnings.filterwarnings(action='ignore')"
      ],
      "execution_count": 0,
      "outputs": []
    },
    {
      "cell_type": "code",
      "metadata": {
        "id": "C426if63lGVj",
        "colab_type": "code",
        "colab": {
          "resources": {
            "http://localhost:8080/nbextensions/google.colab/files.js": {
              "data": "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",
              "ok": true,
              "headers": [
                [
                  "content-type",
                  "application/javascript"
                ]
              ],
              "status": 200,
              "status_text": ""
            }
          },
          "base_uri": "https://localhost:8080/",
          "height": 40
        },
        "outputId": "a4e60661-b894-4cfb-a90f-70828bf315cb"
      },
      "source": [
        "from google.colab import files\n",
        "\n",
        "uploaded = files.upload()\n",
        "\n",
        "for fn in uploaded.keys():\n",
        "  print('User uploaded file \"{name}\" with length {length} bytes'.format(\n",
        "      name=fn, length=len(uploaded[fn])))"
      ],
      "execution_count": 69,
      "outputs": [
        {
          "output_type": "display_data",
          "data": {
            "text/html": [
              "\n",
              "     <input type=\"file\" id=\"files-0720fefe-11ff-4cd6-9f66-765bd4d9fc59\" name=\"files[]\" multiple disabled />\n",
              "     <output id=\"result-0720fefe-11ff-4cd6-9f66-765bd4d9fc59\">\n",
              "      Upload widget is only available when the cell has been executed in the\n",
              "      current browser session. Please rerun this cell to enable.\n",
              "      </output>\n",
              "      <script src=\"/nbextensions/google.colab/files.js\"></script> "
            ],
            "text/plain": [
              "<IPython.core.display.HTML object>"
            ]
          },
          "metadata": {
            "tags": []
          }
        }
      ]
    },
    {
      "cell_type": "code",
      "metadata": {
        "id": "dcng6TH1lHFM",
        "colab_type": "code",
        "colab": {
          "base_uri": "https://localhost:8080/",
          "height": 163
        },
        "outputId": "5d08a373-9ea9-4211-b223-38b3dafa4cce"
      },
      "source": [
        "df = pd.read_csv(io.StringIO(uploaded['Churn_Modelling.csv'].decode('utf-8')))"
      ],
      "execution_count": 70,
      "outputs": [
        {
          "output_type": "error",
          "ename": "KeyError",
          "evalue": "ignored",
          "traceback": [
            "\u001b[0;31m---------------------------------------------------------------------------\u001b[0m",
            "\u001b[0;31mKeyError\u001b[0m                                  Traceback (most recent call last)",
            "\u001b[0;32m<ipython-input-70-8891ba6dd831>\u001b[0m in \u001b[0;36m<module>\u001b[0;34m()\u001b[0m\n\u001b[0;32m----> 1\u001b[0;31m \u001b[0mdf\u001b[0m \u001b[0;34m=\u001b[0m \u001b[0mpd\u001b[0m\u001b[0;34m.\u001b[0m\u001b[0mread_csv\u001b[0m\u001b[0;34m(\u001b[0m\u001b[0mio\u001b[0m\u001b[0;34m.\u001b[0m\u001b[0mStringIO\u001b[0m\u001b[0;34m(\u001b[0m\u001b[0muploaded\u001b[0m\u001b[0;34m[\u001b[0m\u001b[0;34m'Churn_Modelling.csv'\u001b[0m\u001b[0;34m]\u001b[0m\u001b[0;34m.\u001b[0m\u001b[0mdecode\u001b[0m\u001b[0;34m(\u001b[0m\u001b[0;34m'utf-8'\u001b[0m\u001b[0;34m)\u001b[0m\u001b[0;34m)\u001b[0m\u001b[0;34m)\u001b[0m\u001b[0;34m\u001b[0m\u001b[0;34m\u001b[0m\u001b[0m\n\u001b[0m",
            "\u001b[0;31mKeyError\u001b[0m: 'Churn_Modelling.csv'"
          ]
        }
      ]
    },
    {
      "cell_type": "code",
      "metadata": {
        "id": "JNtAZoy_paK0",
        "colab_type": "code",
        "colab": {}
      },
      "source": [
        "df = pd.read_csv('/content/Churn_Modelling.csv')"
      ],
      "execution_count": 0,
      "outputs": []
    },
    {
      "cell_type": "code",
      "metadata": {
        "id": "SfuZuRAZk_eh",
        "colab_type": "code",
        "colab": {
          "base_uri": "https://localhost:8080/",
          "height": 204
        },
        "outputId": "221356ad-6484-43e0-aa12-59df3fb8ce62"
      },
      "source": [
        "df.head()"
      ],
      "execution_count": 118,
      "outputs": [
        {
          "output_type": "execute_result",
          "data": {
            "text/html": [
              "<div>\n",
              "<style scoped>\n",
              "    .dataframe tbody tr th:only-of-type {\n",
              "        vertical-align: middle;\n",
              "    }\n",
              "\n",
              "    .dataframe tbody tr th {\n",
              "        vertical-align: top;\n",
              "    }\n",
              "\n",
              "    .dataframe thead th {\n",
              "        text-align: right;\n",
              "    }\n",
              "</style>\n",
              "<table border=\"1\" class=\"dataframe\">\n",
              "  <thead>\n",
              "    <tr style=\"text-align: right;\">\n",
              "      <th></th>\n",
              "      <th>RowNumber</th>\n",
              "      <th>CustomerId</th>\n",
              "      <th>Surname</th>\n",
              "      <th>CreditScore</th>\n",
              "      <th>Geography</th>\n",
              "      <th>Gender</th>\n",
              "      <th>Age</th>\n",
              "      <th>Tenure</th>\n",
              "      <th>Balance</th>\n",
              "      <th>NumOfProducts</th>\n",
              "      <th>HasCrCard</th>\n",
              "      <th>IsActiveMember</th>\n",
              "      <th>EstimatedSalary</th>\n",
              "      <th>Exited</th>\n",
              "    </tr>\n",
              "  </thead>\n",
              "  <tbody>\n",
              "    <tr>\n",
              "      <th>0</th>\n",
              "      <td>1</td>\n",
              "      <td>15634602</td>\n",
              "      <td>Hargrave</td>\n",
              "      <td>619</td>\n",
              "      <td>France</td>\n",
              "      <td>Female</td>\n",
              "      <td>42</td>\n",
              "      <td>2</td>\n",
              "      <td>0.00</td>\n",
              "      <td>1</td>\n",
              "      <td>1</td>\n",
              "      <td>1</td>\n",
              "      <td>101348.88</td>\n",
              "      <td>1</td>\n",
              "    </tr>\n",
              "    <tr>\n",
              "      <th>1</th>\n",
              "      <td>2</td>\n",
              "      <td>15647311</td>\n",
              "      <td>Hill</td>\n",
              "      <td>608</td>\n",
              "      <td>Spain</td>\n",
              "      <td>Female</td>\n",
              "      <td>41</td>\n",
              "      <td>1</td>\n",
              "      <td>83807.86</td>\n",
              "      <td>1</td>\n",
              "      <td>0</td>\n",
              "      <td>1</td>\n",
              "      <td>112542.58</td>\n",
              "      <td>0</td>\n",
              "    </tr>\n",
              "    <tr>\n",
              "      <th>2</th>\n",
              "      <td>3</td>\n",
              "      <td>15619304</td>\n",
              "      <td>Onio</td>\n",
              "      <td>502</td>\n",
              "      <td>France</td>\n",
              "      <td>Female</td>\n",
              "      <td>42</td>\n",
              "      <td>8</td>\n",
              "      <td>159660.80</td>\n",
              "      <td>3</td>\n",
              "      <td>1</td>\n",
              "      <td>0</td>\n",
              "      <td>113931.57</td>\n",
              "      <td>1</td>\n",
              "    </tr>\n",
              "    <tr>\n",
              "      <th>3</th>\n",
              "      <td>4</td>\n",
              "      <td>15701354</td>\n",
              "      <td>Boni</td>\n",
              "      <td>699</td>\n",
              "      <td>France</td>\n",
              "      <td>Female</td>\n",
              "      <td>39</td>\n",
              "      <td>1</td>\n",
              "      <td>0.00</td>\n",
              "      <td>2</td>\n",
              "      <td>0</td>\n",
              "      <td>0</td>\n",
              "      <td>93826.63</td>\n",
              "      <td>0</td>\n",
              "    </tr>\n",
              "    <tr>\n",
              "      <th>4</th>\n",
              "      <td>5</td>\n",
              "      <td>15737888</td>\n",
              "      <td>Mitchell</td>\n",
              "      <td>850</td>\n",
              "      <td>Spain</td>\n",
              "      <td>Female</td>\n",
              "      <td>43</td>\n",
              "      <td>2</td>\n",
              "      <td>125510.82</td>\n",
              "      <td>1</td>\n",
              "      <td>1</td>\n",
              "      <td>1</td>\n",
              "      <td>79084.10</td>\n",
              "      <td>0</td>\n",
              "    </tr>\n",
              "  </tbody>\n",
              "</table>\n",
              "</div>"
            ],
            "text/plain": [
              "   RowNumber  CustomerId   Surname  ...  IsActiveMember EstimatedSalary Exited\n",
              "0          1    15634602  Hargrave  ...               1       101348.88      1\n",
              "1          2    15647311      Hill  ...               1       112542.58      0\n",
              "2          3    15619304      Onio  ...               0       113931.57      1\n",
              "3          4    15701354      Boni  ...               0        93826.63      0\n",
              "4          5    15737888  Mitchell  ...               1        79084.10      0\n",
              "\n",
              "[5 rows x 14 columns]"
            ]
          },
          "metadata": {
            "tags": []
          },
          "execution_count": 118
        }
      ]
    },
    {
      "cell_type": "code",
      "metadata": {
        "id": "qxmobEr3k_e0",
        "colab_type": "code",
        "colab": {}
      },
      "source": [
        "df_copy = df.copy()"
      ],
      "execution_count": 0,
      "outputs": []
    },
    {
      "cell_type": "code",
      "metadata": {
        "id": "qT1ZwFiqk_e_",
        "colab_type": "code",
        "colab": {}
      },
      "source": [
        "df_copy.drop(['RowNumber', 'CustomerId', 'Surname'], axis=1,inplace=True)"
      ],
      "execution_count": 0,
      "outputs": []
    },
    {
      "cell_type": "code",
      "metadata": {
        "id": "k7IMUzSJk_fK",
        "colab_type": "code",
        "colab": {
          "base_uri": "https://localhost:8080/",
          "height": 204
        },
        "outputId": "c767ee86-feec-43d4-e444-fb87c78bec29"
      },
      "source": [
        "df_copy.head()"
      ],
      "execution_count": 121,
      "outputs": [
        {
          "output_type": "execute_result",
          "data": {
            "text/html": [
              "<div>\n",
              "<style scoped>\n",
              "    .dataframe tbody tr th:only-of-type {\n",
              "        vertical-align: middle;\n",
              "    }\n",
              "\n",
              "    .dataframe tbody tr th {\n",
              "        vertical-align: top;\n",
              "    }\n",
              "\n",
              "    .dataframe thead th {\n",
              "        text-align: right;\n",
              "    }\n",
              "</style>\n",
              "<table border=\"1\" class=\"dataframe\">\n",
              "  <thead>\n",
              "    <tr style=\"text-align: right;\">\n",
              "      <th></th>\n",
              "      <th>CreditScore</th>\n",
              "      <th>Geography</th>\n",
              "      <th>Gender</th>\n",
              "      <th>Age</th>\n",
              "      <th>Tenure</th>\n",
              "      <th>Balance</th>\n",
              "      <th>NumOfProducts</th>\n",
              "      <th>HasCrCard</th>\n",
              "      <th>IsActiveMember</th>\n",
              "      <th>EstimatedSalary</th>\n",
              "      <th>Exited</th>\n",
              "    </tr>\n",
              "  </thead>\n",
              "  <tbody>\n",
              "    <tr>\n",
              "      <th>0</th>\n",
              "      <td>619</td>\n",
              "      <td>France</td>\n",
              "      <td>Female</td>\n",
              "      <td>42</td>\n",
              "      <td>2</td>\n",
              "      <td>0.00</td>\n",
              "      <td>1</td>\n",
              "      <td>1</td>\n",
              "      <td>1</td>\n",
              "      <td>101348.88</td>\n",
              "      <td>1</td>\n",
              "    </tr>\n",
              "    <tr>\n",
              "      <th>1</th>\n",
              "      <td>608</td>\n",
              "      <td>Spain</td>\n",
              "      <td>Female</td>\n",
              "      <td>41</td>\n",
              "      <td>1</td>\n",
              "      <td>83807.86</td>\n",
              "      <td>1</td>\n",
              "      <td>0</td>\n",
              "      <td>1</td>\n",
              "      <td>112542.58</td>\n",
              "      <td>0</td>\n",
              "    </tr>\n",
              "    <tr>\n",
              "      <th>2</th>\n",
              "      <td>502</td>\n",
              "      <td>France</td>\n",
              "      <td>Female</td>\n",
              "      <td>42</td>\n",
              "      <td>8</td>\n",
              "      <td>159660.80</td>\n",
              "      <td>3</td>\n",
              "      <td>1</td>\n",
              "      <td>0</td>\n",
              "      <td>113931.57</td>\n",
              "      <td>1</td>\n",
              "    </tr>\n",
              "    <tr>\n",
              "      <th>3</th>\n",
              "      <td>699</td>\n",
              "      <td>France</td>\n",
              "      <td>Female</td>\n",
              "      <td>39</td>\n",
              "      <td>1</td>\n",
              "      <td>0.00</td>\n",
              "      <td>2</td>\n",
              "      <td>0</td>\n",
              "      <td>0</td>\n",
              "      <td>93826.63</td>\n",
              "      <td>0</td>\n",
              "    </tr>\n",
              "    <tr>\n",
              "      <th>4</th>\n",
              "      <td>850</td>\n",
              "      <td>Spain</td>\n",
              "      <td>Female</td>\n",
              "      <td>43</td>\n",
              "      <td>2</td>\n",
              "      <td>125510.82</td>\n",
              "      <td>1</td>\n",
              "      <td>1</td>\n",
              "      <td>1</td>\n",
              "      <td>79084.10</td>\n",
              "      <td>0</td>\n",
              "    </tr>\n",
              "  </tbody>\n",
              "</table>\n",
              "</div>"
            ],
            "text/plain": [
              "   CreditScore Geography  Gender  ...  IsActiveMember  EstimatedSalary  Exited\n",
              "0          619    France  Female  ...               1        101348.88       1\n",
              "1          608     Spain  Female  ...               1        112542.58       0\n",
              "2          502    France  Female  ...               0        113931.57       1\n",
              "3          699    France  Female  ...               0         93826.63       0\n",
              "4          850     Spain  Female  ...               1         79084.10       0\n",
              "\n",
              "[5 rows x 11 columns]"
            ]
          },
          "metadata": {
            "tags": []
          },
          "execution_count": 121
        }
      ]
    },
    {
      "cell_type": "code",
      "metadata": {
        "id": "-DVOT49EmKFa",
        "colab_type": "code",
        "colab": {}
      },
      "source": [
        "import seaborn as sns"
      ],
      "execution_count": 0,
      "outputs": []
    },
    {
      "cell_type": "code",
      "metadata": {
        "id": "B1ChayDnmPo8",
        "colab_type": "code",
        "colab": {
          "base_uri": "https://localhost:8080/",
          "height": 313
        },
        "outputId": "c9cf2a1b-e642-4877-f0d5-934c11087711"
      },
      "source": [
        "sns.countplot(x='Exited', data= df)\n",
        "exited, not_exited = df.Exited.value_counts()\n",
        "print(\"Exited :\", exited)\n",
        "print(\"Not Exited : \", not_exited)"
      ],
      "execution_count": 123,
      "outputs": [
        {
          "output_type": "stream",
          "text": [
            "Exited : 7963\n",
            "Not Exited :  2037\n"
          ],
          "name": "stdout"
        },
        {
          "output_type": "display_data",
          "data": {
            "image/png": "[encoded data removed]",
            "text/plain": [
              "<Figure size 432x288 with 1 Axes>"
            ]
          },
          "metadata": {
            "tags": []
          }
        }
      ]
    },
    {
      "cell_type": "code",
      "metadata": {
        "id": "kFzrbOyJk_fW",
        "colab_type": "code",
        "colab": {}
      },
      "source": [
        "geo_dumm = pd.get_dummies(df_copy.Geography, drop_first = True)"
      ],
      "execution_count": 0,
      "outputs": []
    },
    {
      "cell_type": "code",
      "metadata": {
        "id": "lHd9WtVvk_fg",
        "colab_type": "code",
        "colab": {}
      },
      "source": [
        "gen_dumm = pd.get_dummies(df_copy.Gender, drop_first = True)"
      ],
      "execution_count": 0,
      "outputs": []
    },
    {
      "cell_type": "code",
      "metadata": {
        "id": "_R9SqnMWk_ft",
        "colab_type": "code",
        "colab": {}
      },
      "source": [
        "df_copy.drop(['Geography','Gender'], axis=1, inplace=True)"
      ],
      "execution_count": 0,
      "outputs": []
    },
    {
      "cell_type": "code",
      "metadata": {
        "id": "9yEt6n2_k_f2",
        "colab_type": "code",
        "colab": {}
      },
      "source": [
        "df_copy = pd.concat([df_copy, gen_dumm, geo_dumm], axis=1)"
      ],
      "execution_count": 0,
      "outputs": []
    },
    {
      "cell_type": "code",
      "metadata": {
        "id": "Bh8WGmVPk_gD",
        "colab_type": "code",
        "colab": {}
      },
      "source": [
        "x = df_copy.drop('Exited', axis=1)\n",
        "y = df_copy['Exited']"
      ],
      "execution_count": 0,
      "outputs": []
    },
    {
      "cell_type": "code",
      "metadata": {
        "id": "lGc0m6SSk_gN",
        "colab_type": "code",
        "colab": {
          "base_uri": "https://localhost:8080/",
          "height": 34
        },
        "outputId": "091e8656-496b-4315-9f5d-03bb53b8ea70"
      },
      "source": [
        "train_x, test_x, train_y, test_y = train_test_split(x,y, test_size = 0.2, random_state = 0)\n",
        "train_x.shape\n",
        "train_y.shape"
      ],
      "execution_count": 129,
      "outputs": [
        {
          "output_type": "execute_result",
          "data": {
            "text/plain": [
              "(8000,)"
            ]
          },
          "metadata": {
            "tags": []
          },
          "execution_count": 129
        }
      ]
    },
    {
      "cell_type": "code",
      "metadata": {
        "id": "wHS-X3fYk_gW",
        "colab_type": "code",
        "colab": {}
      },
      "source": [
        "ss = StandardScaler()"
      ],
      "execution_count": 0,
      "outputs": []
    },
    {
      "cell_type": "code",
      "metadata": {
        "id": "CdWyT4uyk_gg",
        "colab_type": "code",
        "colab": {
          "base_uri": "https://localhost:8080/",
          "height": 34
        },
        "outputId": "69454fc7-fab6-4c09-ae46-218b488809e9"
      },
      "source": [
        "train_x = ss.fit_transform(train_x)\n",
        "test_x = ss.transform(test_x)\n",
        "train_x.shape"
      ],
      "execution_count": 131,
      "outputs": [
        {
          "output_type": "execute_result",
          "data": {
            "text/plain": [
              "(8000, 11)"
            ]
          },
          "metadata": {
            "tags": []
          },
          "execution_count": 131
        }
      ]
    },
    {
      "cell_type": "code",
      "metadata": {
        "id": "FKMczECZk_gp",
        "colab_type": "code",
        "colab": {}
      },
      "source": [
        "from keras.models import Sequential\n",
        "from keras.layers import Dense"
      ],
      "execution_count": 0,
      "outputs": []
    },
    {
      "cell_type": "code",
      "metadata": {
        "id": "QlbqZEZTk_g1",
        "colab_type": "code",
        "colab": {}
      },
      "source": [
        "classifier = Sequential()"
      ],
      "execution_count": 0,
      "outputs": []
    },
    {
      "cell_type": "code",
      "metadata": {
        "id": "MA4u2_pek_hB",
        "colab_type": "code",
        "colab": {}
      },
      "source": [
        "classifier.add(Dense(units=8, input_dim =11 ,  activation='relu', kernel_initializer= 'uniform', use_bias=True ))"
      ],
      "execution_count": 0,
      "outputs": []
    },
    {
      "cell_type": "code",
      "metadata": {
        "id": "9vNXSF0Tk_hK",
        "colab_type": "code",
        "colab": {}
      },
      "source": [
        "classifier.add(Dense(units=6, activation='relu', kernel_initializer= 'uniform', use_bias=True))\n",
        "classifier.add(Dense(units=6, activation='relu', kernel_initializer= 'uniform',use_bias=True ))"
      ],
      "execution_count": 0,
      "outputs": []
    },
    {
      "cell_type": "code",
      "metadata": {
        "id": "LC32PKhRk_hT",
        "colab_type": "code",
        "colab": {}
      },
      "source": [
        "classifier.add(Dense(units=1, activation='sigmoid', kernel_initializer = 'uniform',use_bias=True))"
      ],
      "execution_count": 0,
      "outputs": []
    },
    {
      "cell_type": "code",
      "metadata": {
        "id": "ap_fn_d2k_hc",
        "colab_type": "code",
        "colab": {}
      },
      "source": [
        "classifier.compile(optimizer='adam', metrics=['accuracy'], loss='binary_crossentropy')"
      ],
      "execution_count": 0,
      "outputs": []
    },
    {
      "cell_type": "code",
      "metadata": {
        "id": "3za81hYwk_hl",
        "colab_type": "code",
        "colab": {
          "base_uri": "https://localhost:8080/",
          "height": 1000
        },
        "outputId": "0dcab818-3db8-40b9-a73b-73076185b0f8"
      },
      "source": [
        "classifier.fit(train_x, train_y, batch_size=100, epochs=200)"
      ],
      "execution_count": 138,
      "outputs": [
        {
          "output_type": "stream",
          "text": [
            "Epoch 1/200\n",
            "8000/8000 [==============================] - 2s 229us/step - loss: 0.6769 - acc: 0.7882\n",
            "Epoch 2/200\n",
            "8000/8000 [==============================] - 0s 19us/step - loss: 0.5762 - acc: 0.7960\n",
            "Epoch 3/200\n",
            "8000/8000 [==============================] - 0s 17us/step - loss: 0.4567 - acc: 0.7960\n",
            "Epoch 4/200\n",
            "8000/8000 [==============================] - 0s 18us/step - loss: 0.4418 - acc: 0.7960\n",
            "Epoch 5/200\n",
            "8000/8000 [==============================] - 0s 19us/step - loss: 0.4366 - acc: 0.7960\n",
            "Epoch 6/200\n",
            "8000/8000 [==============================] - 0s 17us/step - loss: 0.4333 - acc: 0.7960\n",
            "Epoch 7/200\n",
            "8000/8000 [==============================] - 0s 17us/step - loss: 0.4314 - acc: 0.7960\n",
            "Epoch 8/200\n",
            "8000/8000 [==============================] - 0s 20us/step - loss: 0.4299 - acc: 0.7960\n",
            "Epoch 9/200\n",
            "8000/8000 [==============================] - 0s 17us/step - loss: 0.4283 - acc: 0.7960\n",
            "Epoch 10/200\n",
            "8000/8000 [==============================] - 0s 18us/step - loss: 0.4267 - acc: 0.7960\n",
            "Epoch 11/200\n",
            "8000/8000 [==============================] - 0s 19us/step - loss: 0.4253 - acc: 0.7960\n",
            "Epoch 12/200\n",
            "8000/8000 [==============================] - 0s 17us/step - loss: 0.4237 - acc: 0.7960\n",
            "Epoch 13/200\n",
            "8000/8000 [==============================] - 0s 18us/step - loss: 0.4223 - acc: 0.7960\n",
            "Epoch 14/200\n",
            "8000/8000 [==============================] - 0s 17us/step - loss: 0.4210 - acc: 0.7960\n",
            "Epoch 15/200\n",
            "8000/8000 [==============================] - 0s 17us/step - loss: 0.4197 - acc: 0.7960\n",
            "Epoch 16/200\n",
            "8000/8000 [==============================] - 0s 17us/step - loss: 0.4188 - acc: 0.7960\n",
            "Epoch 17/200\n",
            "8000/8000 [==============================] - 0s 17us/step - loss: 0.4183 - acc: 0.7960\n",
            "Epoch 18/200\n",
            "8000/8000 [==============================] - 0s 18us/step - loss: 0.4175 - acc: 0.8105\n",
            "Epoch 19/200\n",
            "8000/8000 [==============================] - 0s 18us/step - loss: 0.4170 - acc: 0.8194\n",
            "Epoch 20/200\n",
            "8000/8000 [==============================] - 0s 17us/step - loss: 0.4164 - acc: 0.8222\n",
            "Epoch 21/200\n",
            "8000/8000 [==============================] - 0s 17us/step - loss: 0.4160 - acc: 0.8234\n",
            "Epoch 22/200\n",
            "8000/8000 [==============================] - 0s 18us/step - loss: 0.4155 - acc: 0.8242\n",
            "Epoch 23/200\n",
            "8000/8000 [==============================] - 0s 18us/step - loss: 0.4150 - acc: 0.8249\n",
            "Epoch 24/200\n",
            "8000/8000 [==============================] - 0s 18us/step - loss: 0.4147 - acc: 0.8271\n",
            "Epoch 25/200\n",
            "8000/8000 [==============================] - 0s 18us/step - loss: 0.4147 - acc: 0.8282\n",
            "Epoch 26/200\n",
            "8000/8000 [==============================] - 0s 21us/step - loss: 0.4143 - acc: 0.8281\n",
            "Epoch 27/200\n",
            "8000/8000 [==============================] - 0s 19us/step - loss: 0.4134 - acc: 0.8291\n",
            "Epoch 28/200\n",
            "8000/8000 [==============================] - 0s 18us/step - loss: 0.4132 - acc: 0.8296\n",
            "Epoch 29/200\n",
            "8000/8000 [==============================] - 0s 18us/step - loss: 0.4130 - acc: 0.8301\n",
            "Epoch 30/200\n",
            "8000/8000 [==============================] - 0s 18us/step - loss: 0.4122 - acc: 0.8311\n",
            "Epoch 31/200\n",
            "8000/8000 [==============================] - 0s 19us/step - loss: 0.4122 - acc: 0.8314\n",
            "Epoch 32/200\n",
            "8000/8000 [==============================] - 0s 18us/step - loss: 0.4120 - acc: 0.8314\n",
            "Epoch 33/200\n",
            "8000/8000 [==============================] - 0s 18us/step - loss: 0.4116 - acc: 0.8322\n",
            "Epoch 34/200\n",
            "8000/8000 [==============================] - 0s 19us/step - loss: 0.4110 - acc: 0.8313\n",
            "Epoch 35/200\n",
            "8000/8000 [==============================] - 0s 19us/step - loss: 0.4106 - acc: 0.8325\n",
            "Epoch 36/200\n",
            "8000/8000 [==============================] - 0s 20us/step - loss: 0.4106 - acc: 0.8325\n",
            "Epoch 37/200\n",
            "8000/8000 [==============================] - 0s 19us/step - loss: 0.4103 - acc: 0.8336\n",
            "Epoch 38/200\n",
            "8000/8000 [==============================] - 0s 17us/step - loss: 0.4101 - acc: 0.8335\n",
            "Epoch 39/200\n",
            "8000/8000 [==============================] - 0s 17us/step - loss: 0.4096 - acc: 0.8341\n",
            "Epoch 40/200\n",
            "8000/8000 [==============================] - 0s 17us/step - loss: 0.4092 - acc: 0.8336\n",
            "Epoch 41/200\n",
            "8000/8000 [==============================] - 0s 18us/step - loss: 0.4091 - acc: 0.8336\n",
            "Epoch 42/200\n",
            "8000/8000 [==============================] - 0s 17us/step - loss: 0.4092 - acc: 0.8347\n",
            "Epoch 43/200\n",
            "8000/8000 [==============================] - 0s 17us/step - loss: 0.4085 - acc: 0.8339\n",
            "Epoch 44/200\n",
            "8000/8000 [==============================] - 0s 17us/step - loss: 0.4082 - acc: 0.8354\n",
            "Epoch 45/200\n",
            "8000/8000 [==============================] - 0s 17us/step - loss: 0.4080 - acc: 0.8347\n",
            "Epoch 46/200\n",
            "8000/8000 [==============================] - 0s 16us/step - loss: 0.4079 - acc: 0.8346\n",
            "Epoch 47/200\n",
            "8000/8000 [==============================] - 0s 18us/step - loss: 0.4074 - acc: 0.8345\n",
            "Epoch 48/200\n",
            "8000/8000 [==============================] - 0s 17us/step - loss: 0.4070 - acc: 0.8350\n",
            "Epoch 49/200\n",
            "8000/8000 [==============================] - 0s 17us/step - loss: 0.4072 - acc: 0.8360\n",
            "Epoch 50/200\n",
            "8000/8000 [==============================] - 0s 17us/step - loss: 0.4069 - acc: 0.8349\n",
            "Epoch 51/200\n",
            "8000/8000 [==============================] - 0s 17us/step - loss: 0.4064 - acc: 0.8351\n",
            "Epoch 52/200\n",
            "8000/8000 [==============================] - 0s 17us/step - loss: 0.4063 - acc: 0.8354\n",
            "Epoch 53/200\n",
            "8000/8000 [==============================] - 0s 17us/step - loss: 0.4061 - acc: 0.8357\n",
            "Epoch 54/200\n",
            "8000/8000 [==============================] - 0s 16us/step - loss: 0.4059 - acc: 0.8353\n",
            "Epoch 55/200\n",
            "8000/8000 [==============================] - 0s 18us/step - loss: 0.4058 - acc: 0.8344\n",
            "Epoch 56/200\n",
            "8000/8000 [==============================] - 0s 18us/step - loss: 0.4056 - acc: 0.8355\n",
            "Epoch 57/200\n",
            "8000/8000 [==============================] - 0s 17us/step - loss: 0.4057 - acc: 0.8355\n",
            "Epoch 58/200\n",
            "8000/8000 [==============================] - 0s 17us/step - loss: 0.4053 - acc: 0.8350\n",
            "Epoch 59/200\n",
            "8000/8000 [==============================] - 0s 16us/step - loss: 0.4050 - acc: 0.8346\n",
            "Epoch 60/200\n",
            "8000/8000 [==============================] - 0s 17us/step - loss: 0.4048 - acc: 0.8350\n",
            "Epoch 61/200\n",
            "8000/8000 [==============================] - 0s 16us/step - loss: 0.4049 - acc: 0.8352\n",
            "Epoch 62/200\n",
            "8000/8000 [==============================] - 0s 17us/step - loss: 0.4047 - acc: 0.8357\n",
            "Epoch 63/200\n",
            "8000/8000 [==============================] - 0s 18us/step - loss: 0.4045 - acc: 0.8357\n",
            "Epoch 64/200\n",
            "8000/8000 [==============================] - 0s 18us/step - loss: 0.4046 - acc: 0.8350\n",
            "Epoch 65/200\n",
            "8000/8000 [==============================] - 0s 17us/step - loss: 0.4042 - acc: 0.8361\n",
            "Epoch 66/200\n",
            "8000/8000 [==============================] - 0s 17us/step - loss: 0.4041 - acc: 0.8351\n",
            "Epoch 67/200\n",
            "8000/8000 [==============================] - 0s 17us/step - loss: 0.4039 - acc: 0.8360\n",
            "Epoch 68/200\n",
            "8000/8000 [==============================] - 0s 17us/step - loss: 0.4036 - acc: 0.8354\n",
            "Epoch 69/200\n",
            "8000/8000 [==============================] - 0s 16us/step - loss: 0.4040 - acc: 0.8351\n",
            "Epoch 70/200\n",
            "8000/8000 [==============================] - 0s 17us/step - loss: 0.4037 - acc: 0.8352\n",
            "Epoch 71/200\n",
            "8000/8000 [==============================] - 0s 16us/step - loss: 0.4035 - acc: 0.8349\n",
            "Epoch 72/200\n",
            "8000/8000 [==============================] - 0s 17us/step - loss: 0.4037 - acc: 0.8355\n",
            "Epoch 73/200\n",
            "8000/8000 [==============================] - 0s 17us/step - loss: 0.4033 - acc: 0.8356\n",
            "Epoch 74/200\n",
            "8000/8000 [==============================] - 0s 16us/step - loss: 0.4035 - acc: 0.8356\n",
            "Epoch 75/200\n",
            "8000/8000 [==============================] - 0s 17us/step - loss: 0.4033 - acc: 0.8355\n",
            "Epoch 76/200\n",
            "8000/8000 [==============================] - 0s 17us/step - loss: 0.4031 - acc: 0.8369\n",
            "Epoch 77/200\n",
            "8000/8000 [==============================] - 0s 18us/step - loss: 0.4029 - acc: 0.8362\n",
            "Epoch 78/200\n",
            "8000/8000 [==============================] - 0s 19us/step - loss: 0.4028 - acc: 0.8359\n",
            "Epoch 79/200\n",
            "8000/8000 [==============================] - 0s 17us/step - loss: 0.4027 - acc: 0.8349\n",
            "Epoch 80/200\n",
            "8000/8000 [==============================] - 0s 17us/step - loss: 0.4026 - acc: 0.8361\n",
            "Epoch 81/200\n",
            "8000/8000 [==============================] - 0s 17us/step - loss: 0.4023 - acc: 0.8357\n",
            "Epoch 82/200\n",
            "8000/8000 [==============================] - 0s 17us/step - loss: 0.4024 - acc: 0.8372\n",
            "Epoch 83/200\n",
            "8000/8000 [==============================] - 0s 16us/step - loss: 0.4024 - acc: 0.8367\n",
            "Epoch 84/200\n",
            "8000/8000 [==============================] - 0s 16us/step - loss: 0.4024 - acc: 0.8358\n",
            "Epoch 85/200\n",
            "8000/8000 [==============================] - 0s 16us/step - loss: 0.4021 - acc: 0.8357\n",
            "Epoch 86/200\n",
            "8000/8000 [==============================] - 0s 18us/step - loss: 0.4022 - acc: 0.8364\n",
            "Epoch 87/200\n",
            "8000/8000 [==============================] - 0s 16us/step - loss: 0.4021 - acc: 0.8360\n",
            "Epoch 88/200\n",
            "8000/8000 [==============================] - 0s 16us/step - loss: 0.4020 - acc: 0.8361\n",
            "Epoch 89/200\n",
            "8000/8000 [==============================] - 0s 16us/step - loss: 0.4017 - acc: 0.8350\n",
            "Epoch 90/200\n",
            "8000/8000 [==============================] - 0s 16us/step - loss: 0.4017 - acc: 0.8356\n",
            "Epoch 91/200\n",
            "8000/8000 [==============================] - 0s 16us/step - loss: 0.4017 - acc: 0.8354\n",
            "Epoch 92/200\n",
            "8000/8000 [==============================] - 0s 16us/step - loss: 0.4016 - acc: 0.8356\n",
            "Epoch 93/200\n",
            "8000/8000 [==============================] - 0s 16us/step - loss: 0.4013 - acc: 0.8340\n",
            "Epoch 94/200\n",
            "8000/8000 [==============================] - 0s 17us/step - loss: 0.4016 - acc: 0.8351\n",
            "Epoch 95/200\n",
            "8000/8000 [==============================] - 0s 16us/step - loss: 0.4013 - acc: 0.8361\n",
            "Epoch 96/200\n",
            "8000/8000 [==============================] - 0s 16us/step - loss: 0.4012 - acc: 0.8351\n",
            "Epoch 97/200\n",
            "8000/8000 [==============================] - 0s 16us/step - loss: 0.4011 - acc: 0.8352\n",
            "Epoch 98/200\n",
            "8000/8000 [==============================] - 0s 16us/step - loss: 0.4011 - acc: 0.8350\n",
            "Epoch 99/200\n",
            "8000/8000 [==============================] - 0s 16us/step - loss: 0.4010 - acc: 0.8362\n",
            "Epoch 100/200\n",
            "8000/8000 [==============================] - 0s 16us/step - loss: 0.4013 - acc: 0.8350\n",
            "Epoch 101/200\n",
            "8000/8000 [==============================] - 0s 16us/step - loss: 0.4009 - acc: 0.8354\n",
            "Epoch 102/200\n",
            "8000/8000 [==============================] - 0s 16us/step - loss: 0.4008 - acc: 0.8357\n",
            "Epoch 103/200\n",
            "8000/8000 [==============================] - 0s 16us/step - loss: 0.4012 - acc: 0.8345\n",
            "Epoch 104/200\n",
            "8000/8000 [==============================] - 0s 16us/step - loss: 0.4012 - acc: 0.8362\n",
            "Epoch 105/200\n",
            "8000/8000 [==============================] - 0s 17us/step - loss: 0.4009 - acc: 0.8359\n",
            "Epoch 106/200\n",
            "8000/8000 [==============================] - 0s 17us/step - loss: 0.4005 - acc: 0.8356\n",
            "Epoch 107/200\n",
            "8000/8000 [==============================] - 0s 16us/step - loss: 0.4000 - acc: 0.8354\n",
            "Epoch 108/200\n",
            "8000/8000 [==============================] - 0s 17us/step - loss: 0.4005 - acc: 0.8361\n",
            "Epoch 109/200\n",
            "8000/8000 [==============================] - 0s 17us/step - loss: 0.4001 - acc: 0.8342\n",
            "Epoch 110/200\n",
            "8000/8000 [==============================] - 0s 17us/step - loss: 0.4003 - acc: 0.8355\n",
            "Epoch 111/200\n",
            "8000/8000 [==============================] - 0s 17us/step - loss: 0.4001 - acc: 0.8349\n",
            "Epoch 112/200\n",
            "8000/8000 [==============================] - 0s 17us/step - loss: 0.4001 - acc: 0.8352\n",
            "Epoch 113/200\n",
            "8000/8000 [==============================] - 0s 16us/step - loss: 0.4000 - acc: 0.8350\n",
            "Epoch 114/200\n",
            "8000/8000 [==============================] - 0s 17us/step - loss: 0.4000 - acc: 0.8354\n",
            "Epoch 115/200\n",
            "8000/8000 [==============================] - 0s 16us/step - loss: 0.4002 - acc: 0.8350\n",
            "Epoch 116/200\n",
            "8000/8000 [==============================] - 0s 17us/step - loss: 0.4002 - acc: 0.8352\n",
            "Epoch 117/200\n",
            "8000/8000 [==============================] - 0s 17us/step - loss: 0.3996 - acc: 0.8349\n",
            "Epoch 118/200\n",
            "8000/8000 [==============================] - 0s 16us/step - loss: 0.4000 - acc: 0.8352\n",
            "Epoch 119/200\n",
            "8000/8000 [==============================] - 0s 16us/step - loss: 0.3994 - acc: 0.8349\n",
            "Epoch 120/200\n",
            "8000/8000 [==============================] - 0s 17us/step - loss: 0.3997 - acc: 0.8352\n",
            "Epoch 121/200\n",
            "8000/8000 [==============================] - 0s 16us/step - loss: 0.3995 - acc: 0.8356\n",
            "Epoch 122/200\n",
            "8000/8000 [==============================] - 0s 16us/step - loss: 0.3996 - acc: 0.8351\n",
            "Epoch 123/200\n",
            "8000/8000 [==============================] - 0s 16us/step - loss: 0.3994 - acc: 0.8356\n",
            "Epoch 124/200\n",
            "8000/8000 [==============================] - 0s 16us/step - loss: 0.3994 - acc: 0.8367\n",
            "Epoch 125/200\n",
            "8000/8000 [==============================] - 0s 18us/step - loss: 0.3989 - acc: 0.8359\n",
            "Epoch 126/200\n",
            "8000/8000 [==============================] - 0s 17us/step - loss: 0.3989 - acc: 0.8357\n",
            "Epoch 127/200\n",
            "8000/8000 [==============================] - 0s 16us/step - loss: 0.3989 - acc: 0.8357\n",
            "Epoch 128/200\n",
            "8000/8000 [==============================] - 0s 17us/step - loss: 0.3989 - acc: 0.8361\n",
            "Epoch 129/200\n",
            "8000/8000 [==============================] - 0s 17us/step - loss: 0.3990 - acc: 0.8365\n",
            "Epoch 130/200\n",
            "8000/8000 [==============================] - 0s 17us/step - loss: 0.3989 - acc: 0.8364\n",
            "Epoch 131/200\n",
            "8000/8000 [==============================] - 0s 16us/step - loss: 0.3992 - acc: 0.8357\n",
            "Epoch 132/200\n",
            "8000/8000 [==============================] - 0s 16us/step - loss: 0.3985 - acc: 0.8365\n",
            "Epoch 133/200\n",
            "8000/8000 [==============================] - 0s 16us/step - loss: 0.3991 - acc: 0.8376\n",
            "Epoch 134/200\n",
            "8000/8000 [==============================] - 0s 17us/step - loss: 0.3983 - acc: 0.8358\n",
            "Epoch 135/200\n",
            "8000/8000 [==============================] - 0s 17us/step - loss: 0.3982 - acc: 0.8375\n",
            "Epoch 136/200\n",
            "8000/8000 [==============================] - 0s 16us/step - loss: 0.3982 - acc: 0.8369\n",
            "Epoch 137/200\n",
            "8000/8000 [==============================] - 0s 16us/step - loss: 0.3982 - acc: 0.8355\n",
            "Epoch 138/200\n",
            "8000/8000 [==============================] - 0s 16us/step - loss: 0.3980 - acc: 0.8354\n",
            "Epoch 139/200\n",
            "8000/8000 [==============================] - 0s 17us/step - loss: 0.3975 - acc: 0.8369\n",
            "Epoch 140/200\n",
            "8000/8000 [==============================] - 0s 16us/step - loss: 0.3977 - acc: 0.8366\n",
            "Epoch 141/200\n",
            "8000/8000 [==============================] - 0s 16us/step - loss: 0.3978 - acc: 0.8365\n",
            "Epoch 142/200\n",
            "8000/8000 [==============================] - 0s 19us/step - loss: 0.3977 - acc: 0.8359\n",
            "Epoch 143/200\n",
            "8000/8000 [==============================] - 0s 18us/step - loss: 0.3975 - acc: 0.8372\n",
            "Epoch 144/200\n",
            "8000/8000 [==============================] - 0s 17us/step - loss: 0.3974 - acc: 0.8362\n",
            "Epoch 145/200\n",
            "8000/8000 [==============================] - 0s 17us/step - loss: 0.3976 - acc: 0.8367\n",
            "Epoch 146/200\n",
            "8000/8000 [==============================] - 0s 17us/step - loss: 0.3976 - acc: 0.8360\n",
            "Epoch 147/200\n",
            "8000/8000 [==============================] - 0s 17us/step - loss: 0.3973 - acc: 0.8370\n",
            "Epoch 148/200\n",
            "8000/8000 [==============================] - 0s 17us/step - loss: 0.3974 - acc: 0.8371\n",
            "Epoch 149/200\n",
            "8000/8000 [==============================] - 0s 17us/step - loss: 0.3973 - acc: 0.8364\n",
            "Epoch 150/200\n",
            "8000/8000 [==============================] - 0s 18us/step - loss: 0.3971 - acc: 0.8360\n",
            "Epoch 151/200\n",
            "8000/8000 [==============================] - 0s 16us/step - loss: 0.3970 - acc: 0.8370\n",
            "Epoch 152/200\n",
            "8000/8000 [==============================] - 0s 16us/step - loss: 0.3970 - acc: 0.8365\n",
            "Epoch 153/200\n",
            "8000/8000 [==============================] - 0s 16us/step - loss: 0.3973 - acc: 0.8374\n",
            "Epoch 154/200\n",
            "8000/8000 [==============================] - 0s 17us/step - loss: 0.3972 - acc: 0.8372\n",
            "Epoch 155/200\n",
            "8000/8000 [==============================] - 0s 17us/step - loss: 0.3969 - acc: 0.8361\n",
            "Epoch 156/200\n",
            "8000/8000 [==============================] - 0s 16us/step - loss: 0.3968 - acc: 0.8365\n",
            "Epoch 157/200\n",
            "8000/8000 [==============================] - 0s 16us/step - loss: 0.3971 - acc: 0.8365\n",
            "Epoch 158/200\n",
            "8000/8000 [==============================] - 0s 17us/step - loss: 0.3966 - acc: 0.8351\n",
            "Epoch 159/200\n",
            "8000/8000 [==============================] - 0s 17us/step - loss: 0.3973 - acc: 0.8350\n",
            "Epoch 160/200\n",
            "8000/8000 [==============================] - 0s 17us/step - loss: 0.3968 - acc: 0.8362\n",
            "Epoch 161/200\n",
            "8000/8000 [==============================] - 0s 17us/step - loss: 0.3965 - acc: 0.8366\n",
            "Epoch 162/200\n",
            "8000/8000 [==============================] - 0s 17us/step - loss: 0.3967 - acc: 0.8357\n",
            "Epoch 163/200\n",
            "8000/8000 [==============================] - 0s 17us/step - loss: 0.3967 - acc: 0.8366\n",
            "Epoch 164/200\n",
            "8000/8000 [==============================] - 0s 17us/step - loss: 0.3966 - acc: 0.8354\n",
            "Epoch 165/200\n",
            "8000/8000 [==============================] - 0s 17us/step - loss: 0.3973 - acc: 0.8356\n",
            "Epoch 166/200\n",
            "8000/8000 [==============================] - 0s 18us/step - loss: 0.3966 - acc: 0.8375\n",
            "Epoch 167/200\n",
            "8000/8000 [==============================] - 0s 18us/step - loss: 0.3966 - acc: 0.8365\n",
            "Epoch 168/200\n",
            "8000/8000 [==============================] - 0s 17us/step - loss: 0.3965 - acc: 0.8364\n",
            "Epoch 169/200\n",
            "8000/8000 [==============================] - 0s 17us/step - loss: 0.3966 - acc: 0.8359\n",
            "Epoch 170/200\n",
            "8000/8000 [==============================] - 0s 17us/step - loss: 0.3964 - acc: 0.8372\n",
            "Epoch 171/200\n",
            "8000/8000 [==============================] - 0s 17us/step - loss: 0.3966 - acc: 0.8367\n",
            "Epoch 172/200\n",
            "8000/8000 [==============================] - 0s 16us/step - loss: 0.3964 - acc: 0.8355\n",
            "Epoch 173/200\n",
            "8000/8000 [==============================] - 0s 17us/step - loss: 0.3963 - acc: 0.8365\n",
            "Epoch 174/200\n",
            "8000/8000 [==============================] - 0s 16us/step - loss: 0.3960 - acc: 0.8380\n",
            "Epoch 175/200\n",
            "8000/8000 [==============================] - 0s 17us/step - loss: 0.3963 - acc: 0.8359\n",
            "Epoch 176/200\n",
            "8000/8000 [==============================] - 0s 17us/step - loss: 0.3965 - acc: 0.8371\n",
            "Epoch 177/200\n",
            "8000/8000 [==============================] - 0s 16us/step - loss: 0.3964 - acc: 0.8372\n",
            "Epoch 178/200\n",
            "8000/8000 [==============================] - 0s 16us/step - loss: 0.3966 - acc: 0.8381\n",
            "Epoch 179/200\n",
            "8000/8000 [==============================] - 0s 17us/step - loss: 0.3965 - acc: 0.8360\n",
            "Epoch 180/200\n",
            "8000/8000 [==============================] - 0s 17us/step - loss: 0.3960 - acc: 0.8367\n",
            "Epoch 181/200\n",
            "8000/8000 [==============================] - 0s 17us/step - loss: 0.3965 - acc: 0.8347\n",
            "Epoch 182/200\n",
            "8000/8000 [==============================] - 0s 17us/step - loss: 0.3964 - acc: 0.8353\n",
            "Epoch 183/200\n",
            "8000/8000 [==============================] - 0s 16us/step - loss: 0.3960 - acc: 0.8376\n",
            "Epoch 184/200\n",
            "8000/8000 [==============================] - 0s 19us/step - loss: 0.3962 - acc: 0.8379\n",
            "Epoch 185/200\n",
            "8000/8000 [==============================] - 0s 17us/step - loss: 0.3964 - acc: 0.8367\n",
            "Epoch 186/200\n",
            "8000/8000 [==============================] - 0s 18us/step - loss: 0.3962 - acc: 0.8366\n",
            "Epoch 187/200\n",
            "8000/8000 [==============================] - 0s 19us/step - loss: 0.3959 - acc: 0.8379\n",
            "Epoch 188/200\n",
            "8000/8000 [==============================] - 0s 16us/step - loss: 0.3959 - acc: 0.8366\n",
            "Epoch 189/200\n",
            "8000/8000 [==============================] - 0s 17us/step - loss: 0.3958 - acc: 0.8367\n",
            "Epoch 190/200\n",
            "8000/8000 [==============================] - 0s 16us/step - loss: 0.3961 - acc: 0.8377\n",
            "Epoch 191/200\n",
            "8000/8000 [==============================] - 0s 16us/step - loss: 0.3959 - acc: 0.8375\n",
            "Epoch 192/200\n",
            "8000/8000 [==============================] - 0s 16us/step - loss: 0.3966 - acc: 0.8366\n",
            "Epoch 193/200\n",
            "8000/8000 [==============================] - 0s 17us/step - loss: 0.3959 - acc: 0.8369\n",
            "Epoch 194/200\n",
            "8000/8000 [==============================] - 0s 17us/step - loss: 0.3958 - acc: 0.8379\n",
            "Epoch 195/200\n",
            "8000/8000 [==============================] - 0s 17us/step - loss: 0.3959 - acc: 0.8373\n",
            "Epoch 196/200\n",
            "8000/8000 [==============================] - 0s 16us/step - loss: 0.3956 - acc: 0.8377\n",
            "Epoch 197/200\n",
            "8000/8000 [==============================] - 0s 17us/step - loss: 0.3959 - acc: 0.8379\n",
            "Epoch 198/200\n",
            "8000/8000 [==============================] - 0s 18us/step - loss: 0.3959 - acc: 0.8381\n",
            "Epoch 199/200\n",
            "8000/8000 [==============================] - 0s 18us/step - loss: 0.3956 - acc: 0.8384\n",
            "Epoch 200/200\n",
            "8000/8000 [==============================] - 0s 17us/step - loss: 0.3954 - acc: 0.8372\n"
          ],
          "name": "stdout"
        },
        {
          "output_type": "execute_result",
          "data": {
            "text/plain": [
              "<keras.callbacks.History at 0x7f49a481edd8>"
            ]
          },
          "metadata": {
            "tags": []
          },
          "execution_count": 138
        }
      ]
    },
    {
      "cell_type": "code",
      "metadata": {
        "id": "W9IjyR0Gk_hx",
        "colab_type": "code",
        "colab": {}
      },
      "source": [
        "y_pred =classifier.predict(test_x)"
      ],
      "execution_count": 0,
      "outputs": []
    },
    {
      "cell_type": "code",
      "metadata": {
        "id": "QDvW2OuCk_h5",
        "colab_type": "code",
        "colab": {}
      },
      "source": [
        "y_pred = (y_pred > 0.5)"
      ],
      "execution_count": 0,
      "outputs": []
    },
    {
      "cell_type": "code",
      "metadata": {
        "id": "NJs2FfFck_iB",
        "colab_type": "code",
        "colab": {}
      },
      "source": [
        "from sklearn.metrics import accuracy_score"
      ],
      "execution_count": 0,
      "outputs": []
    },
    {
      "cell_type": "code",
      "metadata": {
        "id": "0PozYgwDk_iJ",
        "colab_type": "code",
        "colab": {
          "base_uri": "https://localhost:8080/",
          "height": 34
        },
        "outputId": "7158df34-6714-47f6-be0e-92a659c9751c"
      },
      "source": [
        "accuracy_score(test_y, y_pred)"
      ],
      "execution_count": 146,
      "outputs": [
        {
          "output_type": "execute_result",
          "data": {
            "text/plain": [
              "0.841"
            ]
          },
          "metadata": {
            "tags": []
          },
          "execution_count": 146
        }
      ]
    },
    {
      "cell_type": "code",
      "metadata": {
        "id": "MfkzrfDWk_iU",
        "colab_type": "code",
        "colab": {}
      },
      "source": [
        ""
      ],
      "execution_count": 0,
      "outputs": []
    }
  ]
}